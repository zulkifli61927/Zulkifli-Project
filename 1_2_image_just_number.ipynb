{
  "cells": [
    {
      "cell_type": "markdown",
      "metadata": {
        "id": "wJy7Vq6_ESu9"
      },
      "source": [
        "# Introduction To Computer Vision with Deep Learning"
      ]
    },
    {
      "cell_type": "markdown",
      "metadata": {
        "id": "xKeyG-TZESvA"
      },
      "source": [
        "### Image is Just a Number\n",
        "Gambar di komputer hanyalah angka, lalu kenapa kita melihatnya berbeda? <br/>\n",
        "Angka tersebut di olah lagi untuk di tampilkan ke lcd melalui graphic card ke LCD/LED monitor sehingga terlihat sebagai gambar yang manusia mengerti. Tapi bagi komputer semua itu hanya angka.\n",
        "\n",
        "#### Mari kita buktikan!"
      ]
    },
    {
      "cell_type": "code",
      "execution_count": null,
      "metadata": {
        "id": "vsGufpv3ESvB"
      },
      "outputs": [],
      "source": [
        "# show matplotlib in browser\n",
        "%matplotlib inline \n",
        "\n",
        "# visualization\n",
        "import matplotlib\n",
        "import matplotlib.pyplot as plt\n",
        "\n",
        "# computational engine\n",
        "import numpy as np\n",
        "\n",
        "# image processing\n",
        "from skimage import io, color, feature, transform"
      ]
    },
    {
      "cell_type": "code",
      "source": [
        "from google.colab import drive\n",
        "drive.mount('/content/drive')"
      ],
      "metadata": {
        "colab": {
          "base_uri": "https://localhost:8080/"
        },
        "id": "WeZthLP8E4K-",
        "outputId": "c4361754-6cd2-4f42-b6b5-18fe53ffc8b4"
      },
      "execution_count": null,
      "outputs": [
        {
          "output_type": "stream",
          "name": "stdout",
          "text": [
            "Mounted at /content/drive\n"
          ]
        }
      ]
    },
    {
      "cell_type": "code",
      "source": [
        "base_dir = 'drive/MyDrive/Colab Notebooks/LogikaUI/logikaui-ml-intro/'"
      ],
      "metadata": {
        "id": "ZvPvHFZEE4NY"
      },
      "execution_count": null,
      "outputs": []
    },
    {
      "cell_type": "code",
      "execution_count": null,
      "metadata": {
        "colab": {
          "base_uri": "https://localhost:8080/",
          "height": 283
        },
        "id": "CenPh5uPESvB",
        "outputId": "5a9862d9-c947-4cac-ef03-3209ea7c455c"
      },
      "outputs": [
        {
          "output_type": "execute_result",
          "data": {
            "text/plain": [
              "<matplotlib.image.AxesImage at 0x7fc69aa81ca0>"
            ]
          },
          "metadata": {},
          "execution_count": 4
        },
        {
          "output_type": "display_data",
          "data": {
            "text/plain": [
              "<Figure size 432x288 with 1 Axes>"
            ],
            "image/png": "[encoded data removed]"
          },
          "metadata": {
            "needs_background": "light"
          }
        }
      ],
      "source": [
        "img = io.imread(base_dir + 'assets/pin_small.png')\n",
        "plt.imshow(img, cmap='gray')"
      ]
    },
    {
      "cell_type": "code",
      "execution_count": null,
      "metadata": {
        "colab": {
          "base_uri": "https://localhost:8080/"
        },
        "id": "WUxEn_NlESvC",
        "outputId": "9c5ee2da-eb5d-4069-9412-0a3e74ccbc6f"
      },
      "outputs": [
        {
          "output_type": "execute_result",
          "data": {
            "text/plain": [
              "array([[[  0,   0,   0, 255],\n",
              "        [  5,   5,   5, 255],\n",
              "        [110, 107, 104, 255],\n",
              "        ...,\n",
              "        [110, 107, 104, 255],\n",
              "        [  5,   5,   5, 255],\n",
              "        [  0,   0,   0, 255]],\n",
              "\n",
              "       [[  5,   5,   5, 255],\n",
              "        [170, 166, 160, 255],\n",
              "        [227, 221, 213, 255],\n",
              "        ...,\n",
              "        [227, 221, 213, 255],\n",
              "        [170, 166, 160, 255],\n",
              "        [  5,   5,   5, 255]],\n",
              "\n",
              "       [[110, 107, 104, 255],\n",
              "        [227, 221, 213, 255],\n",
              "        [227, 221, 213, 255],\n",
              "        ...,\n",
              "        [227, 221, 213, 255],\n",
              "        [227, 221, 213, 255],\n",
              "        [110, 107, 104, 255]],\n",
              "\n",
              "       ...,\n",
              "\n",
              "       [[110, 107, 104, 255],\n",
              "        [227, 221, 213, 255],\n",
              "        [227, 221, 213, 255],\n",
              "        ...,\n",
              "        [227, 221, 213, 255],\n",
              "        [227, 221, 213, 255],\n",
              "        [110, 107, 104, 255]],\n",
              "\n",
              "       [[  5,   5,   5, 255],\n",
              "        [170, 166, 160, 255],\n",
              "        [227, 221, 213, 255],\n",
              "        ...,\n",
              "        [227, 221, 213, 255],\n",
              "        [170, 166, 160, 255],\n",
              "        [  5,   5,   5, 255]],\n",
              "\n",
              "       [[  0,   0,   0, 255],\n",
              "        [  5,   5,   5, 255],\n",
              "        [110, 107, 104, 255],\n",
              "        ...,\n",
              "        [110, 107, 104, 255],\n",
              "        [  5,   5,   5, 255],\n",
              "        [  0,   0,   0, 255]]], dtype=uint8)"
            ]
          },
          "metadata": {},
          "execution_count": 5
        }
      ],
      "source": [
        "img"
      ]
    },
    {
      "cell_type": "code",
      "execution_count": null,
      "metadata": {
        "colab": {
          "base_uri": "https://localhost:8080/"
        },
        "id": "pNi1rbnBESvC",
        "outputId": "3bd11100-b9dd-4d26-f9d9-ac7ab2528989"
      },
      "outputs": [
        {
          "output_type": "execute_result",
          "data": {
            "text/plain": [
              "numpy.ndarray"
            ]
          },
          "metadata": {},
          "execution_count": 6
        }
      ],
      "source": [
        "type(img)"
      ]
    },
    {
      "cell_type": "markdown",
      "metadata": {
        "id": "AhpvxaYpESvD"
      },
      "source": [
        "#### Okey, if its a number then we can create it, isn it?\n",
        "Lets create one!"
      ]
    },
    {
      "cell_type": "code",
      "execution_count": null,
      "metadata": {
        "colab": {
          "base_uri": "https://localhost:8080/",
          "height": 287
        },
        "id": "jQQys8hBESvD",
        "outputId": "165d734a-de18-4aed-dfd1-03af2e8d0b03"
      },
      "outputs": [
        {
          "output_type": "execute_result",
          "data": {
            "text/plain": [
              "<matplotlib.image.AxesImage at 0x7fc69a5546d0>"
            ]
          },
          "metadata": {},
          "execution_count": 7
        },
        {
          "output_type": "display_data",
          "data": {
            "text/plain": [
              "<Figure size 432x288 with 1 Axes>"
            ],
            "image/png": "[encoded data removed]"
          },
          "metadata": {
            "needs_background": "light"
          }
        }
      ],
      "source": [
        "img2 = [\n",
        "    [1,1,1],\n",
        "    [1,0,1],\n",
        "    [1,1,1]\n",
        "]\n",
        "\n",
        "img2 = np.array(img2)\n",
        "plt.imshow(img2, cmap='gray')"
      ]
    },
    {
      "cell_type": "code",
      "execution_count": null,
      "metadata": {
        "colab": {
          "base_uri": "https://localhost:8080/",
          "height": 287
        },
        "id": "h9bVVq4kESvD",
        "outputId": "22ba2a08-85b4-4b38-c6a7-f1a44b809548"
      },
      "outputs": [
        {
          "output_type": "execute_result",
          "data": {
            "text/plain": [
              "<matplotlib.image.AxesImage at 0x7fc69a53adc0>"
            ]
          },
          "metadata": {},
          "execution_count": 8
        },
        {
          "output_type": "display_data",
          "data": {
            "text/plain": [
              "<Figure size 432x288 with 1 Axes>"
            ],
            "image/png": "[encoded data removed]"
          },
          "metadata": {
            "needs_background": "light"
          }
        }
      ],
      "source": [
        "img3 = [\n",
        "    [1,0,1,0],\n",
        "    [1,0,0,1],\n",
        "    [1,0,0,1],\n",
        "    [0,1,1,1]\n",
        "]\n",
        "\n",
        "plt.imshow(img3, cmap='gray')"
      ]
    },
    {
      "cell_type": "markdown",
      "metadata": {
        "id": "CFPJOC45ESvE"
      },
      "source": [
        "#### Bikin angka random untuk jadi gambar Yuk"
      ]
    },
    {
      "cell_type": "code",
      "execution_count": null,
      "metadata": {
        "id": "gNy1kowhESvE"
      },
      "outputs": [],
      "source": [
        "img4 = np.random.randint(255, size=(10, 10))"
      ]
    },
    {
      "cell_type": "code",
      "execution_count": null,
      "metadata": {
        "colab": {
          "base_uri": "https://localhost:8080/"
        },
        "id": "c-nwogRRESvE",
        "outputId": "e47a60a4-e2c4-47c0-87fc-52c844a74955"
      },
      "outputs": [
        {
          "output_type": "execute_result",
          "data": {
            "text/plain": [
              "array([[204, 230, 123, 121,   3,  81,  23, 148, 204,  61],\n",
              "       [ 31,  68,  36, 147,  69,  49, 214, 147, 105, 168],\n",
              "       [207, 153,  95, 193,  83,  10,  86,  99,  57, 202],\n",
              "       [159, 128, 252, 133, 106, 236, 128, 186,  65, 149],\n",
              "       [105,  70, 124, 134, 143,   6,  17,  83, 200, 171],\n",
              "       [242,  67, 187,   5,  14, 240, 173,  12, 115, 176],\n",
              "       [219, 235, 124, 207, 157,  66,  34,  62,  61, 233],\n",
              "       [ 16, 246,  47, 178, 235, 178, 248,  18, 215,  95],\n",
              "       [ 64, 243, 143,  14, 212,  84, 121,  99, 163,   3],\n",
              "       [ 15,  35, 247, 247, 237, 156, 191, 189, 154,   0]])"
            ]
          },
          "metadata": {},
          "execution_count": 10
        }
      ],
      "source": [
        "img4"
      ]
    },
    {
      "cell_type": "code",
      "execution_count": null,
      "metadata": {
        "colab": {
          "base_uri": "https://localhost:8080/"
        },
        "id": "PQdf7cO_ESvE",
        "outputId": "a219bfb9-42bf-405a-ae15-dc5ae0ea9fcc"
      },
      "outputs": [
        {
          "output_type": "execute_result",
          "data": {
            "text/plain": [
              "(10, 10)"
            ]
          },
          "metadata": {},
          "execution_count": 11
        }
      ],
      "source": [
        "img4.shape"
      ]
    },
    {
      "cell_type": "code",
      "execution_count": null,
      "metadata": {
        "colab": {
          "base_uri": "https://localhost:8080/",
          "height": 283
        },
        "id": "NcBDUbOaESvE",
        "outputId": "a59493f1-dcd3-462b-e193-40815c20fdeb"
      },
      "outputs": [
        {
          "output_type": "execute_result",
          "data": {
            "text/plain": [
              "<matplotlib.image.AxesImage at 0x7fc69a50d820>"
            ]
          },
          "metadata": {},
          "execution_count": 12
        },
        {
          "output_type": "display_data",
          "data": {
            "text/plain": [
              "<Figure size 432x288 with 1 Axes>"
            ],
            "image/png": "[encoded data removed]"
          },
          "metadata": {
            "needs_background": "light"
          }
        }
      ],
      "source": [
        "# gmana rupanya gambar ini?\n",
        "plt.imshow(img4, cmap='gray')"
      ]
    },
    {
      "cell_type": "code",
      "execution_count": null,
      "metadata": {
        "colab": {
          "base_uri": "https://localhost:8080/",
          "height": 283
        },
        "id": "nxQNIEOzESvE",
        "outputId": "90e36cb2-ea36-4676-9b4a-6cedc1d163d8"
      },
      "outputs": [
        {
          "output_type": "execute_result",
          "data": {
            "text/plain": [
              "<matplotlib.image.AxesImage at 0x7fc696f39a00>"
            ]
          },
          "metadata": {},
          "execution_count": 24
        },
        {
          "output_type": "display_data",
          "data": {
            "text/plain": [
              "<Figure size 432x288 with 1 Axes>"
            ],
            "image/png": "[encoded data removed]"
          },
          "metadata": {
            "needs_background": "light"
          }
        }
      ],
      "source": [
        "# > < =, np.mean, np.average, np.max, np.min\n",
        "show1 = img4 == np.min(img4)\n",
        "show2 = img4 == np.max(img4)\n",
        "\n",
        "show = img4 > np.mean(img4)\n",
        "plt.imshow(show, cmap='gray')\n"
      ]
    },
    {
      "cell_type": "code",
      "source": [
        "plt.imshow(show1, cmap='gray')"
      ],
      "metadata": {
        "colab": {
          "base_uri": "https://localhost:8080/",
          "height": 283
        },
        "id": "xaXO9qKGHUE_",
        "outputId": "ac78fe30-33d4-433b-c06e-c28d07b07333"
      },
      "execution_count": null,
      "outputs": [
        {
          "output_type": "execute_result",
          "data": {
            "text/plain": [
              "<matplotlib.image.AxesImage at 0x7fc696f0b730>"
            ]
          },
          "metadata": {},
          "execution_count": 25
        },
        {
          "output_type": "display_data",
          "data": {
            "text/plain": [
              "<Figure size 432x288 with 1 Axes>"
            ],
            "image/png": "[encoded data removed]"
          },
          "metadata": {
            "needs_background": "light"
          }
        }
      ]
    },
    {
      "cell_type": "code",
      "source": [
        "plt.imshow(show2, cmap='gray')"
      ],
      "metadata": {
        "id": "lfG4cQV8HVgO",
        "outputId": "e38935fb-6dfc-4287-d525-3ff6f93dd489",
        "colab": {
          "base_uri": "https://localhost:8080/",
          "height": 283
        }
      },
      "execution_count": null,
      "outputs": [
        {
          "output_type": "execute_result",
          "data": {
            "text/plain": [
              "<matplotlib.image.AxesImage at 0x7fc696e5a910>"
            ]
          },
          "metadata": {},
          "execution_count": 26
        },
        {
          "output_type": "display_data",
          "data": {
            "text/plain": [
              "<Figure size 432x288 with 1 Axes>"
            ],
            "image/png": "[encoded data removed]"
          },
          "metadata": {
            "needs_background": "light"
          }
        }
      ]
    },
    {
      "cell_type": "code",
      "execution_count": null,
      "metadata": {
        "colab": {
          "base_uri": "https://localhost:8080/",
          "height": 283
        },
        "id": "LuV5_VKaESvE",
        "outputId": "f08c024f-bfe1-4d1e-c4ff-eb3dfe9eb9fa"
      },
      "outputs": [
        {
          "output_type": "execute_result",
          "data": {
            "text/plain": [
              "<matplotlib.image.AxesImage at 0x7fc69a445310>"
            ]
          },
          "metadata": {},
          "execution_count": 14
        },
        {
          "output_type": "display_data",
          "data": {
            "text/plain": [
              "<Figure size 432x288 with 1 Axes>"
            ],
            "image/png": "[encoded data removed]"
          },
          "metadata": {
            "needs_background": "light"
          }
        }
      ],
      "source": [
        "# kalau gambar berwarna gmana (RGB)?\n",
        "warna = np.array([\n",
        "    [[255,255,0],[0,255,0],[0,0,255],[255,0,0],[0,255,0]],\n",
        "    [[0,255,0],[0,0,255],[255,0,0],[0,255,0],[0,0,255]],\n",
        "    [[0,0,255],[255,0,0],[0,255,0],[0,0,255],[255,0,0]],\n",
        "    [[0,255,0],[0,0,255],[255,0,0],[0,255,0],[0,0,255]],\n",
        "    [[0,0,255],[255,0,0],[0,255,0],[0,0,255],[255,0,0]],\n",
        "]).astype('uint8')\n",
        "\n",
        "plt.imshow(warna, cmap='gray')"
      ]
    },
    {
      "cell_type": "code",
      "execution_count": null,
      "metadata": {
        "colab": {
          "base_uri": "https://localhost:8080/"
        },
        "id": "npJKKkg2ESvF",
        "outputId": "bab633f7-751d-42cc-ee68-aa4619a32636"
      },
      "outputs": [
        {
          "output_type": "execute_result",
          "data": {
            "text/plain": [
              "(5, 5, 3)"
            ]
          },
          "metadata": {},
          "execution_count": 15
        }
      ],
      "source": [
        "warna.shape"
      ]
    },
    {
      "cell_type": "markdown",
      "metadata": {
        "id": "ROTmuYUPESvF"
      },
      "source": [
        "### Cobain Gambar Beneran Hayo.."
      ]
    },
    {
      "cell_type": "code",
      "execution_count": null,
      "metadata": {
        "colab": {
          "base_uri": "https://localhost:8080/",
          "height": 183
        },
        "id": "L9Ji4p7WESvF",
        "outputId": "48a6c611-0004-485a-db00-5b35cb4d4f78"
      },
      "outputs": [
        {
          "output_type": "error",
          "ename": "NameError",
          "evalue": "ignored",
          "traceback": [
            "\u001b[0;31m---------------------------------------------------------------------------\u001b[0m",
            "\u001b[0;31mNameError\u001b[0m                                 Traceback (most recent call last)",
            "\u001b[0;32m<ipython-input-3-279de326c930>\u001b[0m in \u001b[0;36m<module>\u001b[0;34m\u001b[0m\n\u001b[0;32m----> 1\u001b[0;31m \u001b[0mgoogle\u001b[0m \u001b[0;34m=\u001b[0m \u001b[0mio\u001b[0m\u001b[0;34m.\u001b[0m\u001b[0mimread\u001b[0m\u001b[0;34m(\u001b[0m\u001b[0mbase_dir\u001b[0m \u001b[0;34m+\u001b[0m \u001b[0;34m'assets/google-plus-logo.jpg'\u001b[0m\u001b[0;34m)\u001b[0m\u001b[0;34m\u001b[0m\u001b[0;34m\u001b[0m\u001b[0m\n\u001b[0m\u001b[1;32m      2\u001b[0m \u001b[0mplt\u001b[0m\u001b[0;34m.\u001b[0m\u001b[0mimshow\u001b[0m\u001b[0;34m(\u001b[0m\u001b[0mgoogle\u001b[0m\u001b[0;34m)\u001b[0m\u001b[0;34m\u001b[0m\u001b[0;34m\u001b[0m\u001b[0m\n",
            "\u001b[0;31mNameError\u001b[0m: name 'base_dir' is not defined"
          ]
        }
      ],
      "source": [
        "google = io.imread(base_dir + 'assets/google-plus-logo.jpg')\n",
        "plt.imshow(google)"
      ]
    },
    {
      "cell_type": "code",
      "source": [
        "google_bw = color.rgb2gray(google)\n",
        "plt.imshow(google_bw, cmap='gray')"
      ],
      "metadata": {
        "colab": {
          "base_uri": "https://localhost:8080/",
          "height": 287
        },
        "id": "xh1Wx7hoGXE0",
        "outputId": "4e2ed77c-62ae-4d12-f5bf-4eb00d0e7c55"
      },
      "execution_count": null,
      "outputs": [
        {
          "output_type": "execute_result",
          "data": {
            "text/plain": [
              "<matplotlib.image.AxesImage at 0x7fc69a3caf40>"
            ]
          },
          "metadata": {},
          "execution_count": 17
        },
        {
          "output_type": "display_data",
          "data": {
            "text/plain": [
              "<Figure size 432x288 with 1 Axes>"
            ],
            "image/png": "[encoded data removed]"
          },
          "metadata": {
            "needs_background": "light"
          }
        }
      ]
    },
    {
      "cell_type": "code",
      "source": [
        "rescaled_google = transform.rescale(google_bw, 0.01, anti_aliasing=False)"
      ],
      "metadata": {
        "id": "Ck87GWdPFzV3"
      },
      "execution_count": null,
      "outputs": []
    },
    {
      "cell_type": "code",
      "execution_count": null,
      "metadata": {
        "colab": {
          "base_uri": "https://localhost:8080/",
          "height": 283
        },
        "id": "jIckVX_3ESvF",
        "outputId": "783fa911-cb80-4634-c2b8-b165a187cc15"
      },
      "outputs": [
        {
          "output_type": "execute_result",
          "data": {
            "text/plain": [
              "<matplotlib.image.AxesImage at 0x7fc69a335370>"
            ]
          },
          "metadata": {},
          "execution_count": 19
        },
        {
          "output_type": "display_data",
          "data": {
            "text/plain": [
              "<Figure size 432x288 with 1 Axes>"
            ],
            "image/png": "[encoded data removed]"
          },
          "metadata": {
            "needs_background": "light"
          }
        }
      ],
      "source": [
        "plt.imshow(rescaled_google, cmap='gray')"
      ]
    },
    {
      "cell_type": "code",
      "execution_count": null,
      "metadata": {
        "colab": {
          "base_uri": "https://localhost:8080/",
          "height": 283
        },
        "id": "3HqA2SkXESvF",
        "outputId": "d3b51220-dbd1-48b1-8377-566df3784dfe"
      },
      "outputs": [
        {
          "output_type": "execute_result",
          "data": {
            "text/plain": [
              "<matplotlib.image.AxesImage at 0x7fc697b0db50>"
            ]
          },
          "metadata": {},
          "execution_count": 20
        },
        {
          "output_type": "display_data",
          "data": {
            "text/plain": [
              "<Figure size 432x288 with 1 Axes>"
            ],
            "image/png": "[encoded data removed]"
          },
          "metadata": {
            "needs_background": "light"
          }
        }
      ],
      "source": [
        "# zoom in ke huruf G gmana?\n",
        "zoom = rescaled_google[4:9,10:15]\n",
        "plt.imshow(zoom, cmap='gray')"
      ]
    },
    {
      "cell_type": "code",
      "execution_count": null,
      "metadata": {
        "colab": {
          "base_uri": "https://localhost:8080/"
        },
        "id": "vKBa-bD8ESvF",
        "outputId": "264b4f04-2e0a-40e6-ec70-079ce9fd2616"
      },
      "outputs": [
        {
          "output_type": "execute_result",
          "data": {
            "text/plain": [
              "(5, 5)"
            ]
          },
          "metadata": {},
          "execution_count": 21
        }
      ],
      "source": [
        "zoom.shape"
      ]
    },
    {
      "cell_type": "code",
      "execution_count": null,
      "metadata": {
        "colab": {
          "base_uri": "https://localhost:8080/"
        },
        "id": "pjjnZFbRESvG",
        "outputId": "a909b361-a22b-4b20-d70d-5a64b0e54d7f"
      },
      "outputs": [
        {
          "output_type": "stream",
          "name": "stdout",
          "text": [
            "[[0. 0. 0. 0. 0.]\n",
            " [0. 0. 1. 0. 0.]\n",
            " [0. 1. 1. 1. 0.]\n",
            " [0. 0. 1. 0. 0.]\n",
            " [0. 0. 0. 0. 0.]]\n"
          ]
        }
      ],
      "source": [
        "r = np.round(zoom)\n",
        "print(r)"
      ]
    },
    {
      "cell_type": "code",
      "execution_count": null,
      "metadata": {
        "id": "UDmfTixZESvG"
      },
      "outputs": [],
      "source": []
    },
    {
      "cell_type": "markdown",
      "source": [
        "# Studi kasus\n",
        "\n",
        "1. Muat dan jadikan gambar BW dari logo facebook (cek assets pada google drive)\n",
        "2. Potong gambar (tampilkan sebelum dan sesudah)\n",
        "    - logo google dengan hanya menampilkan huruf G\n",
        "    - logo facebook dengan hanya menampilkan huruf F\n",
        "    - logo facebook dengan hanya menampilkan kata `faceebok` tanpa huruf F\n",
        "\n",
        "3. Buat bentuk-bentuk berikut dan tampilkan sebagai `image` menggunakan `matplotlib.pyplot`. Gunakan perulangan dan kondisional.\n",
        "    - Persegi\n",
        "    - Persegi panjang\n",
        "    - Segitiga\n",
        "    - Segitiga terbalik\n",
        "    - Huruf `L` (kapital)\n",
        "\n",
        "4. Tuliskan apa saja yang anda dapatkan dari materi `image just a number` ini!"
      ],
      "metadata": {
        "id": "-tPT2jwQLhtF"
      }
    },
    {
      "cell_type": "code",
      "source": [
        "fb_g = '/content/drive/MyDrive/logikaui-ml-intro/assets/facebook-logo.png'"
      ],
      "metadata": {
        "id": "ppoFSHxMLj6O"
      },
      "execution_count": null,
      "outputs": []
    },
    {
      "cell_type": "code",
      "source": [
        "facebook = io.imread(fb_g)\n",
        "plt.imshow(facebook)"
      ],
      "metadata": {
        "colab": {
          "base_uri": "https://localhost:8080/",
          "height": 286
        },
        "id": "mt0mo5P0_iGr",
        "outputId": "d8fea20a-d703-4fc6-b137-c339d55eaa1d"
      },
      "execution_count": null,
      "outputs": [
        {
          "output_type": "execute_result",
          "data": {
            "text/plain": [
              "<matplotlib.image.AxesImage at 0x7fae01b41610>"
            ]
          },
          "metadata": {},
          "execution_count": 10
        },
        {
          "output_type": "display_data",
          "data": {
            "text/plain": [
              "<Figure size 432x288 with 1 Axes>"
            ],
            "image/png": "[encoded data removed]"
          },
          "metadata": {
            "needs_background": "light"
          }
        }
      ]
    },
    {
      "cell_type": "code",
      "source": [
        "facebook_bw = color.rgb2gray(facebook)\n",
        "plt.imshow(facebook_bw, cmap='gray')"
      ],
      "metadata": {
        "colab": {
          "base_uri": "https://localhost:8080/",
          "height": 341
        },
        "id": "vc_1z4tm_0JC",
        "outputId": "847de521-06d0-423e-d2e5-cbea03cdebf0"
      },
      "execution_count": null,
      "outputs": [
        {
          "output_type": "stream",
          "name": "stderr",
          "text": [
            "<ipython-input-11-c314e98759d5>:1: FutureWarning: Non RGB image conversion is now deprecated. For RGBA images, please use rgb2gray(rgba2rgb(rgb)) instead. In version 0.19, a ValueError will be raised if input image last dimension length is not 3.\n",
            "  facebook_bw = color.rgb2gray(facebook)\n"
          ]
        },
        {
          "output_type": "execute_result",
          "data": {
            "text/plain": [
              "<matplotlib.image.AxesImage at 0x7fae01acc5e0>"
            ]
          },
          "metadata": {},
          "execution_count": 11
        },
        {
          "output_type": "display_data",
          "data": {
            "text/plain": [
              "<Figure size 432x288 with 1 Axes>"
            ],
            "image/png": "[encoded data removed]"
          },
          "metadata": {
            "needs_background": "light"
          }
        }
      ]
    },
    {
      "cell_type": "code",
      "source": [
        "rescaled_facebook = transform.rescale(facebook_bw, 0.1, anti_aliasing=False)"
      ],
      "metadata": {
        "id": "f_bBoxM3_OBW"
      },
      "execution_count": null,
      "outputs": []
    },
    {
      "cell_type": "code",
      "source": [
        "plt.imshow(rescaled_facebook, cmap='gray')"
      ],
      "metadata": {
        "colab": {
          "base_uri": "https://localhost:8080/",
          "height": 283
        },
        "id": "Cq_M2sLkAMHp",
        "outputId": "97e5fee0-063f-4e13-9970-ae1dfae9e8bf"
      },
      "execution_count": null,
      "outputs": [
        {
          "output_type": "execute_result",
          "data": {
            "text/plain": [
              "<matplotlib.image.AxesImage at 0x7fadff211f10>"
            ]
          },
          "metadata": {},
          "execution_count": 15
        },
        {
          "output_type": "display_data",
          "data": {
            "text/plain": [
              "<Figure size 432x288 with 1 Axes>"
            ],
            "image/png": "[encoded data removed]"
          },
          "metadata": {
            "needs_background": "light"
          }
        }
      ]
    },
    {
      "cell_type": "code",
      "source": [
        "zoom = rescaled_facebook[5:30,13:25]\n",
        "plt.imshow(zoom, cmap='gray')"
      ],
      "metadata": {
        "id": "r2OfmrSQAU_c",
        "colab": {
          "base_uri": "https://localhost:8080/",
          "height": 282
        },
        "outputId": "c6b25125-215a-4bac-8ffb-78e4513c4cdb"
      },
      "execution_count": null,
      "outputs": [
        {
          "output_type": "execute_result",
          "data": {
            "text/plain": [
              "<matplotlib.image.AxesImage at 0x7fadff04cf40>"
            ]
          },
          "metadata": {},
          "execution_count": 22
        },
        {
          "output_type": "display_data",
          "data": {
            "text/plain": [
              "<Figure size 432x288 with 1 Axes>"
            ],
            "image/png": "[encoded data removed]"
          },
          "metadata": {
            "needs_background": "light"
          }
        }
      ]
    }
  ],
  "metadata": {
    "kernelspec": {
      "display_name": "Python 3",
      "name": "python3"
    },
    "language_info": {
      "name": "python"
    },
    "colab": {
      "provenance": []
    },
    "gpuClass": "standard"
  },
  "nbformat": 4,
  "nbformat_minor": 0
}