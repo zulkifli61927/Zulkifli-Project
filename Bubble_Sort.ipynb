{
  "nbformat": 4,
  "nbformat_minor": 0,
  "metadata": {
    "colab": {
      "provenance": []
    },
    "kernelspec": {
      "name": "python3",
      "display_name": "Python 3"
    },
    "language_info": {
      "name": "python"
    }
  },
  "cells": [
    {
      "cell_type": "code",
      "metadata": {
        "id": "h3c4Cf5yjo65",
        "colab": {
          "base_uri": "https://localhost:8080/"
        },
        "outputId": "25febecf-3acb-4f6d-ff24-982a1c36851e"
      },
      "source": [
        "def bubble_sort(L):\n",
        "  N = len(L)\n",
        "  for i in range(0,N-1):\n",
        "    for j in range(i+1,N):\n",
        "      if L[j] < L[i]:\n",
        "        L[i], L[j] = L[j], L[i]\n",
        "      j =+ 1\n",
        "    i=+1\n",
        "  return L\n",
        "\n",
        "L = [5,8,73,2,7,32,64,78,21,56]\n",
        "print(bubble_sort(L))"
      ],
      "execution_count": 8,
      "outputs": [
        {
          "output_type": "stream",
          "name": "stdout",
          "text": [
            "[2, 5, 7, 8, 21, 32, 56, 64, 73, 78]\n"
          ]
        }
      ]
    }
  ]
}