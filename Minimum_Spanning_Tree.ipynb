{
  "nbformat": 4,
  "nbformat_minor": 0,
  "metadata": {
    "colab": {
      "provenance": []
    },
    "kernelspec": {
      "name": "python3",
      "display_name": "Python 3"
    },
    "language_info": {
      "name": "python"
    }
  },
  "cells": [
    {
      "cell_type": "code",
      "execution_count": null,
      "metadata": {
        "colab": {
          "base_uri": "https://localhost:8080/"
        },
        "id": "paZWxrtN4QYb",
        "outputId": "055e46bb-a46e-481c-d2d7-8eea5767d99d"
      },
      "outputs": [
        {
          "output_type": "stream",
          "name": "stdout",
          "text": [
            "Edge : Weight\n",
            "\n",
            "0-1:1\n",
            "0-4:2\n",
            "4-3:2\n",
            "3-2:1\n"
          ]
        }
      ],
      "source": [
        "INF = 9999999\n",
        "# number of vertices in graph\n",
        "N = 5\n",
        "#creating graph by adjacency matrix method\n",
        "G = [[0, 1, 4, 4, 2],\n",
        "     [1, 0, 6, 3, 3],\n",
        "     [4, 6, 0, 1, 3],\n",
        "     [4, 3, 1, 0, 2],\n",
        "     [2, 3, 3, 2, 0]]\n",
        "\n",
        "selected_node = [0, 0, 0, 0, 0]\n",
        "\n",
        "no_edge = 0\n",
        "\n",
        "selected_node[0] = True\n",
        "# printing for edge and weight\n",
        "print(\"Edge : Weight\\n\")\n",
        "while (no_edge < N - 1):\n",
        "    \n",
        "    minimum = INF\n",
        "    a = 0\n",
        "    b = 0\n",
        "    for m in range(N):\n",
        "        if selected_node[m]:\n",
        "            for n in range(N):\n",
        "                if ((not selected_node[n]) and G[m][n]):  \n",
        "                    # not in selected and there is an edge\n",
        "                    if minimum > G[m][n]:\n",
        "                        minimum = G[m][n]\n",
        "                        a = m\n",
        "                        b = n\n",
        "    print(str(a) + \"-\" + str(b) + \":\" + str(G[a][b]))\n",
        "    selected_node[b] = True\n",
        "    no_edge += 1"
      ]
    }
  ]
}