{
  "nbformat": 4,
  "nbformat_minor": 0,
  "metadata": {
    "colab": {
      "provenance": []
    },
    "kernelspec": {
      "name": "python3",
      "display_name": "Python 3"
    },
    "language_info": {
      "name": "python"
    }
  },
  "cells": [
    {
      "cell_type": "code",
      "metadata": {
        "id": "-ac2NRhaJ-_T",
        "colab": {
          "base_uri": "https://localhost:8080/",
          "height": 374
        },
        "outputId": "e18871be-d3e8-42cb-a7b7-6d26b06e52cc"
      },
      "source": [
        "Nomor 1)  \n",
        "\n",
        "import matplotlib.pyplot as plt          #import module\n",
        "\n",
        "titik_x = eval(input('list of x points : '))          #Input x sebagai list, contoh : [1,4,7,29]\n",
        "titik_y = eval(input('list of y points : '))          #input y adalah hasil  fungsi dari input x, oleh karena itu input x harus sejajar dengan input y sebagai hasil x.\n",
        "eval_x = eval(input('Input value to be approximated : ')) #Nilai x yang ingin diaproksimaksi nilai y nya\n",
        "\n",
        "def LagrangePol(x,x_points,y_points):     #Pendefinisian fungsi Lagrange\n",
        "  pol=0                            #set pol=0 dulu\n",
        "  n = len(x_points)             #n setara dengan banyaknya list x\n",
        "  for k in range(n):\n",
        "    L = 1                       #karena perkalian, maka set L=1\n",
        "    for i in range(n):\n",
        "      if i!=k:                  #Berarti, i tidak sama dengan k\n",
        "        L*=((x-x_points[i])/(x_points[k]-x_points[i]))      #Definisi L untuk menemukan aproksimasi y\n",
        "    pol += y_points[k]*L       #pol adalah penjumlahan dari perkalian titik y pada suatu list k dengan definisi L\n",
        "  return pol               #Hasil definisi dari fungsi lagrange, adalah pol\n",
        "   \n",
        "lag_approx = LagrangePol(eval_x,titik_x,titik_y)\n",
        "\n",
        "x = titik_x + [eval_x]              #List titik x yang ada di awal ditambah titik x yang akan diaproksimasi nilai y nya\n",
        "y = titik_y + [lag_approx]          #List titik y yang ada di awal ditambah titik y yang menjadi hasil aproksimasi dari x\n",
        "\n",
        "plt.plot(x,y)                   #Membuat plot x,y\n",
        "plt.show                       #menampilkan plot x,y\n",
        "\n",
        "def DDTableGenerator(x_points,y_points):        #Pendefinisian Divided Differences untuk metode newton forward dan backward\n",
        "  DDTable = [y_points]                   #Definisikan DDTable\n",
        "  for column in range(1,len(y_points)):     #Untuk kolomnya dimulai dari 1 hingga panjang list dari y\n",
        "    DDcolumn = []\n",
        "    for row in range(len(DDTable[-1])-1):\n",
        "      DD = (DDTable[-1][row+1]-DDTable[-1][row])                        \n",
        "      /(x_points[column+row]-x_points[row])\n",
        "      DDcolumn.append(DD)\n",
        "    DDTable.append(DDcolumn)\n",
        "  return DDTable                     #Hasil akhir DDTable\n",
        "\n",
        "def ForwardDD(x,x_points,y_points):        #Definisi metode newton forward\n",
        "  DDTable = DDTableGenerator(x_points,y_points)    \n",
        "  pol = DDTable[0][0]\n",
        "  mult_term = 1\n",
        "  for k in range(1,len(DDTable)):\n",
        "    mult_term*=(x-x_points[k-1])\n",
        "    pol+=DDTable[k][0]*mult_term\n",
        "  return pol\n",
        "\n",
        "def BackwardDD(x,x_points,y_points):          #Definisi metode newton backward\n",
        "  DDTable = DDTableGenerator(x_points,y_points)\n",
        "  pol = DDTable[0][-1]\n",
        "  mult_term = 1\n",
        "  for k in range(1,len(DDTable)):\n",
        "    mult_term*=(x-x_points[-k])\n",
        "    pol+=DDTable[k][-1]*mult_term\n",
        "  return pol\n",
        "\n",
        "forw_approx = ForwardDD(eval_x,titik_x, titik_y)\n",
        "back_approx = BackwardDD(eval_x,titik_x,titik_y)\n",
        "\n",
        "choose = eval(input('choose your preferred method (1 = Lagrange, 2 = NDD ) :' ))        #Pilih Metode yang dipakai\n",
        "\n",
        "if (choose == 1): \n",
        "       y_aproks = lag_approx                    #Pilih 1 jika mau menggunakan Lagrange, pilih yang lainnya (2) jika Newton Divided Differences\n",
        "else:\n",
        "       y_aproks = NDD\n",
        "\n",
        "chooseNDD = eval(input('Forward = 1, Backward = 2 :'))\n",
        "\n",
        "if (chooseNDD == 1): \n",
        "    NDD = forw_approx                 #Pilih 1 jika mau menggunakan forward NDD, pilih yang lainnya (2) jika NDD backward\n",
        "else:\n",
        "    NDD = back_approx\n",
        "\n",
        "\n",
        "\n",
        "print('for x = {0} , y is approximately {1:.5f}'.format(eval_x,y_aproks))"
      ],
      "execution_count": null,
      "outputs": [
        {
          "output_type": "stream",
          "text": [
            "list of x points : [2,2.15,2.25,2.3,3.38,4.1,4.24,4.5]\n",
            "list of y points : [4.9,6.4,8.1,14.1,18.1,22.1,24.9,29.1]\n",
            "Input value to be approximated : 3.5\n",
            "choose your preferred method (1 = Lagrange, 2 = NDD ) :2\n",
            "Forward = 1, Backward = 2 :1\n",
            "for x = 3.5 , y is approximately 7.64553\n"
          ],
          "name": "stdout"
        },
        {
          "output_type": "display_data",
          "data": {
            "image/png": "[encoded data removed]",
            "text/plain": [
              "<Figure size 432x288 with 1 Axes>"
            ]
          },
          "metadata": {
            "tags": [],
            "needs_background": "light"
          }
        }
      ]
    },
    {
      "cell_type": "markdown",
      "metadata": {
        "id": "Gk7t0VRf6Skm"
      },
      "source": [
        "Algoritma :\n",
        "1. Masukkan Input yang akan dipakai, yaitu titik x, titik y, dan titik x yang akan diaproksimasi nilai y nya.\n",
        "2. Terdapat 3 metode yang dipakai, yaitu Lagrange, NDD forward dan NDD backward.\n",
        "3. Pada Lagrange, Algoritmanya :\n",
        "          1) set pol = 1\n",
        "          2) definisikan L\n",
        "          3) ulangi atau looping L hingga semua pasangan x dan y tercapai\n",
        "          4) Jumlahkan semua L nya\n",
        "4. Pada NDD, harus ada pendefinisian terlebih dahulu bagaimana table akan bekerja.\n",
        "5. Pada NDD forward, dimulai dari [0][0]. Yang diartikan sebagai dari x 0 dan y0. dan definisikan juga multiple termnya. nanti hasil keseluruhannya adalah jumlahan dari perkalian multiple dengan apa yang dihasilkan pada tabel.\n",
        "6. Pada NDD backward, dimulai dari [0][-1]. Yang mengartikan dari kolom y yang paling akhir. dan definisikan juga multiple termnya. nanti hasil keseluruhannya adalah jumlahan dari perkalian multiple dengan apa yang dihasilkan pada tabel.\n",
        "7. Setelah semua didefinisikan, maka sekarang tinggal eksekusi.\n",
        "8. Jika pilih satu, maka artinya pilih metode lagrange\n",
        "9. Jika pilih yang lainnya, maka artinya pilih metode NDD. Jika memilih NDD, nanti akan ada pilihan jika 1 maka forward, jika 2 maka backward.\n",
        "10. Hasilnya tersedia untuk masing-masing metode"
      ]
    },
    {
      "cell_type": "code",
      "metadata": {
        "id": "MYdjydTG3L1s"
      },
      "source": [
        "Nomor 2)\n",
        "\n",
        "Ketika memakai Metode lagrange hasil aproksimasinya adalah -18.68276\n",
        "Ketika memakai Metode NDD forward hasil aproksimasinya adalah 7.64552\n",
        "Ketika memakai Metode NDD backward hasil aproksimasinya adaalah 17.3987\n",
        "\n",
        "Saya pikir diantara ketiganya tidak ada yang tepat, karena harusnya berada pada interval [18.1,22.1]"
      ],
      "execution_count": null,
      "outputs": []
    }
  ]
}