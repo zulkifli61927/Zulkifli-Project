{
  "cells": [
    {
      "cell_type": "code",
      "source": [
        "#import module yang dibutuhkan\n",
        "from math import sqrt\n",
        "import numpy as np\n",
        "import matplotlib.pyplot as plt\n",
        "import pylab as pl\n",
        "%matplotlib inline\n",
        "\n",
        "\n",
        "X_i = [] #array untuk himpunan nilai X dengan a dan b yang berbeda\n",
        "y_i = [] #array untuk himpunan nilai y dengan a dan b yang berbeda\n",
        "i = 1\n",
        "sum = 0\n",
        "grad_1 = 0\n",
        "while i <= 20:\n",
        "  a, b = 1, -2\n",
        "  X = np.random.randint(20)\n",
        "  X_i.append(X)\n",
        "  y = a*X + b + np.random.randint(20)\n",
        "  y_i.append(y)\n",
        "  plt.scatter(X, y, color = 'blue')\n",
        "  sum = sum + (y - a*X - b)**2 #Jumlahan dari kuadrat errornya\n",
        "  grad_1 = grad_1 + (y - a*X - b) #Gradien error pada bobot\n",
        "  grad_2 = grad_1*X #Gradien error pada bobot\n",
        "  a = a - 0.01*grad_1 #update nilai a\n",
        "  b = b - 0.01*grad_2 #update nilai b\n",
        "  i = i+1\n",
        "\n",
        "Jumlah_X = 0\n",
        "Jumlah_y = 0\n",
        "Jumlah_X2 = 0\n",
        "Jumlah_y2 = 0\n",
        "Jumlah_Xy = 0\n",
        "i = 0\n",
        "while i <= 19:\n",
        "  Jumlah_X = Jumlah_X + X_i[i] #Jumlahan data x\n",
        "  Jumlah_y = Jumlah_y + y_i[i] #jumlahan data y\n",
        "  Jumlah_X2 = Jumlah_X2 + (X_i[i])**2 #jumlahan data x kuadrat\n",
        "  Jumlah_y2 = Jumlah_y2 + (y_i[i])**2 #jumlahan data y kuadrat \n",
        "  Jumlah_Xy = Jumlah_Xy + (X_i[i])*(y_i[i]) #jumlahan data xy\n",
        "  i = i + 1\n",
        "\n",
        "coef = ((20*Jumlah_Xy)-(Jumlah_X)*(Jumlah_y))/(20*Jumlah_X2 - (Jumlah_X)**2) #hitung koefisien\n",
        "inter = ((Jumlah_y*Jumlah_X2) - (Jumlah_X*Jumlah_Xy))/(20*Jumlah_X2 - (Jumlah_X)**2) #hitung intercept\n",
        "\n",
        "print('koefisien',coef)\n",
        "print('intercept',inter)\n",
        "\n",
        "print('RMSE = ', sqrt(sum/20) ) #Hitung RMSE\n",
        "#Buat plot yang diminta\n",
        "t = np.linspace(0,20,100)\n",
        "f = coef*t + inter\n",
        "plt.plot(t, f, '-r')\n",
        "plt.xlabel('x', color='#1C2833')\n",
        "plt.ylabel('y', color='#1C2833')\n",
        "plt.grid()\n",
        "plt.xlabel(\"X\")\n",
        "plt.ylabel(\"y\")\n",
        "plt.show()"
      ],
      "metadata": {
        "colab": {
          "base_uri": "https://localhost:8080/",
          "height": 335
        },
        "id": "Ibse7eMuuDfN",
        "outputId": "629f8fb1-f579-4bf7-808c-090a6086e043"
      },
      "execution_count": null,
      "outputs": [
        {
          "output_type": "stream",
          "name": "stdout",
          "text": [
            "koefisien 1.261809903244166\n",
            "intercept 3.2484348321001706\n",
            "RMSE =  9.492101980067428\n"
          ]
        },
        {
          "output_type": "display_data",
          "data": {
            "text/plain": [
              "<Figure size 432x288 with 1 Axes>"
            ],
            "image/png": "[encoded data removed]"
          },
          "metadata": {
            "needs_background": "light"
          }
        }
      ]
    },
    {
      "cell_type": "markdown",
      "source": [
        "Algoritma:\n",
        "1. input bobot awal a dan bias b\n",
        "2. Hitung jumlahan kuadrat error\n",
        "2. hitung error gradien pada bobot data artifisial $\\sum (y_{pred} - y)$ dan $\\sum (y_{pred} - y)X$\n",
        "3. update nilai a dan b dengan rumus\n",
        "$a = a - 0.01\\sum (y_{pred} - y)$\n",
        "$b = b - 0.01\\sum (y_{pred} - y)X$\n",
        ", dimana 0.01 adalah learning rate\n",
        "4. cari nilai koefisien dan intercept dengan rumus\n",
        " ![Screenshot (52).png](data:image/png;base64,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)\n",
        "6. Hitung RMSE dengan membagi jumlahan kuadrat error dengan jumlah data = 20."
      ],
      "metadata": {
        "id": "BeYFMsmRnGmf"
      }
    },
    {
      "cell_type": "code",
      "source": [
        "import matplotlib.pyplot as plt\n",
        "from scipy import stats\n",
        "\n",
        "slope, intercept, r, p, std_err = stats.linregress(X_i, y_i)\n",
        "\n",
        "def myfunc(x):\n",
        "  return slope * x + intercept\n",
        "\n",
        "\n",
        "mymodel = list(map(myfunc, X_i))\n",
        "\n",
        "print('koefisien =', slope)\n",
        "print('intercept =', intercept)\n",
        "plt.scatter(X_i, y_i)\n",
        "plt.plot(X_i, mymodel, '-r')\n",
        "plt.grid()\n",
        "plt.show()\n",
        "\n",
        "print('RMSE = ', sqrt(sum/20) ) #Hitung RMSE"
      ],
      "metadata": {
        "colab": {
          "base_uri": "https://localhost:8080/",
          "height": 317
        },
        "id": "XsjG-IkoF8q5",
        "outputId": "737b3ab0-a6f4-4648-a649-af5b22151f8c"
      },
      "execution_count": null,
      "outputs": [
        {
          "output_type": "stream",
          "name": "stdout",
          "text": [
            "koefisien = 1.261809903244166\n",
            "intercept = 3.2484348321001715\n"
          ]
        },
        {
          "output_type": "display_data",
          "data": {
            "text/plain": [
              "<Figure size 432x288 with 1 Axes>"
            ],
            "image/png": "[encoded data removed]"
          },
          "metadata": {
            "needs_background": "light"
          }
        },
        {
          "output_type": "stream",
          "name": "stdout",
          "text": [
            "RMSE =  9.492101980067428\n"
          ]
        }
      ]
    },
    {
      "cell_type": "markdown",
      "source": [
        "KESIMPULAN : Kedua metode tersebut memberikan nilai yang sama.\n",
        "\n",
        "CATATAN:\n",
        "Mohon maaf saya menggunakan module selain scikit, karena saya tidak tahu bagaimana perlakuan untuk train x dan y jika hanya disediakan data yang berupa array"
      ],
      "metadata": {
        "id": "sCqymRhXQYDx"
      }
    }
  ],
  "metadata": {
    "colab": {
      "provenance": []
    },
    "kernelspec": {
      "display_name": "Python 3",
      "name": "python3"
    },
    "language_info": {
      "name": "python"
    }
  },
  "nbformat": 4,
  "nbformat_minor": 0
}