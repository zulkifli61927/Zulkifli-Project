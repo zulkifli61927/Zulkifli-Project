{
  "nbformat": 4,
  "nbformat_minor": 0,
  "metadata": {
    "colab": {
      "provenance": []
    },
    "kernelspec": {
      "name": "python3",
      "display_name": "Python 3"
    },
    "language_info": {
      "name": "python"
    }
  },
  "cells": [
    {
      "cell_type": "code",
      "execution_count": 1,
      "metadata": {
        "colab": {
          "base_uri": "https://localhost:8080/"
        },
        "id": "hxGKBnoa2SUV",
        "outputId": "0f1406cb-9919-4335-c15a-a6ca015ed219"
      },
      "outputs": [
        {
          "output_type": "stream",
          "name": "stdout",
          "text": [
            "5.666666666666667\n",
            "[[ 0.81649658]\n",
            " [-0.40824829]\n",
            " [ 0.40824829]]\n"
          ]
        }
      ],
      "source": [
        "import numpy as np\n",
        "  \n",
        "# Define the matrix A\n",
        "A = np.array([[4, -1, 1], [-1, 3, -2], [1, -2, 3]])\n",
        "  \n",
        "# Choose the initial vector x\n",
        "x = np.array([[1, 0, 0]]).T\n",
        "  \n",
        "# Define the tolerance for the eigenvalue\n",
        "# and eigenvector approximations\n",
        "# (i.e. the maximum allowed difference between\n",
        "# the approximations and the actual values)\n",
        "tol = 1\n",
        "  \n",
        "# Define the maximum number of iterations\n",
        "max_iter = 20\n",
        "  \n",
        "# Define the variable lam_prev to store the\n",
        "# previous approximation for the largest eigenvalue\n",
        "lam_prev = 0\n",
        "  \n",
        "# Iteratively improve the approximations\n",
        "# for the largest eigenvalue and eigenvector\n",
        "# using the power method\n",
        "for i in range(max_iter):\n",
        "    # Compute the updated approximation for the eigenvector\n",
        "    x = A @ x / np.linalg.norm(A @ x)\n",
        "  \n",
        "    # Compute the updated approximation for the largest eigenvalue\n",
        "    lam = (x.T @ A @ x) / (x.T @ x)\n",
        "  \n",
        "    # Check if the approximations have converged\n",
        "    if np.abs(lam - lam_prev) < tol:\n",
        "        break\n",
        "  \n",
        "    # Store the current approximation for the largest eigenvalue\n",
        "    lam_prev = lam\n",
        "  \n",
        "# Print the approximations for the\n",
        "# largest eigenvalue and eigenvector\n",
        "print(float(lam))\n",
        "print(x)"
      ]
    },
    {
      "cell_type": "code",
      "source": [
        "import numpy as np\n",
        "import sys\n",
        "\n",
        "X = []\n",
        "Y = []\n",
        "# Reading order of matrix\n",
        "n = int(input('Enter order of matrix: '))\n",
        "\n",
        "# Making numpy array of n x n size and initializing \n",
        "# to zero for storing matrix\n",
        "a = np.zeros((n,n))\n",
        "\n",
        "# Reading matrix\n",
        "print('Enter Matrix Coefficients:')\n",
        "for i in range(n):\n",
        "    for j in range(n):\n",
        "        a[i][j] = float(input( 'a['+str(i)+']['+ str(j)+']='))\n",
        "\n",
        "# Making numpy array n x 1 size and initializing to zero\n",
        "# for storing initial guess vector\n",
        "x = np.zeros((n))\n",
        "\n",
        "# Reading initial guess vector\n",
        "print('Enter initial guess vector: ')\n",
        "for i in range(n):\n",
        "    x[i] = float(input( 'x['+str(i)+']='))\n",
        "\n",
        "# Reading tolerable error\n",
        "tolerable_error = float(input('Enter tolerable error: '))\n",
        "\n",
        "# Reading maximum number of steps\n",
        "max_iteration = int(input('Enter maximum number of steps: '))\n",
        "\n",
        "# Power Method Implementation\n",
        "lambda_old = 1.0\n",
        "condition =  True\n",
        "step = 1\n",
        "while condition:\n",
        "    # Multiplying a and x\n",
        "    x = np.matmul(a,x)\n",
        "    \n",
        "    # Finding new Eigen value and Eigen vector\n",
        "    lambda_new = max(abs(x))\n",
        "    \n",
        "    x = x/lambda_new\n",
        "    \n",
        "    # Displaying Eigen value and Eigen Vector\n",
        "    print('\\nSTEP %d' %(step))\n",
        "    print('----------')\n",
        "    print('Eigen Value = %0.4f' %(lambda_new))\n",
        "    print('Eigen Vector: ')\n",
        "    for i in range(n):\n",
        "        X.append(i)\n",
        "        print('%0.3f\\t' % (x[i]))\n",
        "    \n",
        "    # Checking maximum iteration\n",
        "    step = step + 1\n",
        "    if step > max_iteration:\n",
        "        print('Not convergent in given maximum iteration!')\n",
        "        break\n",
        "    \n",
        "    # Calculating error\n",
        "    error = abs(lambda_new - lambda_old)\n",
        "    Y.append(error)\n",
        "    print('error='+ str(error))\n",
        "    lambda_old = lambda_new\n",
        "    condition = error > tolerable_error"
      ],
      "metadata": {
        "colab": {
          "base_uri": "https://localhost:8080/"
        },
        "id": "jvOIz2444dZb",
        "outputId": "b8639711-7271-4846-cb5a-90a9f3778255"
      },
      "execution_count": 2,
      "outputs": [
        {
          "output_type": "stream",
          "name": "stdout",
          "text": [
            "Enter order of matrix: 2\n",
            "Enter Matrix Coefficients:\n",
            "a[0][0]=1\n",
            "a[0][1]=2\n",
            "a[1][0]=3\n",
            "a[1][1]=4\n",
            "Enter initial guess vector: \n",
            "x[0]=1\n",
            "x[1]=2\n",
            "Enter tolerable error: 1\n",
            "Enter maximum number of steps: 10\n",
            "\n",
            "STEP 1\n",
            "----------\n",
            "Eigen Value = 11.0000\n",
            "Eigen Vector: \n",
            "0.455\t\n",
            "1.000\t\n",
            "error=10.0\n",
            "\n",
            "STEP 2\n",
            "----------\n",
            "Eigen Value = 5.3636\n",
            "Eigen Vector: \n",
            "0.458\t\n",
            "1.000\t\n",
            "error=5.636363636363637\n",
            "\n",
            "STEP 3\n",
            "----------\n",
            "Eigen Value = 5.3729\n",
            "Eigen Vector: \n",
            "0.457\t\n",
            "1.000\t\n",
            "error=0.009244992295839971\n"
          ]
        }
      ]
    },
    {
      "cell_type": "code",
      "source": [
        "print(X)\n",
        "print(Y)"
      ],
      "metadata": {
        "colab": {
          "base_uri": "https://localhost:8080/"
        },
        "id": "T-BFSbWiD0ZY",
        "outputId": "3039b96f-2394-481c-e6de-c8ffd7a4be16"
      },
      "execution_count": 3,
      "outputs": [
        {
          "output_type": "stream",
          "name": "stdout",
          "text": [
            "[0, 1, 0, 1, 0, 1]\n",
            "[10.0, 5.636363636363637, 0.009244992295839971]\n"
          ]
        }
      ]
    },
    {
      "cell_type": "code",
      "source": [
        "import matplotlib.pyplot as plt\n",
        "  \n",
        "# x-axis values\n",
        "x = [1,2,3,4,5,6,7,8,9,10]\n",
        "# y-axis values\n",
        "y = [2,4,5,7,6,8,9,11,12,12]\n",
        "  \n",
        "# plotting points as a scatter plot\n",
        "plt.scatter(x, y, label= \"stars\", color= \"green\", \n",
        "            marker= \"*\", s=30)\n",
        "  \n",
        "# x-axis label\n",
        "plt.xlabel('x - axis')\n",
        "# frequency label\n",
        "plt.ylabel('y - axis')\n",
        "# plot title\n",
        "plt.title('My scatter plot!')\n",
        "# showing legend\n",
        "plt.legend()\n",
        "  \n",
        "# function to show the plot\n",
        "plt.show()"
      ],
      "metadata": {
        "id": "EMS-YLtNDXj8",
        "colab": {
          "base_uri": "https://localhost:8080/",
          "height": 472
        },
        "outputId": "f10dc12f-194e-4063-ad05-2daa068fc927"
      },
      "execution_count": 4,
      "outputs": [
        {
          "output_type": "display_data",
          "data": {
            "text/plain": [
              "<Figure size 640x480 with 1 Axes>"
            ],
            "image/png": "[encoded data removed]"
          },
          "metadata": {}
        }
      ]
    }
  ]
}