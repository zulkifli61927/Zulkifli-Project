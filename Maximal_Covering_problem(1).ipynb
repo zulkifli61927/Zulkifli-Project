{
  "cells": [
    {
      "cell_type": "code",
      "execution_count": null,
      "metadata": {
        "id": "Qg5xijn4PuWB"
      },
      "outputs": [],
      "source": [
        "#unduh gurobipy dan matplotlib_scalebar\n",
        "%pip install gurobipy\n",
        "%pip install matplotlib_scalebar"
      ]
    },
    {
      "cell_type": "code",
      "execution_count": null,
      "metadata": {
        "id": "rxwFZvFDaIk_"
      },
      "outputs": [],
      "source": [
        "#import module yang dibutuhkan\n",
        "import pandas as pd\n",
        "import gurobipy as gp\n",
        "import matplotlib.pyplot as plt\n",
        "from sklearn.preprocessing import LabelEncoder\n",
        "from google.colab import files\n",
        "import matplotlib\n",
        "import numpy as np\n",
        "import math\n",
        "import matplotlib.cbook as cbook\n",
        "from gurobipy import GRB\n",
        "from matplotlib_scalebar.scalebar import ScaleBar"
      ]
    },
    {
      "cell_type": "code",
      "execution_count": null,
      "metadata": {
        "id": "l0FNrhe0Z4dH"
      },
      "outputs": [],
      "source": [
        "#upload file ke google colab\n",
        "upload = files.upload()"
      ]
    },
    {
      "cell_type": "code",
      "execution_count": null,
      "metadata": {
        "id": "VKbO_rWgZ44x"
      },
      "outputs": [],
      "source": [
        "#definisikan data frame\n",
        "df= pd.read_excel(\"/content/chargingstation_jakpus.xlsx\")"
      ]
    },
    {
      "cell_type": "code",
      "execution_count": null,
      "metadata": {
        "id": "N0Jisdkxb1y8"
      },
      "outputs": [],
      "source": [
        "#Jadikan demand sebagai bilangan bulat\n",
        "df.Demand= df.Demand.astype(int)"
      ]
    },
    {
      "cell_type": "code",
      "execution_count": null,
      "metadata": {
        "id": "DB_6LjEYcWMd"
      },
      "outputs": [],
      "source": [
        "#Melabeli kelurahan dengan numerik\n",
        "le= LabelEncoder()\n",
        "df[\"Kelurahan_encode\"]=le.fit_transform(df.Kelurahan)"
      ]
    },
    {
      "cell_type": "code",
      "execution_count": null,
      "metadata": {
        "id": "ROpFtwEfaSzC"
      },
      "outputs": [],
      "source": [
        "#Definisi demand dengan kelurahannya\n",
        "imed=df.iloc[0:2243]\n",
        "buat_demand= dict(imed[[\"Kelurahan_encode\", \"Demand\"]].to_numpy())"
      ]
    },
    {
      "cell_type": "code",
      "execution_count": null,
      "metadata": {
        "id": "KPO286oDjfeK"
      },
      "outputs": [],
      "source": [
        "print(buat_demand\n",
        ")"
      ]
    },
    {
      "cell_type": "code",
      "execution_count": null,
      "metadata": {
        "id": "0KGFE2bTbEeY"
      },
      "outputs": [],
      "source": [
        "df[\"price\"]= 1 # asumsikan semua biaya pembangunan SPKLU sama\n",
        "df[\"Jarak(meter)\"]= df[\"Jarak(meter)\"].astype(int) #mwngubah menjadi bilangan bulat"
      ]
    },
    {
      "cell_type": "code",
      "execution_count": null,
      "metadata": {
        "colab": {
          "base_uri": "https://localhost:8080/"
        },
        "id": "KwqwGgvrD5dt",
        "outputId": "3f79f460-ebc6-4278-c876-05d9679a36fa"
      },
      "outputs": [
        {
          "output_type": "execute_result",
          "data": {
            "text/plain": [
              "array([322, 323, 324, 325, 326, 327, 328, 329, 330, 331, 332, 333, 334,\n",
              "       335, 336, 337, 338, 339, 340, 341, 342, 343, 344, 345, 346, 347,\n",
              "       348, 349, 350, 351, 352, 353, 355, 356, 357, 358, 359, 360, 361,\n",
              "       362, 363, 364, 365, 366, 464, 465, 472, 473, 480, 495, 496])"
            ]
          },
          "metadata": {},
          "execution_count": 34
        }
      ],
      "source": [
        "df.No.unique() #melihat label dari jalan yang berpotensi untuk dibangun SPKLU"
      ]
    },
    {
      "cell_type": "code",
      "execution_count": null,
      "metadata": {
        "id": "21vmz3IvdXg0"
      },
      "outputs": [],
      "source": [
        "#Konstruksi set covering\n",
        "buat_cs= {}\n",
        "count=0\n",
        "jarak_maks= 2000 #Asumsikan 1 lokasi SPKLU mampu memenuhi 2000 km di sekelilingnya\n",
        "for i in df.No.unique():\n",
        "  df_imed=df[(df[\"No\"]==i) & (df[\"Jarak(meter)\"]<=jarak_maks)]\n",
        "  buat_cs[count]= [set(df_imed[\"Kelurahan_encode\"].tolist()),1]\n",
        "  count+=1\n"
      ]
    },
    {
      "cell_type": "code",
      "execution_count": null,
      "metadata": {
        "id": "K9d-kIuSdyJQ"
      },
      "outputs": [],
      "source": [
        "buat_cs"
      ]
    },
    {
      "cell_type": "code",
      "execution_count": null,
      "metadata": {
        "id": "jJHUJpoxdzT7"
      },
      "outputs": [],
      "source": [
        "#Parameters\n",
        "total= 7 #Total stasiun\n",
        "regions, population = gp.multidict(buat_demand)\n",
        "\n",
        "sites, coverage, jumlah = gp.multidict(buat_cs)"
      ]
    },
    {
      "cell_type": "code",
      "execution_count": null,
      "metadata": {
        "id": "HVfsl6yih8kS"
      },
      "outputs": [],
      "source": [
        "print(regions)"
      ]
    },
    {
      "cell_type": "code",
      "execution_count": null,
      "metadata": {
        "id": "aAbWiyGgiEn-"
      },
      "outputs": [],
      "source": [
        "#Memodelkan\n",
        "m = gp.Model(\"cell_tower\")\n",
        "\n",
        "build = m.addVars(len(sites), vtype=GRB.BINARY, name=\"Build\")\n",
        "is_covered = m.addVars(len(regions), vtype=GRB.BINARY, name=\"Is_covered\")\n",
        "\n",
        "m.addConstrs((gp.quicksum(build[t] for t in sites if r in coverage[t]) >= is_covered[r]\n",
        "                        for r in regions), name=\"Build2cover\")\n",
        "m.addConstr(build.prod(jumlah) == total, name=\"total\")\n",
        "\n",
        "m.setObjective(is_covered.prod(population), GRB.MAXIMIZE)\n",
        "\n",
        "m.optimize() "
      ]
    },
    {
      "cell_type": "code",
      "execution_count": null,
      "metadata": {
        "colab": {
          "base_uri": "https://localhost:8080/"
        },
        "id": "DzfwPS9Xk-d6",
        "outputId": "232d9768-3e2e-44fc-c782-bc458aae087d"
      },
      "outputs": [
        {
          "output_type": "stream",
          "name": "stdout",
          "text": [
            " Bangun SPKLU di lokasi 322.\n",
            " Bangun SPKLU di lokasi 333.\n",
            " Bangun SPKLU di lokasi 340.\n",
            " Bangun SPKLU di lokasi 348.\n",
            " Bangun SPKLU di lokasi 362.\n",
            " Bangun SPKLU di lokasi 364.\n",
            " Bangun SPKLU di lokasi 472.\n",
            "[322, 333, 340, 348, 362, 364, 472]\n"
          ]
        }
      ],
      "source": [
        "#memunculkan titik potensial mana yang sebaiknya dibangun\n",
        "cs_real_val= list(df.No.unique())\n",
        "A = []\n",
        "for tower in build.keys():\n",
        "    if (abs(build[tower].x) > 1e-6):\n",
        "      A.append(cs_real_val[tower])\n",
        "      print(f\" Bangun SPKLU di lokasi {cs_real_val[tower]}.\")\n",
        "print(A)"
      ]
    },
    {
      "cell_type": "code",
      "source": [
        "#coverage\n",
        "\n",
        "total_population = 0\n",
        "\n",
        "for region in range(len(regions)):\n",
        "    total_population += population[region]\n",
        "\n",
        "coverage = round(100*m.objVal/total_population, 2)\n",
        "\n",
        "print(f\"\\n SPKLU mampu mencoverage: {coverage} %\")"
      ],
      "metadata": {
        "colab": {
          "base_uri": "https://localhost:8080/"
        },
        "id": "M9PgETBy4esL",
        "outputId": "cd62cb23-5409-462e-df03-67fdb539dcd9"
      },
      "execution_count": null,
      "outputs": [
        {
          "output_type": "stream",
          "name": "stdout",
          "text": [
            "\n",
            " SPKLU mampu mencoverage: 100.0 %\n"
          ]
        }
      ]
    },
    {
      "cell_type": "code",
      "execution_count": null,
      "metadata": {
        "id": "GpvdCJXPnbVw"
      },
      "outputs": [],
      "source": [
        "#Ambil koordinat jalan potensial SPKLU\n",
        "B = []\n",
        "C = []\n",
        "for i in range(0,len(A)):\n",
        "  for j in range(0,len(df[\"No\"])):\n",
        "    if df[\"No\"][j] == A[i]:\n",
        "      df1 = df.X_Jalan.values[j]\n",
        "      df2 = df.Y_Jalan.values[j]\n",
        "      B.append(df1)\n",
        "      C.append(df2)\n",
        "      j=j+1\n",
        "print(B)\n",
        "print(C)"
      ]
    },
    {
      "cell_type": "code",
      "execution_count": null,
      "metadata": {
        "id": "hLD0YcNFUTho"
      },
      "outputs": [],
      "source": [
        "#Supaya elemen dalam himpunan B dan C unik\n",
        "B_ = list(dict.fromkeys(B))\n",
        "C_ = list(dict.fromkeys(C))\n",
        "B_"
      ]
    },
    {
      "cell_type": "code",
      "execution_count": null,
      "metadata": {
        "id": "GC8hjrhuT93e"
      },
      "outputs": [],
      "source": [
        "#Kontruksi gambar peta dengan coveragenya\n",
        "plt.rcParams[\"figure.figsize\"] = [10.00, 10.00]\n",
        "plt.rcParams[\"figure.autolayout\"] = True\n",
        "im = plt.imread(\"PETA1.jpg\")\n",
        "fig, ax = plt.subplots()\n",
        "#im = ax.imshow(im, extent=[0, 1188, 0, 1066])\n",
        "im = ax.imshow(im, extent=[694224, 712020, 9310706, 9321896])\n",
        "\n",
        "x = B_\n",
        "\n",
        "y = C_\n",
        "plt.scatter(x, y, label= \"circle\", color= \"green\",marker= \".\", s= 67777, alpha = 0.3)\n",
        "# s= 1.2*10**5\n",
        "\n",
        "\n",
        "#ax.grid(which='major', color = \"black\", linewidth = 1)\n",
        "ax.grid(which='minor', color = \"blue\" , linestyle=':', linewidth=0.8)\n",
        "ax.minorticks_on()\n",
        "scalebar = ScaleBar(7*10**5, location = \"upper left\", color='#b32400', box_color='yellow', box_alpha=1) # 1 pixel = 0.2 meter\n",
        "plt.gca().add_artist(scalebar)\n",
        "plt.show()"
      ]
    }
  ],
  "metadata": {
    "colab": {
      "provenance": []
    },
    "kernelspec": {
      "display_name": "Python 3",
      "name": "python3"
    },
    "language_info": {
      "name": "python"
    }
  },
  "nbformat": 4,
  "nbformat_minor": 0
}