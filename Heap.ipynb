{
  "nbformat": 4,
  "nbformat_minor": 0,
  "metadata": {
    "colab": {
      "provenance": []
    },
    "kernelspec": {
      "name": "python3",
      "display_name": "Python 3"
    },
    "language_info": {
      "name": "python"
    }
  },
  "cells": [
    {
      "cell_type": "markdown",
      "metadata": {
        "id": "KoN_6eXMpuJS"
      },
      "source": [
        "Andi akan membeli 2 buah barang dari 2 toko yang berbeda (A dan B). Kedua toko tersebut sedang mengadakan sale akhir tahun pada 4 barang pilihan dari masing-masing toko dengan harga yang sama persis setiap barangnya. Andi akan membeli 1 barang pada masing-masing toko sehingga mendapatkan diskon yang maksimal, bantu Andi mencari jumlah diskon terbesar dari 2 toko tersebut."
      ]
    },
    {
      "cell_type": "code",
      "metadata": {
        "colab": {
          "base_uri": "https://localhost:8080/"
        },
        "id": "boFfRVcopwIE",
        "outputId": "541e36fa-5077-487c-d049-f7d6c5ae7490"
      },
      "source": [
        "import math\n",
        "from queue import PriorityQueue\n",
        "\n",
        "def KMaxCombinations(A, B, N, K):\n",
        "\n",
        "\tpq = PriorityQueue()\n",
        "\tfor i in range(0, N):\n",
        "\t\tfor j in range(0, N):\n",
        "\t\t\ta = (A[i] + B[j])/2\n",
        "\t\t\tpq.put((-a, a))\n",
        "   \n",
        "\tcount = 0\n",
        "\twhile (count < K):\n",
        "\t\tprint(pq.get()[1], '%')\n",
        "\t\tcount = count + 1\n",
        "\n",
        "A = [50, 45, 25, 10]      #diskon per-item\n",
        "B = [40, 50, 15, 25]       #diskon per-item\n",
        "N = len(A)\n",
        "K = 1\n",
        "\n",
        "# Function call\n",
        "KMaxCombinations(A, B, N, K)"
      ],
      "execution_count": 1,
      "outputs": [
        {
          "output_type": "stream",
          "name": "stdout",
          "text": [
            "50.0 %\n"
          ]
        }
      ]
    },
    {
      "cell_type": "code",
      "metadata": {
        "id": "qrFc8CwPqKNM"
      },
      "source": [],
      "execution_count": null,
      "outputs": []
    }
  ]
}