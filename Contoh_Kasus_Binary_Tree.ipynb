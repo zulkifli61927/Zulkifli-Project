{
  "nbformat": 4,
  "nbformat_minor": 0,
  "metadata": {
    "colab": {
      "provenance": []
    },
    "kernelspec": {
      "name": "python3",
      "display_name": "Python 3"
    },
    "language_info": {
      "name": "python"
    }
  },
  "cells": [
    {
      "cell_type": "markdown",
      "metadata": {
        "id": "D6YNgTNqZ00O"
      },
      "source": [
        "Seorang pemelihara kucing akan menghitung usia rata-rata dari setiap generasi kucing betina yang dimilikinya. Pada awalnya dia memiliki satu ekor kucing betina yang saat ini berusia 24 bulan, lalu kucing tersebut memiliki 2 ekor anak betina yang saat ini masing-masing berusia 18 dan 16 bulan. Kucing yang berusia 18 bulan memiliki 2 ekor anak betina yang saat ini berusia 6 dan 4 bulan, sedangkan kucing yang berusia 16 bulan memiliki 1 ekor anak betina yang saat ini berusia 5 bulan. "
      ]
    },
    {
      "cell_type": "code",
      "metadata": {
        "colab": {
          "base_uri": "https://localhost:8080/"
        },
        "id": "4tBvuTZZVSOR",
        "outputId": "087a6c75-95ee-4ba4-eb5e-8570d3690aaf"
      },
      "source": [
        "\n",
        "# mengimport Queue\n",
        "from queue import Queue\n",
        "\n",
        "# mengklasifikasin node baru \n",
        "class newNode:\n",
        "\tdef __init__(self, data):\n",
        "\t\tself.val = data\n",
        "\t\tself.left = self.right = None\n",
        "\t\n",
        "# mendefinisikan rata-rata untuk setiap generasi\n",
        "def averageOfLevels(root):\n",
        "\n",
        "\t# membagi setiap generasi\n",
        "\tq = Queue()\n",
        "\tq.put(root)\n",
        "\twhile (not q.empty()):\n",
        "\n",
        "\t\t# menjumlahkan dan menghitung node di setiap generasi\n",
        "\t\tSum = 0\n",
        "\t\tcount = 0\n",
        "\t\ttemp = Queue()\n",
        "\t\twhile (not q.empty()):\n",
        "\t\t\tn = q.queue[0]\n",
        "\t\t\tq.get()\n",
        "\t\t\tSum += n.val\n",
        "\t\t\tcount += 1\n",
        "\t\t\tif (n.left != None):\n",
        "\t\t\t\ttemp.put(n.left)\n",
        "\t\t\tif (n.right != None):\n",
        "\t\t\t\ttemp.put(n.right)\n",
        "\t\tq = temp\n",
        "\t\tprint((Sum * 1.0 / count), end = \" \")\n",
        "\n",
        "# Driver code\n",
        "if __name__ == '__main__':\n",
        "\n",
        "\t# Ilustrasi Binary Tree\n",
        "\t#\t 24\t\t\t\t(generasi 1)\n",
        "\t# /  \\\n",
        "\t# 18  16\t\t(generasi 2)\n",
        "\t# / \\  \\\n",
        "\t# 6 4   5\t\t(generasi 3)\n",
        "\troot = None\n",
        "\troot = newNode(24)\n",
        "\troot.left = newNode(18)\n",
        "\troot.right = newNode(16)\n",
        "\troot.left.left = newNode(6)\n",
        "\troot.left.right = newNode(4)\n",
        "\troot.right.right = newNode(5)\n",
        "\taverageOfLevels(root)\n",
        "\n"
      ],
      "execution_count": null,
      "outputs": [
        {
          "output_type": "stream",
          "name": "stdout",
          "text": [
            "24.0 17.0 5.0 "
          ]
        }
      ]
    },
    {
      "cell_type": "markdown",
      "metadata": {
        "id": "XWZcVS8ToSAn"
      },
      "source": [
        "Tim Paskibraka sekolah akan membuat formasi baris berbaris dalam rangka 17 Agustusan. Akan dibuat suatu barisan dimana yang pendek akan berbaris di paling depan dan seterusnya hingga yang paling tinggi akan berada di paling belakang. Terdapat tiga angkatan dalam tim formasi baris berbaris tersebut. Terdapat 4 siswa angkatan kelas 10, 2 siswa angkatan kelas 11, dan 1 siswa angkatan kelas 12."
      ]
    },
    {
      "cell_type": "code",
      "metadata": {
        "colab": {
          "base_uri": "https://localhost:8080/"
        },
        "id": "IXbfE7msjlmX",
        "outputId": "e6b70135-0199-43d2-81ef-13f82307bc2e"
      },
      "source": [
        "#mengklasifikasikan node baru\n",
        "class Node:\n",
        "    def __init__(self, key):\n",
        "        self.left = None\n",
        "        self.right = None\n",
        "        self.val = key\n",
        " \n",
        "# Persamaaan untuk memasukkan node baru dengan key yang diberikan\n",
        " \n",
        "def insert(root, key):\n",
        "    if root is None:\n",
        "        return Node(key)\n",
        "    else:\n",
        "        if root.val == key:\n",
        "            return root\n",
        "        elif root.val < key:\n",
        "            root.right = insert(root.right, key)\n",
        "        else:\n",
        "            root.left = insert(root.left, key)\n",
        "    return root\n",
        " \n",
        "# Persamaan untuk membuat inorder tree traversal\n",
        " \n",
        " \n",
        "def inorder(root):\n",
        "    if root:\n",
        "        inorder(root.left)\n",
        "        print(root.val)\n",
        "        inorder(root.right)\n",
        " \n",
        " \n",
        "# Driver program\n",
        "# Ilustrasi Binary Search Tree\n",
        "#    175              (kelas 12)\n",
        "#  /     \\\n",
        "# 178     173         (kelas 11)\n",
        "#  / \\     / \\\n",
        "# 168 170 176 171     (kelas 10)\n",
        " \n",
        "r = Node(175)\n",
        "r = insert(r, 178)\n",
        "r = insert(r, 173)\n",
        "r = insert(r, 168)\n",
        "r = insert(r, 170)\n",
        "r = insert(r, 176)\n",
        "r = insert(r, 171)\n",
        " \n",
        "# Print inoder traversal dari Binary Search Tree\n",
        "inorder(r)"
      ],
      "execution_count": null,
      "outputs": [
        {
          "output_type": "stream",
          "name": "stdout",
          "text": [
            "168\n",
            "170\n",
            "171\n",
            "173\n",
            "175\n",
            "176\n",
            "178\n"
          ]
        }
      ]
    }
  ]
}