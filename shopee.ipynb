{
  "cells": [
    {
      "cell_type": "code",
      "execution_count": null,
      "metadata": {
        "id": "gnwIomUZGfMj"
      },
      "outputs": [],
      "source": [
        "import requests\n",
        "import json\n",
        "import pandas as pd"
      ]
    },
    {
      "cell_type": "code",
      "execution_count": null,
      "metadata": {
        "colab": {
          "base_uri": "https://localhost:8080/"
        },
        "id": "n70u_TGVGfMs",
        "outputId": "5a5ae422-98d6-4bfc-f5c6-5a98ed4c2ce9"
      },
      "outputs": [
        {
          "output_type": "stream",
          "name": "stdout",
          "text": [
            "{'tracking_id': 'bf71ea2f-4bd1-4a82-a543-c514acb68a71', 'action_type': 2, 'error': 90309999, 'is_customized': False, 'is_login': False, 'platform': 0, 'report_extra_info': ''}\n"
          ]
        }
      ],
      "source": [
        "headers = {\n",
        "    'user-agent': 'Mozilla/5.0 (Macintosh; Intel Mac OS X 10_15_7) AppleWebKit/537.36 (KHTML, like Gecko) Chrome/111.0.0.0 Safari/537.36'\n",
        "}\n",
        "url='https://shopee.co.id/api/v4/search/search_items?by=relevancy&keyword=macbook&limit=60&newest=0&order=desc&page_type=search&scenario=PAGE_GLOBAL_SEARCH&version=2&view_session_id=a465a8d5-9018-4758-955f-38f651b2d70e'\n",
        "req = requests.get(url, headers=headers).json()\n",
        "\n",
        "print(req)"
      ]
    },
    {
      "cell_type": "code",
      "execution_count": null,
      "metadata": {
        "colab": {
          "base_uri": "https://localhost:8080/"
        },
        "id": "VDy8cRRYGfMz",
        "outputId": "a8d55fa2-8724-47ec-bf95-751b7bf92708"
      },
      "outputs": [
        {
          "output_type": "execute_result",
          "data": {
            "text/plain": [
              "{'tracking_id': '31cfaf41-0729-45f7-a235-3f8caf8a4abc',\n",
              " 'action_type': 2,\n",
              " 'error': 90309999,\n",
              " 'is_customized': False,\n",
              " 'is_login': False,\n",
              " 'platform': 0,\n",
              " 'report_extra_info': ''}"
            ]
          },
          "metadata": {},
          "execution_count": 45
        }
      ],
      "source": [
        "#ubah jadi json\n",
        "req = json.dumps(req)\n",
        "json_data = json.loads(req)\n",
        "json_data"
      ]
    },
    {
      "cell_type": "code",
      "execution_count": null,
      "metadata": {
        "colab": {
          "base_uri": "https://localhost:8080/",
          "height": 190
        },
        "id": "22KIQZ_PGfM2",
        "outputId": "4b03959e-a2b8-452e-def8-3858e98a1603"
      },
      "outputs": [
        {
          "output_type": "error",
          "ename": "TypeError",
          "evalue": "ignored",
          "traceback": [
            "\u001b[0;31m---------------------------------------------------------------------------\u001b[0m",
            "\u001b[0;31mTypeError\u001b[0m                                 Traceback (most recent call last)",
            "\u001b[0;32m<ipython-input-6-e6c4ecae0d4a>\u001b[0m in \u001b[0;36m<cell line: 2>\u001b[0;34m()\u001b[0m\n\u001b[1;32m      1\u001b[0m \u001b[0;31m#sneakpeek item\u001b[0m\u001b[0;34m\u001b[0m\u001b[0;34m\u001b[0m\u001b[0m\n\u001b[0;32m----> 2\u001b[0;31m \u001b[0mjson_data\u001b[0m\u001b[0;34m[\u001b[0m\u001b[0;34m'items'\u001b[0m\u001b[0;34m]\u001b[0m\u001b[0;34m\u001b[0m\u001b[0;34m\u001b[0m\u001b[0m\n\u001b[0m",
            "\u001b[0;31mTypeError\u001b[0m: string indices must be integers"
          ]
        }
      ],
      "source": [
        "#sneakpeek item\n",
        "json_data['items']"
      ]
    },
    {
      "cell_type": "code",
      "execution_count": null,
      "metadata": {
        "colab": {
          "base_uri": "https://localhost:8080/",
          "height": 244
        },
        "id": "35YjNqlwGfM5",
        "outputId": "944408b2-04a8-4c74-92ec-dadd126807fc"
      },
      "outputs": [
        {
          "output_type": "error",
          "ename": "TypeError",
          "evalue": "ignored",
          "traceback": [
            "\u001b[0;31m---------------------------------------------------------------------------\u001b[0m",
            "\u001b[0;31mTypeError\u001b[0m                                 Traceback (most recent call last)",
            "\u001b[0;32m<ipython-input-7-243999bf04f5>\u001b[0m in \u001b[0;36m<cell line: 2>\u001b[0;34m()\u001b[0m\n\u001b[1;32m      1\u001b[0m \u001b[0mdata\u001b[0m\u001b[0;34m=\u001b[0m\u001b[0;34m[\u001b[0m\u001b[0;34m]\u001b[0m\u001b[0;34m\u001b[0m\u001b[0;34m\u001b[0m\u001b[0m\n\u001b[0;32m----> 2\u001b[0;31m \u001b[0mrows\u001b[0m \u001b[0;34m=\u001b[0m \u001b[0mjson_data\u001b[0m\u001b[0;34m[\u001b[0m\u001b[0;34m'items'\u001b[0m\u001b[0;34m]\u001b[0m\u001b[0;34m\u001b[0m\u001b[0;34m\u001b[0m\u001b[0m\n\u001b[0m\u001b[1;32m      3\u001b[0m \u001b[0;32mfor\u001b[0m \u001b[0mi\u001b[0m \u001b[0;32min\u001b[0m \u001b[0mrange\u001b[0m\u001b[0;34m(\u001b[0m\u001b[0;36m0\u001b[0m\u001b[0;34m,\u001b[0m \u001b[0mlen\u001b[0m\u001b[0;34m(\u001b[0m\u001b[0mrows\u001b[0m\u001b[0;34m)\u001b[0m\u001b[0;34m)\u001b[0m\u001b[0;34m:\u001b[0m\u001b[0;34m\u001b[0m\u001b[0;34m\u001b[0m\u001b[0m\n\u001b[1;32m      4\u001b[0m     \u001b[0mnama\u001b[0m \u001b[0;34m=\u001b[0m \u001b[0mjson_data\u001b[0m\u001b[0;34m[\u001b[0m\u001b[0;34m'items'\u001b[0m\u001b[0;34m]\u001b[0m\u001b[0;34m[\u001b[0m\u001b[0mi\u001b[0m\u001b[0;34m]\u001b[0m\u001b[0;34m[\u001b[0m\u001b[0;34m'item_basic'\u001b[0m\u001b[0;34m]\u001b[0m\u001b[0;34m[\u001b[0m\u001b[0;34m'name'\u001b[0m\u001b[0;34m]\u001b[0m\u001b[0;34m\u001b[0m\u001b[0;34m\u001b[0m\u001b[0m\n\u001b[1;32m      5\u001b[0m     \u001b[0mharga\u001b[0m \u001b[0;34m=\u001b[0m \u001b[0mint\u001b[0m\u001b[0;34m(\u001b[0m\u001b[0mjson_data\u001b[0m\u001b[0;34m[\u001b[0m\u001b[0;34m'items'\u001b[0m\u001b[0;34m]\u001b[0m\u001b[0;34m[\u001b[0m\u001b[0mi\u001b[0m\u001b[0;34m]\u001b[0m\u001b[0;34m[\u001b[0m\u001b[0;34m'item_basic'\u001b[0m\u001b[0;34m]\u001b[0m\u001b[0;34m[\u001b[0m\u001b[0;34m'price'\u001b[0m\u001b[0;34m]\u001b[0m\u001b[0;34m/\u001b[0m\u001b[0;36m100000\u001b[0m\u001b[0;34m)\u001b[0m\u001b[0;34m\u001b[0m\u001b[0;34m\u001b[0m\u001b[0m\n",
            "\u001b[0;31mTypeError\u001b[0m: string indices must be integers"
          ]
        }
      ],
      "source": [
        "data=[]\n",
        "rows = json_data['items']\n",
        "for i in range(0, len(rows)):\n",
        "    nama = json_data['items'][i]['item_basic']['name']\n",
        "    harga = int(json_data['items'][i]['item_basic']['price']/100000)\n",
        "    harga_min = int(json_data['items'][i]['item_basic']['price_min']/100000)\n",
        "    harga_max = int(json_data['items'][i]['item_basic']['price_max']/100000)\n",
        "    lokasi = json_data['items'][i]['item_basic']['shop_location']\n",
        "    itemid = json_data['items'][i]['itemid']\n",
        "    shopid = json_data['items'][i]['item_basic']['shopid']\n",
        "    terjual = json_data['items'][i]['item_basic']['historical_sold']\n",
        "    star = json_data['items'][i]['item_basic']['item_rating']['rating_star']\n",
        "    rating_0 = json_data['items'][i]['item_basic']['item_rating']['rating_count'][0]\n",
        "    rating_1 = json_data['items'][i]['item_basic']['item_rating']['rating_count'][1]\n",
        "    rating_2 = json_data['items'][i]['item_basic']['item_rating']['rating_count'][2]\n",
        "    rating_3 = json_data['items'][i]['item_basic']['item_rating']['rating_count'][3]\n",
        "    rating_4 = json_data['items'][i]['item_basic']['item_rating']['rating_count'][4]\n",
        "    rating_5 = json_data['items'][i]['item_basic']['item_rating']['rating_count'][5]\n",
        "    \n",
        "    data.append(\n",
        "        (nama, harga, harga_min, harga_max, terjual, lokasi, itemid, shopid, star, rating_0, rating_1, rating_2, rating_3, rating_4, rating_5)\n",
        "    )\n",
        "\n",
        "df = pd.DataFrame(data, columns=['Nama Barang', 'Harga', 'Harga Min','Harga Max','Lokasi','Item ID','Shop ID', 'Terjual','Rating', 'Rating 0', 'Rating 1', 'Rating 2', 'Rating 3', 'Rating 4', 'Rating 5'])\n",
        "df\n"
      ]
    }
  ],
  "metadata": {
    "kernelspec": {
      "display_name": "Python 3",
      "language": "python",
      "name": "python3"
    },
    "language_info": {
      "codemirror_mode": {
        "name": "ipython",
        "version": 3
      },
      "file_extension": ".py",
      "mimetype": "text/x-python",
      "name": "python",
      "nbconvert_exporter": "python",
      "pygments_lexer": "ipython3",
      "version": "3.11.2"
    },
    "orig_nbformat": 4,
    "colab": {
      "provenance": []
    }
  },
  "nbformat": 4,
  "nbformat_minor": 0
}