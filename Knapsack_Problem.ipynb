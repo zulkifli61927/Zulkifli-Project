{
  "nbformat": 4,
  "nbformat_minor": 0,
  "metadata": {
    "colab": {
      "provenance": []
    },
    "kernelspec": {
      "name": "python3",
      "display_name": "Python 3"
    },
    "language_info": {
      "name": "python"
    }
  },
  "cells": [
    {
      "cell_type": "code",
      "execution_count": 2,
      "metadata": {
        "colab": {
          "base_uri": "https://localhost:8080/"
        },
        "id": "bN2cadvwuz5z",
        "outputId": "5a6a82c5-8717-42f7-dc53-04b4879698aa"
      },
      "outputs": [
        {
          "output_type": "stream",
          "name": "stdout",
          "text": [
            "600\n",
            "600\n"
          ]
        }
      ],
      "source": [
        "#Knapsack-Problem\n",
        "val = [-400, -400, -300, -700, -600, -450, -200, 150, 200, 150, 0, 400, 100, 200, 200]\n",
        "wt = [1000, 2000, 3000, 5000, 8000, 10000, 15000, 20000, 25000, 30000, 40000, 50000, 70000, 75000, 80000]\n",
        "W = 85000\n",
        "n = len(val)\n",
        " \n",
        "t = [[-1 for i in range(W + 1)] for j in range(n + 1)]\n",
        " \n",
        " \n",
        "def knapsack(wt, val, W, n):\n",
        " \n",
        "    if n == 0 or W == 0:\n",
        "        return 0\n",
        "    if t[n][W] != -1:\n",
        "        return t[n][W]\n",
        " \n",
        "    if wt[n-1] <= W:\n",
        "        t[n][W] = max(\n",
        "            val[n-1] + knapsack(\n",
        "                wt, val, W-wt[n-1], n-1),\n",
        "            knapsack(wt, val, W, n-1))\n",
        "        return t[n][W]\n",
        "    elif wt[n-1] > W:\n",
        "        t[n][W] = knapsack(wt, val, W, n-1)\n",
        "        return t[n][W]\n",
        " \n",
        " \n",
        "print(knapsack(wt, val, W, n))"
      ]
    }
  ]
}