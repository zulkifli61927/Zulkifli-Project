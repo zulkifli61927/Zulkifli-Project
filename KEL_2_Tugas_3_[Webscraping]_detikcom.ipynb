{
  "nbformat": 4,
  "nbformat_minor": 0,
  "metadata": {
    "colab": {
      "provenance": []
    },
    "kernelspec": {
      "name": "python3",
      "display_name": "Python 3"
    },
    "language_info": {
      "name": "python"
    }
  },
  "cells": [
    {
      "cell_type": "markdown",
      "source": [
        "# **SINTAKS WEBSCRAPING DATA BERITA [detik.com](https://www.detik.com/search/searchall?query=puasa&siteid=2)** \n"
      ],
      "metadata": {
        "id": "2I5wZQkZdE7x"
      }
    },
    {
      "cell_type": "markdown",
      "source": [
        "# WEBCRAWLING WEBSITE BERITA detik.com\n",
        "Pada tahap ini kita akan melakukan crawling website detik.com secara manual. Kita akan membuat list berisi beberapa URL atau alamat berita pada website berita detik.com. Tahapan yang kita lakukan:\n",
        "1.   Mengakses website detik.com\n",
        "2.   Melakukan pencarian berita berdasarkan kata kunci \"Puasa\"\n",
        "3.   Menyimpan beberapa URL berita terkait kata kunci \"Puasa\"\n",
        "4.   Membuat list pada Python berisi URL berita detik.com\n",
        "\n"
      ],
      "metadata": {
        "id": "6REoAHeDd31b"
      }
    },
    {
      "cell_type": "code",
      "source": [
        "# Membuat List berisi URL berita \"Puasa\" detik.com\n",
        "\n",
        "list_url = ['https://www.detik.com/sumut/berita/d-6636782/heboh-fenomena-bulan-bintang-di-langit-medan-begini-penjelasan-bmkg',\n",
        "            'https://www.detik.com/sumut/berita/d-6636447/jadwal-imsak-kota-jambi-dan-sekitarnya-25-maret-cek-di-sini',\n",
        "            'https://www.detik.com/jabar/berita/d-6635363/jadwal-imsakiyah-purwakarta-subang-dan-karawang-25-maret',\n",
        "            'https://www.detik.com/sumut/berita/d-6636426/simak-jadwal-imsak-bandar-lampung-dan-sekitarnya-25-maret-2023-di-sini',\n",
        "            'https://www.detik.com/sumut/berita/d-6636405/jadwal-imsak-dan-sholat-subuh-pekanbaru-riau-25-maret-2023',\n",
        "            'https://www.detik.com/sumut/berita/d-6636366/jadwal-imsak-dan-subuh-bengkulu-25-maret-2023-simak-waktunya-di-sini',\n",
        "            'https://www.detik.com/sumut/berita/d-6636340/jadwal-imsak-dan-subuh-di-bangka-belitung-25-maret-2023',\n",
        "            'https://www.detik.com/sumut/berita/d-6636377/simak-jadwal-imsak-dan-subuh-di-aceh-hari-ini-sabtu-25-maret-2023',\n",
        "            'https://www.detik.com/sumut/berita/d-6636266/jadwal-imsak-dan-subuh-palembang-sumsel-25-maret-2023',\n",
        "            'https://www.detik.com/jatim/berita/d-6636784/polisi-bojonegoro-bagi-takjil-sekaligus-kampanye-tertib-lalin-saat-ramadhan']\n",
        "\n",
        "list_url"
      ],
      "metadata": {
        "colab": {
          "base_uri": "https://localhost:8080/"
        },
        "id": "Mp9gRNXniR2H",
        "outputId": "39f64fb9-e2c2-421b-9ca6-dad9520fad20"
      },
      "execution_count": null,
      "outputs": [
        {
          "output_type": "execute_result",
          "data": {
            "text/plain": [
              "['https://www.detik.com/sumut/berita/d-6636782/heboh-fenomena-bulan-bintang-di-langit-medan-begini-penjelasan-bmkg',\n",
              " 'https://www.detik.com/sumut/berita/d-6636447/jadwal-imsak-kota-jambi-dan-sekitarnya-25-maret-cek-di-sini',\n",
              " 'https://www.detik.com/jabar/berita/d-6635363/jadwal-imsakiyah-purwakarta-subang-dan-karawang-25-maret',\n",
              " 'https://www.detik.com/sumut/berita/d-6636426/simak-jadwal-imsak-bandar-lampung-dan-sekitarnya-25-maret-2023-di-sini',\n",
              " 'https://www.detik.com/sumut/berita/d-6636405/jadwal-imsak-dan-sholat-subuh-pekanbaru-riau-25-maret-2023',\n",
              " 'https://www.detik.com/sumut/berita/d-6636366/jadwal-imsak-dan-subuh-bengkulu-25-maret-2023-simak-waktunya-di-sini',\n",
              " 'https://www.detik.com/sumut/berita/d-6636340/jadwal-imsak-dan-subuh-di-bangka-belitung-25-maret-2023',\n",
              " 'https://www.detik.com/sumut/berita/d-6636377/simak-jadwal-imsak-dan-subuh-di-aceh-hari-ini-sabtu-25-maret-2023',\n",
              " 'https://www.detik.com/sumut/berita/d-6636266/jadwal-imsak-dan-subuh-palembang-sumsel-25-maret-2023',\n",
              " 'https://www.detik.com/jatim/berita/d-6636784/polisi-bojonegoro-bagi-takjil-sekaligus-kampanye-tertib-lalin-saat-ramadhan']"
            ]
          },
          "metadata": {},
          "execution_count": 58
        }
      ]
    },
    {
      "cell_type": "markdown",
      "source": [
        "## REQUEST KE SALAH SATU HALAMAN BERITA DI WEBSITE detik.com ##\n",
        "Pada tahap ini kita akan melakukan request ke salah satu halaman berita di website detik.com yang telah kita crawling sebelumnya menggunakan Library Request.\n",
        "\n"
      ],
      "metadata": {
        "id": "vJmPO744djbG"
      }
    },
    {
      "cell_type": "code",
      "execution_count": null,
      "metadata": {
        "colab": {
          "base_uri": "https://localhost:8080/"
        },
        "id": "AYgWpiNYckrZ",
        "outputId": "c535a587-d890-45bd-b7d8-00939217fa75"
      },
      "outputs": [
        {
          "output_type": "stream",
          "name": "stdout",
          "text": [
            "Status request: <Response [200]>\n"
          ]
        },
        {
          "output_type": "execute_result",
          "data": {
            "text/plain": [
              "str"
            ]
          },
          "metadata": {},
          "execution_count": 73
        }
      ],
      "source": [
        "# Memanggil Library Request\n",
        "import requests\n",
        "\n",
        "url_berita = 'https://www.detik.com/sumut/berita/d-6636782/heboh-fenomena-bulan-bintang-di-langit-medan-begini-penjelasan-bmkg'\n",
        "\n",
        "# Melakukan request ke URL berita pertama pada list URL berita yang telah dibuat\n",
        "r = requests.get(url_berita)\n",
        "print(f'Status request: {r}')\n",
        "\n",
        "# Mengambil HTML dari halaman website yang telah direquest\n",
        "html_halaman = r.text\n",
        "type(html_halaman)\n",
        "# print(type(html_halaman))"
      ]
    },
    {
      "cell_type": "markdown",
      "source": [
        "## MENGAMBIL INFORMASI PADA HALAMAN YANG TELAH DIREQUEST ##\n",
        "Pada tahap ini kita akan mengambil informasi-informasi yang terdapat pada halaman yang telah direquest melalui tag HTML-nya menggunakan Library Beautiful Soup. Untuk melihat fungsi-fungsi pada Library Beautiful Soup silakan akses [halaman berikut](https://www.crummy.com/software/BeautifulSoup/bs4/doc/). \n",
        "\n"
      ],
      "metadata": {
        "id": "u83OgXMIj_ra"
      }
    },
    {
      "cell_type": "code",
      "source": [
        "# Memanggil Library BeautifulSoup\n",
        "from bs4 import BeautifulSoup\n",
        "\n",
        "# Memanggil variabel berisi struktur HTML dari halaman CNBC yang telah direquest sebelumnya.\n",
        "html_bs4 = BeautifulSoup(html_halaman)\n",
        "type(html_bs4)"
      ],
      "metadata": {
        "colab": {
          "base_uri": "https://localhost:8080/"
        },
        "id": "l9gRqHFZdEhZ",
        "outputId": "77084026-d566-48d8-e0b1-0a15ff215341"
      },
      "execution_count": null,
      "outputs": [
        {
          "output_type": "execute_result",
          "data": {
            "text/plain": [
              "bs4.BeautifulSoup"
            ]
          },
          "metadata": {},
          "execution_count": 74
        }
      ]
    },
    {
      "cell_type": "markdown",
      "source": [
        "Mengambil informasi judul berita dari halaman yang telah direquest."
      ],
      "metadata": {
        "id": "mY9YuukxldbC"
      }
    },
    {
      "cell_type": "code",
      "source": [
        "# Mengambil informasi judul berita dari HTML pada tag H1 -> cari di struktur HTML\n",
        "judul = html_bs4.find('h1', class_='detail__title').text\n",
        "judul = judul.replace('\\n', '')\n",
        "\n",
        "print(judul)"
      ],
      "metadata": {
        "colab": {
          "base_uri": "https://localhost:8080/"
        },
        "id": "oj3pcVUUllj2",
        "outputId": "8ab52758-ee58-4a9b-9dea-149979f7915b"
      },
      "execution_count": null,
      "outputs": [
        {
          "output_type": "stream",
          "name": "stdout",
          "text": [
            "        Heboh Fenomena 'Bulan Bintang' di Langit Medan, Begini Penjelasan BMKG    \n"
          ]
        }
      ]
    },
    {
      "cell_type": "markdown",
      "source": [
        "Mengambil informasi tanggal berita dari halaman yang telah direquest."
      ],
      "metadata": {
        "id": "KCKKIgzzmlh4"
      }
    },
    {
      "cell_type": "code",
      "source": [
        "# Mengambil informasi tanggal berita dari HTML pada tag div dengan class=date -> cari di struktur HTML\n",
        "tanggal = html_bs4.find('div', class_='detail__date').text\n",
        "\n",
        "print(tanggal)"
      ],
      "metadata": {
        "colab": {
          "base_uri": "https://localhost:8080/"
        },
        "id": "ldNOl-Wymkuy",
        "outputId": "fbb5f911-e21d-4a38-8a9c-7669443b776a"
      },
      "execution_count": null,
      "outputs": [
        {
          "output_type": "stream",
          "name": "stdout",
          "text": [
            "Jumat, 24 Mar 2023 21:33 WIB\n"
          ]
        }
      ]
    },
    {
      "cell_type": "markdown",
      "source": [
        "Mengambil informasi penulis berita dari halaman yang telah direquest."
      ],
      "metadata": {
        "id": "01Oh9zWAno6x"
      }
    },
    {
      "cell_type": "code",
      "source": [
        "# Mengambil informasi tanggal berita dari HTML pada tag div dengan class=author -> cari di struktur HTML\n",
        "penulis = html_bs4.find('div', class_='detail__author').text\n",
        "\n",
        "print(penulis)"
      ],
      "metadata": {
        "colab": {
          "base_uri": "https://localhost:8080/"
        },
        "id": "49q6A1ZznpD3",
        "outputId": "55bdf452-9425-4088-fc02-452fb608f5a9"
      },
      "execution_count": null,
      "outputs": [
        {
          "output_type": "stream",
          "name": "stdout",
          "text": [
            "Kartika Sari - detikSumut\n"
          ]
        }
      ]
    },
    {
      "cell_type": "markdown",
      "source": [
        "Mengambil informasi isi berita dari halaman yang telah direquest."
      ],
      "metadata": {
        "id": "pQOrrno4n9bD"
      }
    },
    {
      "cell_type": "code",
      "source": [
        "# Mengambil informasi tanggal berita dari HTML pada tag div dengan class=detail_text -> cari di struktur HTML\n",
        "isi = html_bs4.find('div', class_='detail__body-text itp_bodycontent').text\n",
        "\n",
        "print(isi)"
      ],
      "metadata": {
        "id": "5_fpshYVn98F",
        "colab": {
          "base_uri": "https://localhost:8080/"
        },
        "outputId": "26cc759a-9082-44f6-c22c-b8a7ca1a3851"
      },
      "execution_count": null,
      "outputs": [
        {
          "output_type": "stream",
          "name": "stdout",
          "text": [
            "\n",
            "\n",
            "\n",
            "Medan - Warga di Medan ramai-ramai mengabadikan fenomena bulan sabit yang tampak di langit. Kemunculan bulan ini tampak menjelang waktu berbuka puasa.Berdasarkan pantauan, tampak bulan sabit dengan ukuran cukup besar berdampingan dengan bintang yang terlihat cukup jelas.Momen ini banyak mencuri perhatian warga yang mengaitkan dengan momen bulan suci Ramadan. Banyak warga yang memposting fenomena ini di sosial media.\n",
            "\n",
            "\n",
            "\r\n",
            "    ADVERTISEMENT\r\n",
            "  \n",
            "\n",
            "\n",
            "\n",
            "\n",
            "\n",
            "\n",
            "\n",
            "\n",
            "\n",
            "\n",
            "\n",
            "\n",
            "\n",
            "\n",
            "\r\n",
            "        SCROLL TO RESUME CONTENT\r\n",
            "  \n",
            "\n",
            "\"Cantik kali langitnya, ada bulan sama bintang juga. Tadi banyak juga yang ngepos di sosmed,\" kata salah seorang warga, Nisa kepada detikSumut, Jumat (24/3/2023).Berdasarkan penjelasan dari BMKG, fenomena ini terjadi lantaran ada peristiwa konjungsi antara bumi, matahari, dan planet.\"Malam ini pada 24 Maret 2023 terjadi sebuah fenomena langit yaitu terjadinya konjungsi antara venus dan bulan sabit,\" ungkap Analis gempa bumi BBMKG Wilayah I Medan Hanif Zarkasi, Jumat (24/3/2023).Baca juga: Heboh Puting Beliung di Batu Bara, Begini Penjelasan BMKGAdapun fenomena konjungsi merupakan fenomena yang terjadi saat bumi, matahari, dan planet berada dalam satu garis lurus, sejajar, atau terlihat berdekatan saat diamati di permukaan Bumi.Hanif menyebutkan fenomena ini dapat terjadi beberapa kali dalam setahun. Hal ini tak menyebabkan efek terhadap peristiwa yang berbahaya.\"Fenomena berupa konjungsi benda langit ini bisa terjadi beberapa kali dalam setahun dan tidak berefek apapun terhadap Bumi, seperti potensi bahaya tsunami atau gempa bumi. Selain itu, juga tidak akan menyebabkan fenomena astronomis lainnya,\" pungkasnya.Baca juga: Viral, Seorang Wanita Bertingkah Aneh di Tengah Jalan di Medan\n",
            "Simak Video \"5 Fenomena Langit yang Akan Terjadi di Maret 2023 \"\n",
            "[Gambas:Video 20detik]\n",
            "(afb/afb)\n",
            "\n",
            "\n",
            "fenomena alam konjungsi bulan fenomena bulan bintang bmkg medan sumut\n",
            "\n",
            "\n",
            "\n"
          ]
        }
      ]
    },
    {
      "cell_type": "code",
      "source": [
        "# Mengambil informasi tanggal berita dari HTML pada tag div dengan class=detail_text -> cari di struktur HTML\n",
        "isi = html_bs4.find('div', class_='detail__body-text itp_bodycontent')\n",
        "\n",
        "# Jika kita hanya mengambil tag 'detail_text' terdapat kalimat-kalimat non berita yang kita dapatkan, maka kita harus memecah isi berita menjadi per paragraf\n",
        "list_paragraf = isi.find_all('p')\n",
        "\n",
        "# Print per paragraf\n",
        "for paragraf in list_paragraf:\n",
        "  print(paragraf.text)"
      ],
      "metadata": {
        "colab": {
          "base_uri": "https://localhost:8080/"
        },
        "id": "avH3c17ysFBg",
        "outputId": "2dffb58b-1cd3-44de-c386-901f5c75db33"
      },
      "execution_count": null,
      "outputs": [
        {
          "output_type": "stream",
          "name": "stdout",
          "text": [
            "Warga di Medan ramai-ramai mengabadikan fenomena bulan sabit yang tampak di langit. Kemunculan bulan ini tampak menjelang waktu berbuka puasa.\n",
            "Berdasarkan pantauan, tampak bulan sabit dengan ukuran cukup besar berdampingan dengan bintang yang terlihat cukup jelas.\n",
            "Momen ini banyak mencuri perhatian warga yang mengaitkan dengan momen bulan suci Ramadan. Banyak warga yang memposting fenomena ini di sosial media.\n",
            "\r\n",
            "    ADVERTISEMENT\r\n",
            "  \n",
            "\r\n",
            "        SCROLL TO RESUME CONTENT\r\n",
            "  \n",
            "\"Cantik kali langitnya, ada bulan sama bintang juga. Tadi banyak juga yang ngepos di sosmed,\" kata salah seorang warga, Nisa kepada detikSumut, Jumat (24/3/2023).\n",
            "Berdasarkan penjelasan dari BMKG, fenomena ini terjadi lantaran ada peristiwa konjungsi antara bumi, matahari, dan planet.\n",
            "\"Malam ini pada 24 Maret 2023 terjadi sebuah fenomena langit yaitu terjadinya konjungsi antara venus dan bulan sabit,\" ungkap Analis gempa bumi BBMKG Wilayah I Medan Hanif Zarkasi, Jumat (24/3/2023).\n",
            "Adapun fenomena konjungsi merupakan fenomena yang terjadi saat bumi, matahari, dan planet berada dalam satu garis lurus, sejajar, atau terlihat berdekatan saat diamati di permukaan Bumi.\n",
            "Hanif menyebutkan fenomena ini dapat terjadi beberapa kali dalam setahun. Hal ini tak menyebabkan efek terhadap peristiwa yang berbahaya.\n",
            "\"Fenomena berupa konjungsi benda langit ini bisa terjadi beberapa kali dalam setahun dan tidak berefek apapun terhadap Bumi, seperti potensi bahaya tsunami atau gempa bumi. Selain itu, juga tidak akan menyebabkan fenomena astronomis lainnya,\" pungkasnya.\n"
          ]
        }
      ]
    },
    {
      "cell_type": "code",
      "source": [
        "# Mengambil text dari setiap paragraf\n",
        "list_paragraf_clean = [paragraf.text for paragraf in list_paragraf]\n",
        "\n",
        "# Menggabungkan list menjadi satu\n",
        "isi_clean = ' '.join(list_paragraf_clean)\n",
        "\n",
        "# Membersihkan isi berita dari elemen tidak penting\n",
        "isi_clean = isi_clean.replace('\\r\\n', '')\n",
        "isi_clean = isi_clean.replace('ADVERTISEMENT', '')\n",
        "isi_clean = isi_clean.replace('SCROLL TO RESUME CONTENT', '')\n",
        "print(isi_clean)"
      ],
      "metadata": {
        "colab": {
          "base_uri": "https://localhost:8080/"
        },
        "id": "x5YuHkrdsRnl",
        "outputId": "65660a18-186c-4e58-ffdb-b5b3656625ae"
      },
      "execution_count": null,
      "outputs": [
        {
          "output_type": "stream",
          "name": "stdout",
          "text": [
            "Warga di Medan ramai-ramai mengabadikan fenomena bulan sabit yang tampak di langit. Kemunculan bulan ini tampak menjelang waktu berbuka puasa. Berdasarkan pantauan, tampak bulan sabit dengan ukuran cukup besar berdampingan dengan bintang yang terlihat cukup jelas. Momen ini banyak mencuri perhatian warga yang mengaitkan dengan momen bulan suci Ramadan. Banyak warga yang memposting fenomena ini di sosial media.                   \"Cantik kali langitnya, ada bulan sama bintang juga. Tadi banyak juga yang ngepos di sosmed,\" kata salah seorang warga, Nisa kepada detikSumut, Jumat (24/3/2023). Berdasarkan penjelasan dari BMKG, fenomena ini terjadi lantaran ada peristiwa konjungsi antara bumi, matahari, dan planet. \"Malam ini pada 24 Maret 2023 terjadi sebuah fenomena langit yaitu terjadinya konjungsi antara venus dan bulan sabit,\" ungkap Analis gempa bumi BBMKG Wilayah I Medan Hanif Zarkasi, Jumat (24/3/2023). Adapun fenomena konjungsi merupakan fenomena yang terjadi saat bumi, matahari, dan planet berada dalam satu garis lurus, sejajar, atau terlihat berdekatan saat diamati di permukaan Bumi. Hanif menyebutkan fenomena ini dapat terjadi beberapa kali dalam setahun. Hal ini tak menyebabkan efek terhadap peristiwa yang berbahaya. \"Fenomena berupa konjungsi benda langit ini bisa terjadi beberapa kali dalam setahun dan tidak berefek apapun terhadap Bumi, seperti potensi bahaya tsunami atau gempa bumi. Selain itu, juga tidak akan menyebabkan fenomena astronomis lainnya,\" pungkasnya.\n"
          ]
        }
      ]
    },
    {
      "cell_type": "markdown",
      "source": [
        "## MEMBUAT DATAFRAME DARI INFORMASI-INFORMASI YANG TELAH DIKUMPULKAN ##\n",
        "Pada tahap ini kita akan membuat dataframe atau tabel berisi data dari informasi-informasi yang telah kita kumpulkan dengan menggunakan Library Pandas. \n",
        "\n"
      ],
      "metadata": {
        "id": "H5E9ZxddsvE0"
      }
    },
    {
      "cell_type": "code",
      "source": [
        "# Memanggil Library BeautifulSoup\n",
        "import pandas as pd\n",
        "\n",
        "# Menentukan nama kolom\n",
        "nama_kolom = ['url', 'judul', 'tanggal', 'penulis', 'isi']\n",
        "\n",
        "# Membuat list berisi data yang akan ditabulasikan\n",
        "isi_tabel = [[list_url[0], judul, tanggal, penulis, isi_clean]]\n",
        "\n",
        "# membuat dataframe\n",
        "df_berita = pd.DataFrame(isi_tabel, columns = nama_kolom)\n",
        "\n",
        "df_berita"
      ],
      "metadata": {
        "colab": {
          "base_uri": "https://localhost:8080/",
          "height": 141
        },
        "id": "rTI3bmHUtzB7",
        "outputId": "e1c38e94-336c-4b6f-824d-09f4aa0504e2"
      },
      "execution_count": null,
      "outputs": [
        {
          "output_type": "execute_result",
          "data": {
            "text/plain": [
              "                                                 url  \\\n",
              "0  https://www.detik.com/sumut/berita/d-6636782/h...   \n",
              "\n",
              "                                               judul  \\\n",
              "0          Heboh Fenomena 'Bulan Bintang' di Lang...   \n",
              "\n",
              "                        tanggal                    penulis  \\\n",
              "0  Jumat, 24 Mar 2023 21:33 WIB  Kartika Sari - detikSumut   \n",
              "\n",
              "                                                 isi  \n",
              "0  Warga di Medan ramai-ramai mengabadikan fenome...  "
            ],
            "text/html": [
              "\n",
              "  <div id=\"df-b4e81c70-b08f-4af9-bd93-1082e94b0016\">\n",
              "    <div class=\"colab-df-container\">\n",
              "      <div>\n",
              "<style scoped>\n",
              "    .dataframe tbody tr th:only-of-type {\n",
              "        vertical-align: middle;\n",
              "    }\n",
              "\n",
              "    .dataframe tbody tr th {\n",
              "        vertical-align: top;\n",
              "    }\n",
              "\n",
              "    .dataframe thead th {\n",
              "        text-align: right;\n",
              "    }\n",
              "</style>\n",
              "<table border=\"1\" class=\"dataframe\">\n",
              "  <thead>\n",
              "    <tr style=\"text-align: right;\">\n",
              "      <th></th>\n",
              "      <th>url</th>\n",
              "      <th>judul</th>\n",
              "      <th>tanggal</th>\n",
              "      <th>penulis</th>\n",
              "      <th>isi</th>\n",
              "    </tr>\n",
              "  </thead>\n",
              "  <tbody>\n",
              "    <tr>\n",
              "      <th>0</th>\n",
              "      <td>https://www.detik.com/sumut/berita/d-6636782/h...</td>\n",
              "      <td>Heboh Fenomena 'Bulan Bintang' di Lang...</td>\n",
              "      <td>Jumat, 24 Mar 2023 21:33 WIB</td>\n",
              "      <td>Kartika Sari - detikSumut</td>\n",
              "      <td>Warga di Medan ramai-ramai mengabadikan fenome...</td>\n",
              "    </tr>\n",
              "  </tbody>\n",
              "</table>\n",
              "</div>\n",
              "      <button class=\"colab-df-convert\" onclick=\"convertToInteractive('df-b4e81c70-b08f-4af9-bd93-1082e94b0016')\"\n",
              "              title=\"Convert this dataframe to an interactive table.\"\n",
              "              style=\"display:none;\">\n",
              "        \n",
              "  <svg xmlns=\"http://www.w3.org/2000/svg\" height=\"24px\"viewBox=\"0 0 24 24\"\n",
              "       width=\"24px\">\n",
              "    <path d=\"M0 0h24v24H0V0z\" fill=\"none\"/>\n",
              "    <path d=\"M18.56 5.44l.94 2.06.94-2.06 2.06-.94-2.06-.94-.94-2.06-.94 2.06-2.06.94zm-11 1L8.5 8.5l.94-2.06 2.06-.94-2.06-.94L8.5 2.5l-.94 2.06-2.06.94zm10 10l.94 2.06.94-2.06 2.06-.94-2.06-.94-.94-2.06-.94 2.06-2.06.94z\"/><path d=\"M17.41 7.96l-1.37-1.37c-.4-.4-.92-.59-1.43-.59-.52 0-1.04.2-1.43.59L10.3 9.45l-7.72 7.72c-.78.78-.78 2.05 0 2.83L4 21.41c.39.39.9.59 1.41.59.51 0 1.02-.2 1.41-.59l7.78-7.78 2.81-2.81c.8-.78.8-2.07 0-2.86zM5.41 20L4 18.59l7.72-7.72 1.47 1.35L5.41 20z\"/>\n",
              "  </svg>\n",
              "      </button>\n",
              "      \n",
              "  <style>\n",
              "    .colab-df-container {\n",
              "      display:flex;\n",
              "      flex-wrap:wrap;\n",
              "      gap: 12px;\n",
              "    }\n",
              "\n",
              "    .colab-df-convert {\n",
              "      background-color: #E8F0FE;\n",
              "      border: none;\n",
              "      border-radius: 50%;\n",
              "      cursor: pointer;\n",
              "      display: none;\n",
              "      fill: #1967D2;\n",
              "      height: 32px;\n",
              "      padding: 0 0 0 0;\n",
              "      width: 32px;\n",
              "    }\n",
              "\n",
              "    .colab-df-convert:hover {\n",
              "      background-color: #E2EBFA;\n",
              "      box-shadow: 0px 1px 2px rgba(60, 64, 67, 0.3), 0px 1px 3px 1px rgba(60, 64, 67, 0.15);\n",
              "      fill: #174EA6;\n",
              "    }\n",
              "\n",
              "    [theme=dark] .colab-df-convert {\n",
              "      background-color: #3B4455;\n",
              "      fill: #D2E3FC;\n",
              "    }\n",
              "\n",
              "    [theme=dark] .colab-df-convert:hover {\n",
              "      background-color: #434B5C;\n",
              "      box-shadow: 0px 1px 3px 1px rgba(0, 0, 0, 0.15);\n",
              "      filter: drop-shadow(0px 1px 2px rgba(0, 0, 0, 0.3));\n",
              "      fill: #FFFFFF;\n",
              "    }\n",
              "  </style>\n",
              "\n",
              "      <script>\n",
              "        const buttonEl =\n",
              "          document.querySelector('#df-b4e81c70-b08f-4af9-bd93-1082e94b0016 button.colab-df-convert');\n",
              "        buttonEl.style.display =\n",
              "          google.colab.kernel.accessAllowed ? 'block' : 'none';\n",
              "\n",
              "        async function convertToInteractive(key) {\n",
              "          const element = document.querySelector('#df-b4e81c70-b08f-4af9-bd93-1082e94b0016');\n",
              "          const dataTable =\n",
              "            await google.colab.kernel.invokeFunction('convertToInteractive',\n",
              "                                                     [key], {});\n",
              "          if (!dataTable) return;\n",
              "\n",
              "          const docLinkHtml = 'Like what you see? Visit the ' +\n",
              "            '<a target=\"_blank\" href=https://colab.research.google.com/notebooks/data_table.ipynb>data table notebook</a>'\n",
              "            + ' to learn more about interactive tables.';\n",
              "          element.innerHTML = '';\n",
              "          dataTable['output_type'] = 'display_data';\n",
              "          await google.colab.output.renderOutput(dataTable, element);\n",
              "          const docLink = document.createElement('div');\n",
              "          docLink.innerHTML = docLinkHtml;\n",
              "          element.appendChild(docLink);\n",
              "        }\n",
              "      </script>\n",
              "    </div>\n",
              "  </div>\n",
              "  "
            ]
          },
          "metadata": {},
          "execution_count": 83
        }
      ]
    },
    {
      "cell_type": "markdown",
      "source": [
        "## MELAKUKAN ITERASI UNTUK SEMUA URL BERITA ##\n",
        "Pada tahap ini kita akan membuat iterasi untuk melakukan pengumpulan data berita dari semua URL berita yang telah kita crawling sebelumnya. \n"
      ],
      "metadata": {
        "id": "ame1d3W4upMe"
      }
    },
    {
      "cell_type": "code",
      "source": [
        "# Memanggil semua library yang digunakan\n",
        "import requests\n",
        "from bs4 import BeautifulSoup\n",
        "import pandas as pd\n",
        "\n",
        "# Inisiasi isi tabel\n",
        "isi_tabel = []\n",
        "\n",
        "# Membuat iterasi dari setiap URL berita\n",
        "for url in list_url:\n",
        "  print(f'Pengerjaan URL Berita {url}:')\n",
        "\n",
        "  # Melakukan request ke URL berita\n",
        "  r = requests.get(url)\n",
        "\n",
        "  # Mengambil HTML dari halaman website yang telah direquest\n",
        "  html_halaman = r.text\n",
        "\n",
        "  # Memanggil variabel berisi struktur HTML dari halaman CNBC yang telah direquest sebelumnya.\n",
        "  html_bs4 = BeautifulSoup(html_halaman)\n",
        "\n",
        "  # Mengambil informasi judul berita dari HTML\n",
        "  judul = html_bs4.find('h1', class_='detail__title').text\n",
        "  judul = judul.replace('\\n', '')\n",
        "\n",
        "  # Mengambil informasi tanggal berita dari HTML\n",
        "  tanggal = html_bs4.find('div', class_='detail__date').text\n",
        "\n",
        "  # Mengambil informasi penulis berita dari HTML\n",
        "  penulis = html_bs4.find('div', class_='detail__author').text\n",
        "\n",
        "  # Mengambil informasi isi berita dari HTML\n",
        "  isi = html_bs4.find('div', class_='detail__body-text itp_bodycontent')\n",
        "\n",
        "  ## Memecah isi berita menjadi per paragraf\n",
        "  list_paragraf = isi.find_all('p')\n",
        "  \n",
        "  ## Mengambil text dari setiap paragraf\n",
        "  list_paragraf_clean = [paragraf.text for paragraf in list_paragraf]\n",
        "\n",
        "  ## Menggabungkan list menjadi satu\n",
        "  isi_clean = ' '.join(list_paragraf_clean)\n",
        "\n",
        "  ## Membersihkan isi berita dari elemen tidak penting\n",
        "  isi_clean = isi_clean.replace('\\r\\n', '')\n",
        "  isi_clean = isi_clean.replace('ADVERTISEMENT', '')\n",
        "  isi_clean = isi_clean.replace('SCROLL TO RESUME CONTENT', '')\n",
        "\n",
        "  isi_baris = [url, judul, tanggal, penulis, isi_clean]\n",
        "  isi_tabel.append(isi_baris)\n",
        "\n",
        "print('')\n",
        "\n",
        "# Membuat DataFrame\n",
        "## Menentukan nama kolom\n",
        "nama_kolom = ['url', 'judul', 'tanggal', 'penulis', 'isi']\n",
        "\n",
        "## Inisiasi dataframe\n",
        "df_berita = pd.DataFrame(isi_tabel, columns = nama_kolom)\n",
        "\n",
        "df_berita"
      ],
      "metadata": {
        "colab": {
          "base_uri": "https://localhost:8080/",
          "height": 760
        },
        "id": "H4YzJ4lIt4au",
        "outputId": "d9384555-7a1b-43f0-f3fc-543f989dd748"
      },
      "execution_count": null,
      "outputs": [
        {
          "output_type": "stream",
          "name": "stdout",
          "text": [
            "Pengerjaan URL Berita https://www.detik.com/sumut/berita/d-6636782/heboh-fenomena-bulan-bintang-di-langit-medan-begini-penjelasan-bmkg:\n",
            "Pengerjaan URL Berita https://www.detik.com/sumut/berita/d-6636447/jadwal-imsak-kota-jambi-dan-sekitarnya-25-maret-cek-di-sini:\n",
            "Pengerjaan URL Berita https://www.detik.com/jabar/berita/d-6635363/jadwal-imsakiyah-purwakarta-subang-dan-karawang-25-maret:\n",
            "Pengerjaan URL Berita https://www.detik.com/sumut/berita/d-6636426/simak-jadwal-imsak-bandar-lampung-dan-sekitarnya-25-maret-2023-di-sini:\n",
            "Pengerjaan URL Berita https://www.detik.com/sumut/berita/d-6636405/jadwal-imsak-dan-sholat-subuh-pekanbaru-riau-25-maret-2023:\n",
            "Pengerjaan URL Berita https://www.detik.com/sumut/berita/d-6636366/jadwal-imsak-dan-subuh-bengkulu-25-maret-2023-simak-waktunya-di-sini:\n",
            "Pengerjaan URL Berita https://www.detik.com/sumut/berita/d-6636340/jadwal-imsak-dan-subuh-di-bangka-belitung-25-maret-2023:\n",
            "Pengerjaan URL Berita https://www.detik.com/sumut/berita/d-6636377/simak-jadwal-imsak-dan-subuh-di-aceh-hari-ini-sabtu-25-maret-2023:\n",
            "Pengerjaan URL Berita https://www.detik.com/sumut/berita/d-6636266/jadwal-imsak-dan-subuh-palembang-sumsel-25-maret-2023:\n",
            "Pengerjaan URL Berita https://www.detik.com/jatim/berita/d-6636784/polisi-bojonegoro-bagi-takjil-sekaligus-kampanye-tertib-lalin-saat-ramadhan:\n",
            "\n"
          ]
        },
        {
          "output_type": "execute_result",
          "data": {
            "text/plain": [
              "                                                 url  \\\n",
              "0  https://www.detik.com/sumut/berita/d-6636782/h...   \n",
              "1  https://www.detik.com/sumut/berita/d-6636447/j...   \n",
              "2  https://www.detik.com/jabar/berita/d-6635363/j...   \n",
              "3  https://www.detik.com/sumut/berita/d-6636426/s...   \n",
              "4  https://www.detik.com/sumut/berita/d-6636405/j...   \n",
              "5  https://www.detik.com/sumut/berita/d-6636366/j...   \n",
              "6  https://www.detik.com/sumut/berita/d-6636340/j...   \n",
              "7  https://www.detik.com/sumut/berita/d-6636377/s...   \n",
              "8  https://www.detik.com/sumut/berita/d-6636266/j...   \n",
              "9  https://www.detik.com/jatim/berita/d-6636784/p...   \n",
              "\n",
              "                                               judul  \\\n",
              "0          Heboh Fenomena 'Bulan Bintang' di Lang...   \n",
              "1          Jadwal Imsak Kota Jambi dan Sekitarnya...   \n",
              "2          Jadwal Imsakiyah Purwakarta, Subang da...   \n",
              "3          Simak Jadwal Imsak Bandar Lampung dan ...   \n",
              "4          Jadwal Imsak dan Sholat Subuh Pekanbar...   \n",
              "5          Jadwal Imsak dan Subuh Bengkulu 25 Mar...   \n",
              "6          Jadwal Imsak dan Subuh di Bangka Belit...   \n",
              "7          Simak Jadwal Imsak dan Subuh di Aceh H...   \n",
              "8          Jadwal Imsak dan Subuh Palembang Sumse...   \n",
              "9          Polisi Bojonegoro Bagi Takjil Sekaligu...   \n",
              "\n",
              "                        tanggal                                 penulis  \\\n",
              "0  Jumat, 24 Mar 2023 21:33 WIB               Kartika Sari - detikSumut   \n",
              "1  Jumat, 24 Mar 2023 21:16 WIB  Ahmad Arfah Fansuri Lubis - detikSumut   \n",
              "2  Jumat, 24 Mar 2023 21:15 WIB              Alya Larasati - detikJabar   \n",
              "3  Jumat, 24 Mar 2023 21:14 WIB  Ahmad Arfah Fansuri Lubis - detikSumut   \n",
              "4  Jumat, 24 Mar 2023 21:12 WIB          Raja Adil Siregar - detikSumut   \n",
              "5  Jumat, 24 Mar 2023 21:10 WIB           Raja Malo Sinaga - detikSumut   \n",
              "6  Jumat, 24 Mar 2023 21:08 WIB              Goklas Wisely - detikSumut   \n",
              "7  Jumat, 24 Mar 2023 21:06 WIB               Agus Setyadi - detikSumut   \n",
              "8  Jumat, 24 Mar 2023 21:02 WIB                 Nizar Aldi - detikSumut   \n",
              "9  Jumat, 24 Mar 2023 20:55 WIB                Ainur Rofiq - detikJatim   \n",
              "\n",
              "                                                 isi  \n",
              "0  Warga di Medan ramai-ramai mengabadikan fenome...  \n",
              "1  Jadwal Imsak Kota Jambi dan sejumlah daerah la...  \n",
              "2  Jadwal imsakiyah meliputi Purwakarta, Subang d...  \n",
              "3  Kementerian Agama melalui Direktorat Jenderal ...  \n",
              "4  Bagi detikers yang akan puasa ketiga, Sabtu, 2...  \n",
              "5  Puasa Ramadan 1444 H memasuki hari ketiga pada...  \n",
              "6  Puasa Ramadan 1444 Hijriah telah memasuki hari...  \n",
              "7  Puasa Ramadan 1444 H/2023 M sudah berlangsung ...  \n",
              "8  Puasa di bulan Ramadan 1444 H sudah memasuki h...  \n",
              "9  Polisi di Bojonegoro melakukan kampanye tertib...  "
            ],
            "text/html": [
              "\n",
              "  <div id=\"df-22cbc43e-3e80-4adc-b97b-e3dd35fe3858\">\n",
              "    <div class=\"colab-df-container\">\n",
              "      <div>\n",
              "<style scoped>\n",
              "    .dataframe tbody tr th:only-of-type {\n",
              "        vertical-align: middle;\n",
              "    }\n",
              "\n",
              "    .dataframe tbody tr th {\n",
              "        vertical-align: top;\n",
              "    }\n",
              "\n",
              "    .dataframe thead th {\n",
              "        text-align: right;\n",
              "    }\n",
              "</style>\n",
              "<table border=\"1\" class=\"dataframe\">\n",
              "  <thead>\n",
              "    <tr style=\"text-align: right;\">\n",
              "      <th></th>\n",
              "      <th>url</th>\n",
              "      <th>judul</th>\n",
              "      <th>tanggal</th>\n",
              "      <th>penulis</th>\n",
              "      <th>isi</th>\n",
              "    </tr>\n",
              "  </thead>\n",
              "  <tbody>\n",
              "    <tr>\n",
              "      <th>0</th>\n",
              "      <td>https://www.detik.com/sumut/berita/d-6636782/h...</td>\n",
              "      <td>Heboh Fenomena 'Bulan Bintang' di Lang...</td>\n",
              "      <td>Jumat, 24 Mar 2023 21:33 WIB</td>\n",
              "      <td>Kartika Sari - detikSumut</td>\n",
              "      <td>Warga di Medan ramai-ramai mengabadikan fenome...</td>\n",
              "    </tr>\n",
              "    <tr>\n",
              "      <th>1</th>\n",
              "      <td>https://www.detik.com/sumut/berita/d-6636447/j...</td>\n",
              "      <td>Jadwal Imsak Kota Jambi dan Sekitarnya...</td>\n",
              "      <td>Jumat, 24 Mar 2023 21:16 WIB</td>\n",
              "      <td>Ahmad Arfah Fansuri Lubis - detikSumut</td>\n",
              "      <td>Jadwal Imsak Kota Jambi dan sejumlah daerah la...</td>\n",
              "    </tr>\n",
              "    <tr>\n",
              "      <th>2</th>\n",
              "      <td>https://www.detik.com/jabar/berita/d-6635363/j...</td>\n",
              "      <td>Jadwal Imsakiyah Purwakarta, Subang da...</td>\n",
              "      <td>Jumat, 24 Mar 2023 21:15 WIB</td>\n",
              "      <td>Alya Larasati - detikJabar</td>\n",
              "      <td>Jadwal imsakiyah meliputi Purwakarta, Subang d...</td>\n",
              "    </tr>\n",
              "    <tr>\n",
              "      <th>3</th>\n",
              "      <td>https://www.detik.com/sumut/berita/d-6636426/s...</td>\n",
              "      <td>Simak Jadwal Imsak Bandar Lampung dan ...</td>\n",
              "      <td>Jumat, 24 Mar 2023 21:14 WIB</td>\n",
              "      <td>Ahmad Arfah Fansuri Lubis - detikSumut</td>\n",
              "      <td>Kementerian Agama melalui Direktorat Jenderal ...</td>\n",
              "    </tr>\n",
              "    <tr>\n",
              "      <th>4</th>\n",
              "      <td>https://www.detik.com/sumut/berita/d-6636405/j...</td>\n",
              "      <td>Jadwal Imsak dan Sholat Subuh Pekanbar...</td>\n",
              "      <td>Jumat, 24 Mar 2023 21:12 WIB</td>\n",
              "      <td>Raja Adil Siregar - detikSumut</td>\n",
              "      <td>Bagi detikers yang akan puasa ketiga, Sabtu, 2...</td>\n",
              "    </tr>\n",
              "    <tr>\n",
              "      <th>5</th>\n",
              "      <td>https://www.detik.com/sumut/berita/d-6636366/j...</td>\n",
              "      <td>Jadwal Imsak dan Subuh Bengkulu 25 Mar...</td>\n",
              "      <td>Jumat, 24 Mar 2023 21:10 WIB</td>\n",
              "      <td>Raja Malo Sinaga - detikSumut</td>\n",
              "      <td>Puasa Ramadan 1444 H memasuki hari ketiga pada...</td>\n",
              "    </tr>\n",
              "    <tr>\n",
              "      <th>6</th>\n",
              "      <td>https://www.detik.com/sumut/berita/d-6636340/j...</td>\n",
              "      <td>Jadwal Imsak dan Subuh di Bangka Belit...</td>\n",
              "      <td>Jumat, 24 Mar 2023 21:08 WIB</td>\n",
              "      <td>Goklas Wisely - detikSumut</td>\n",
              "      <td>Puasa Ramadan 1444 Hijriah telah memasuki hari...</td>\n",
              "    </tr>\n",
              "    <tr>\n",
              "      <th>7</th>\n",
              "      <td>https://www.detik.com/sumut/berita/d-6636377/s...</td>\n",
              "      <td>Simak Jadwal Imsak dan Subuh di Aceh H...</td>\n",
              "      <td>Jumat, 24 Mar 2023 21:06 WIB</td>\n",
              "      <td>Agus Setyadi - detikSumut</td>\n",
              "      <td>Puasa Ramadan 1444 H/2023 M sudah berlangsung ...</td>\n",
              "    </tr>\n",
              "    <tr>\n",
              "      <th>8</th>\n",
              "      <td>https://www.detik.com/sumut/berita/d-6636266/j...</td>\n",
              "      <td>Jadwal Imsak dan Subuh Palembang Sumse...</td>\n",
              "      <td>Jumat, 24 Mar 2023 21:02 WIB</td>\n",
              "      <td>Nizar Aldi - detikSumut</td>\n",
              "      <td>Puasa di bulan Ramadan 1444 H sudah memasuki h...</td>\n",
              "    </tr>\n",
              "    <tr>\n",
              "      <th>9</th>\n",
              "      <td>https://www.detik.com/jatim/berita/d-6636784/p...</td>\n",
              "      <td>Polisi Bojonegoro Bagi Takjil Sekaligu...</td>\n",
              "      <td>Jumat, 24 Mar 2023 20:55 WIB</td>\n",
              "      <td>Ainur Rofiq - detikJatim</td>\n",
              "      <td>Polisi di Bojonegoro melakukan kampanye tertib...</td>\n",
              "    </tr>\n",
              "  </tbody>\n",
              "</table>\n",
              "</div>\n",
              "      <button class=\"colab-df-convert\" onclick=\"convertToInteractive('df-22cbc43e-3e80-4adc-b97b-e3dd35fe3858')\"\n",
              "              title=\"Convert this dataframe to an interactive table.\"\n",
              "              style=\"display:none;\">\n",
              "        \n",
              "  <svg xmlns=\"http://www.w3.org/2000/svg\" height=\"24px\"viewBox=\"0 0 24 24\"\n",
              "       width=\"24px\">\n",
              "    <path d=\"M0 0h24v24H0V0z\" fill=\"none\"/>\n",
              "    <path d=\"M18.56 5.44l.94 2.06.94-2.06 2.06-.94-2.06-.94-.94-2.06-.94 2.06-2.06.94zm-11 1L8.5 8.5l.94-2.06 2.06-.94-2.06-.94L8.5 2.5l-.94 2.06-2.06.94zm10 10l.94 2.06.94-2.06 2.06-.94-2.06-.94-.94-2.06-.94 2.06-2.06.94z\"/><path d=\"M17.41 7.96l-1.37-1.37c-.4-.4-.92-.59-1.43-.59-.52 0-1.04.2-1.43.59L10.3 9.45l-7.72 7.72c-.78.78-.78 2.05 0 2.83L4 21.41c.39.39.9.59 1.41.59.51 0 1.02-.2 1.41-.59l7.78-7.78 2.81-2.81c.8-.78.8-2.07 0-2.86zM5.41 20L4 18.59l7.72-7.72 1.47 1.35L5.41 20z\"/>\n",
              "  </svg>\n",
              "      </button>\n",
              "      \n",
              "  <style>\n",
              "    .colab-df-container {\n",
              "      display:flex;\n",
              "      flex-wrap:wrap;\n",
              "      gap: 12px;\n",
              "    }\n",
              "\n",
              "    .colab-df-convert {\n",
              "      background-color: #E8F0FE;\n",
              "      border: none;\n",
              "      border-radius: 50%;\n",
              "      cursor: pointer;\n",
              "      display: none;\n",
              "      fill: #1967D2;\n",
              "      height: 32px;\n",
              "      padding: 0 0 0 0;\n",
              "      width: 32px;\n",
              "    }\n",
              "\n",
              "    .colab-df-convert:hover {\n",
              "      background-color: #E2EBFA;\n",
              "      box-shadow: 0px 1px 2px rgba(60, 64, 67, 0.3), 0px 1px 3px 1px rgba(60, 64, 67, 0.15);\n",
              "      fill: #174EA6;\n",
              "    }\n",
              "\n",
              "    [theme=dark] .colab-df-convert {\n",
              "      background-color: #3B4455;\n",
              "      fill: #D2E3FC;\n",
              "    }\n",
              "\n",
              "    [theme=dark] .colab-df-convert:hover {\n",
              "      background-color: #434B5C;\n",
              "      box-shadow: 0px 1px 3px 1px rgba(0, 0, 0, 0.15);\n",
              "      filter: drop-shadow(0px 1px 2px rgba(0, 0, 0, 0.3));\n",
              "      fill: #FFFFFF;\n",
              "    }\n",
              "  </style>\n",
              "\n",
              "      <script>\n",
              "        const buttonEl =\n",
              "          document.querySelector('#df-22cbc43e-3e80-4adc-b97b-e3dd35fe3858 button.colab-df-convert');\n",
              "        buttonEl.style.display =\n",
              "          google.colab.kernel.accessAllowed ? 'block' : 'none';\n",
              "\n",
              "        async function convertToInteractive(key) {\n",
              "          const element = document.querySelector('#df-22cbc43e-3e80-4adc-b97b-e3dd35fe3858');\n",
              "          const dataTable =\n",
              "            await google.colab.kernel.invokeFunction('convertToInteractive',\n",
              "                                                     [key], {});\n",
              "          if (!dataTable) return;\n",
              "\n",
              "          const docLinkHtml = 'Like what you see? Visit the ' +\n",
              "            '<a target=\"_blank\" href=https://colab.research.google.com/notebooks/data_table.ipynb>data table notebook</a>'\n",
              "            + ' to learn more about interactive tables.';\n",
              "          element.innerHTML = '';\n",
              "          dataTable['output_type'] = 'display_data';\n",
              "          await google.colab.output.renderOutput(dataTable, element);\n",
              "          const docLink = document.createElement('div');\n",
              "          docLink.innerHTML = docLinkHtml;\n",
              "          element.appendChild(docLink);\n",
              "        }\n",
              "      </script>\n",
              "    </div>\n",
              "  </div>\n",
              "  "
            ]
          },
          "metadata": {},
          "execution_count": 84
        }
      ]
    }
  ]
}