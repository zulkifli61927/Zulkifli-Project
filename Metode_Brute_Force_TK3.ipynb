{
  "nbformat": 4,
  "nbformat_minor": 0,
  "metadata": {
    "colab": {
      "provenance": []
    },
    "kernelspec": {
      "name": "python3",
      "display_name": "Python 3"
    },
    "language_info": {
      "name": "python"
    }
  },
  "cells": [
    {
      "cell_type": "code",
      "source": [
        "#Metode Brute Force\n",
        "from itertools import permutations\n",
        "#30\n",
        "# Inisialisasi data\n",
        "num_customers = 4\n",
        "depot = 0\n",
        "distances = [\n",
        "    [0, 340, 165, 169, 418],\n",
        "    [340, 0, 243, 308, 292],\n",
        "    [165, 243, 0, 67, 253],\n",
        "    [169, 308, 67, 0, 267],\n",
        "    [418, 292, 253, 267, 0]\n",
        "]\n",
        "\n",
        "# Generate semua permutasi urutan pelanggan\n",
        "permutations_customers = list(permutations(range(1, num_customers + 1)))\n",
        "\n",
        "# Inisialisasi solusi terbaik\n",
        "best_solution = None\n",
        "best_distance = float('inf')\n",
        "\n",
        "# Iterasi setiap permutasi\n",
        "for permutation in permutations_customers:\n",
        "    # Membentuk rute\n",
        "    solution = [depot] + list(permutation) + [depot]\n",
        "    distance = 0\n",
        "    \n",
        "    if solution.index(1) < solution.index(3) and solution.index(2) < solution.index(4):\n",
        "        # Menghitung jarak rute\n",
        "        for i in range(len(solution) - 1):\n",
        "            distance += distances[solution[i]][solution[i+1]]\n",
        "    \n",
        "        # Memeriksa jika jarak lebih baik dari solusi terbaik sejauh ini\n",
        "        if distance < best_distance:\n",
        "            best_solution = solution\n",
        "            best_distance = distance\n",
        "\n",
        "# Menampilkan solusi terbaik\n",
        "print(\"Solusi Terbaik:\", best_solution)\n",
        "print(\"Jarak Solusi Terbaik:\", best_distance)"
      ],
      "metadata": {
        "colab": {
          "base_uri": "https://localhost:8080/"
        },
        "id": "C61oIaxA3QpU",
        "outputId": "56dfb263-784c-4ebb-82ed-b6d1d0eadafb"
      },
      "execution_count": null,
      "outputs": [
        {
          "output_type": "stream",
          "name": "stdout",
          "text": [
            "Solusi Terbaik: [0, 2, 1, 4, 3, 0]\n",
            "Jarak Solusi Terbaik: 1136\n"
          ]
        }
      ]
    }
  ]
}