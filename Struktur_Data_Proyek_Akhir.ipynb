{
  "nbformat": 4,
  "nbformat_minor": 0,
  "metadata": {
    "colab": {
      "provenance": []
    },
    "kernelspec": {
      "name": "python3",
      "display_name": "Python 3"
    },
    "language_info": {
      "name": "python"
    }
  },
  "cells": [
    {
      "cell_type": "markdown",
      "metadata": {
        "id": "UQetb2i3DspO"
      },
      "source": [
        "Prime Distance On Tree - https://www.codechef.com/problems/PRIMEDST\n",
        "\n",
        "\n",
        "\n",
        "Aulia Zahra Alika Swity\t\t\t          (2006568815)\n",
        "\n",
        "Larasati Paundrianagari Ratusinkaya\t\t(2006568903)\n",
        "\n",
        "Muhammad Zulkifli\t\t\t\t              (2006568840)\n"
      ]
    },
    {
      "cell_type": "code",
      "metadata": {
        "colab": {
          "base_uri": "https://localhost:8080/"
        },
        "id": "VUd2wznVYrfO",
        "outputId": "c375c6c4-9b06-49fc-ef36-6375d5a57394"
      },
      "source": [
        "from collections import defaultdict, Counter\n",
        "from math import sqrt\n",
        "\n",
        "#Mendefinisikan hitungan jarak antar nodes\n",
        "def calc_distances(nb_nodes, edges):\n",
        "    node_to_connected_node = defaultdict(list)\n",
        "    edge_to_distance = dict()\n",
        "    for a, b in edges:\n",
        "        node_to_connected_node[a].append(b)\n",
        "        node_to_connected_node[b].append(a)\n",
        "\n",
        "    # tree = build_tree(nb_nodes // 2, node_to_connected_node, edge_to_distance, parent_node=1)\n",
        "    tree = build_tree(1, node_to_connected_node, edge_to_distance, parent_node=1)\n",
        "\n",
        "    return tree['dist_to_root'] + tree['dist_sub_tree']\n",
        "\n",
        "#Mendefinisikan daftar jarak antar node yang prima\n",
        "def list_primes(n):\n",
        "    pot_primes = list(range(2, n+1))\n",
        "    max_prime = sqrt(n)\n",
        "    prime_index = 0\n",
        "    prime = pot_primes[prime_index]\n",
        "    while prime <= max_prime:\n",
        "        to_kill = {i for i in pot_primes if i % prime == 0}\n",
        "        to_kill.remove(prime)\n",
        "\n",
        "        pot_primes = [i for i in pot_primes if i not in to_kill]\n",
        "        prime_index += 1\n",
        "        prime = pot_primes[prime_index]\n",
        "\n",
        "    return set(pot_primes)\n",
        "\n",
        "#Menciptakan node-node yang akan ada di tree\n",
        "def add_tree(*trees):\n",
        "    this_tree = {\n",
        "        'dist_to_root': Counter({0: 1}),\n",
        "        'dist_sub_tree': Counter(),\n",
        "    }\n",
        "    for tree in trees:\n",
        "        this_tree['dist_sub_tree'] += tree['dist_to_root'] + tree['dist_sub_tree']\n",
        "        this_tree['dist_to_root'] += Counter({\n",
        "            dist + 1: count for dist, count in tree['dist_to_root'].items()\n",
        "        })\n",
        "\n",
        "    for i, tree_1 in enumerate(trees):\n",
        "        for tree_2 in trees[i+1:]:\n",
        "            for dist_a, count_a in tree_1['dist_to_root'].items():\n",
        "                for dist_b, count_b in tree_2['dist_to_root'].items():\n",
        "                    this_tree['dist_sub_tree'][dist_a + dist_b + 2] += count_a * count_b\n",
        "\n",
        "\n",
        "    return this_tree\n",
        "\n",
        "#Menghitung probabilitas jarak antar node-nya prima\n",
        "def calc_proba_dist_prime(nb_nodes, edges):\n",
        "    dist_to_count = calc_distances(nb_nodes, edges)\n",
        "    primes = list_primes(max(dist_to_count))\n",
        "\n",
        "    nb_primes = sum(count for dist, count in dist_to_count.items() if dist in primes)\n",
        "    proba = nb_primes / (sum(dist_to_count.values()) - dist_to_count[0])\n",
        "\n",
        "    return proba\n",
        "\n",
        "#Membuat struktur tree secara keseluruhan\n",
        "def build_tree(node_id, node_to_connected_node, edge_to_distance, parent_node):\n",
        "    layer_to_nodes = _extract_layer_to_nodes(node_id, node_to_connected_node)\n",
        "    node_to_tree = dict()\n",
        "    layers = sorted(layer_to_nodes, reverse=True)\n",
        "    for level in layers:\n",
        "        nodes = layer_to_nodes[level]\n",
        "        for node in nodes:\n",
        "            tree_indexes = [a for a in node_to_connected_node[node] if a in node_to_tree]\n",
        "            subtrees = [node_to_tree[a] for a in tree_indexes]\n",
        "            tree = add_tree(*subtrees)\n",
        "            node_to_tree[node] = tree\n",
        "\n",
        "            del subtrees\n",
        "            for a in tree_indexes:\n",
        "                tree = node_to_tree[a]\n",
        "                del tree\n",
        "                del node_to_tree[a]\n",
        "\n",
        "    return node_to_tree[node_id]\n",
        "\n",
        "#Menghubungkan edge satu dan lainnya\n",
        "def _extract_layer_to_nodes(node_id, node_to_connected_node):\n",
        "    nodes = set(node_to_connected_node)\n",
        "    layer_to_nodes = defaultdict(list)\n",
        "\n",
        "    node_to_explore = [node_id]\n",
        "    layer = 0\n",
        "    while nodes:\n",
        "        new_node_to_explore = list()\n",
        "        for node in node_to_explore:\n",
        "            layer_to_nodes[layer].append(node)\n",
        "            nodes.remove(node)\n",
        "            new_node_to_explore += [a_node for a_node in node_to_connected_node[node]\n",
        "                                    if a_node in nodes]\n",
        "\n",
        "        node_to_explore = new_node_to_explore\n",
        "        layer += 1\n",
        "            \n",
        "    return layer_to_nodes\n",
        "\n",
        "\n",
        "nb_nodes = int(input())\n",
        "edges = []\n",
        "is_inputing = True\n",
        "while is_inputing:\n",
        "    try:\n",
        "        new_edges = [int(a) for a in input().split()]\n",
        "        if new_edges[0] > new_edges[1]:\n",
        "            new_edges = [new_edges[1], new_edges[0]]\n",
        "        edges.append(new_edges)\n",
        "    except Exception:\n",
        "        is_inputing = False\n",
        "\n",
        "\n",
        "print(calc_proba_dist_prime(nb_nodes, edges))"
      ],
      "execution_count": null,
      "outputs": [
        {
          "output_type": "stream",
          "name": "stdout",
          "text": [
            "7\n",
            "1 2\n",
            "2 3\n",
            "3 4\n",
            "4 5\n",
            "5 6\n",
            "6 7\n",
            "\n",
            "0.5238095238095238\n"
          ]
        }
      ]
    },
    {
      "cell_type": "code",
      "metadata": {
        "id": "w4QTUqtUZRzy"
      },
      "source": [],
      "execution_count": null,
      "outputs": []
    },
    {
      "cell_type": "markdown",
      "metadata": {
        "id": "CFOrZO3DiZqZ"
      },
      "source": [
        "Lampiran Video :  https://drive.google.com/drive/folders/1mbUgTzHvL0dWK2K-3k_7LH8B7p_VRPaJ?usp=sharing"
      ]
    }
  ]
}