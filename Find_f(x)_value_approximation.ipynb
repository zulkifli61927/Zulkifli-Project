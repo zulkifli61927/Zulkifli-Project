{
  "nbformat": 4,
  "nbformat_minor": 0,
  "metadata": {
    "colab": {
      "provenance": []
    },
    "kernelspec": {
      "name": "python3",
      "display_name": "Python 3"
    },
    "language_info": {
      "name": "python"
    }
  },
  "cells": [
    {
      "cell_type": "code",
      "metadata": {
        "id": "nmi00fdTZww_",
        "colab": {
          "base_uri": "https://localhost:8080/"
        },
        "outputId": "165daeae-d575-481c-d120-1ab885a78edd"
      },
      "source": [
        "Mencari Nilai f'(2.4) :\n",
        "\n",
        "X = [2.4,2.5,2.6,2.7,2.8,2.9,3.0]    #Input list nilai X secara berurutan\n",
        "Y = [1.76601,1.87697,1.97803,2.06988,2.15357,2.22953,2.29859]    #Input list nilai Y secara berurutan sesuai nilai X nya\n",
        "\n",
        "h=0.1       #Karena jarak antar x 0.1, maka h = 0.1\n",
        "\n",
        "def TPEP(h):                           #Definisikan Three Point EndPoint Method\n",
        "  return ((1/(2*h)*(-3*(1.76601)+4*(1.87697)-1.97803)))          #Formula Three Point Endpoint yang di substitusi x = 2.4\n",
        "\n",
        "def FPEP(h):                     #Definisikan Five Point EndPoint Method\n",
        "  return (1/(12*h))*(-25*(1.76601) + 48*(1.87697) - 36*(1.97803) + 16*(2.06988) - 3*(2.15357))         #Formula Five Point EndPoint yang di substitusi x = 2.4\n",
        "\n",
        "\n",
        "choise = eval(input('Pilihan Metode : (1) Three Point EndPoint (2) Three Point MidPoint (3) Five Point Endpoint (4) Five Point Midpoint :'))   #Pilihan metode ingin yang digunakan\n",
        "\n",
        "if choise == 1 :\n",
        "  print(TPEP(h))\n",
        "elif choise == 2 :\n",
        " print('Maaf Metode tidak bisa digunakan')\n",
        "elif choise == 3 :\n",
        "  print(FPEP(h))\n",
        "elif choise == 4 :\n",
        "  print('Maaf Metode tidak bisa digunakan')\n",
        "else:\n",
        "  print('your choise is error')\n"
      ],
      "execution_count": null,
      "outputs": [
        {
          "output_type": "stream",
          "text": [
            "Pilihan Metode : (1) Three Point EndPoint (2) Three Point MidPoint (3) Five Point Endpoint (4) Five Point Midpoint :3\n",
            "1.1604999999999999\n"
          ],
          "name": "stdout"
        }
      ]
    },
    {
      "cell_type": "code",
      "metadata": {
        "colab": {
          "base_uri": "https://localhost:8080/"
        },
        "id": "5EdzuKl_91Wa",
        "outputId": "d8d60bca-70d7-4bd2-9166-d645a799e754"
      },
      "source": [
        "Mencari Nilai f''(2.5):\n",
        "\n",
        "X = [2.4,2.5,2.6,2.7,2.8,2.9,3.0]                      #Input List nilai X secara berurutan\n",
        "Y = [1.76601,1.87697,1.97803,2.06988,2.15357,2.22953,2.29859]       #Input list nilai Y secara berurutan sesuai nilai X nya\n",
        "h = 0.1           #Karena jarak antar x 0.1, maka h = 0.1\n",
        "\n",
        "\n",
        "Y_a = (1/(12*h))*(-25*(1.76601) + 48*(1.87697) - 36*(1.97803) + 16*(2.06988) - 3*(2.15357))       #Nilai f''(2.4) menggunakan FPEP\n",
        "Y_b = (1/(12*h))*(-25*(1.87697) + 48*(1.97803) - 36*(2.06988) + 16*(2.15357) - 3*(2.22953))       #Nilai f''(2.5) menggunakan FPEP\n",
        "Y_c = (1/(12*h))*(-25*(1.97803) + 48*(2.06988) - 36*(2.15357) + 16*(2.22953) - 3*(2.29859))       #Nilai f''(2.6) menggunakan FPEP\n",
        "Y_d = (1/(12*h))*((1.87697) - 8*(1.97803) + 8*(2.15357) - (2.22953))                              #Nilai f''(2.7) menggunakan FPMP\n",
        "Y_e = (1/(12*h))*((1.97803) - 8*(2.06988) + 8*(2.22953) - (2.29859))                              #Nilai f''(2.8) menggunakan FPMP\n",
        "Y_f = (1/(12*(-h)))*(-25*(2.22953) + 48*(2.15357) - 36*(2.06988) + 16*(1.97803) - 3*(1.87697))    #Nilai f''(2.9) menggunakan FPEP\n",
        "Y_g = (1/(12*(-h)))*(-25*(2.29859) + 48*(2.22953) - 36*(2.15357) + 16*(2.06988) - 3*(1.97803))    #Nilai f''(3.0) menggunakan FPEP\n",
        "\n",
        "\n",
        "def TPEP(h):                       #Definisikan Three Point EndPoint Method\n",
        "  return (1/(2*h))*(-3*Y_b + 4*Y_c - Y_d)         #Formula Three Point Endpoint yang di substitusi x = 2.5\n",
        "\n",
        "def TPMP(h):                    #Definisikan Three Point MidPoint Method\n",
        "  return (1/(2*h))*(Y_c - Y_a)               #Formula Three Point Midpoint yang di substitusi x = 2.5\n",
        "\n",
        "def FPEP(h):                      #Definisikan Five Point EndPoint Method\n",
        "  return (1/(12*h))*(-25*Y_b + 48*Y_c - 36*Y_d + 16*Y_e - 3*Y_f)            #Formula Five Point Endpoint yang di substitusi x = 2.5\n",
        "\n",
        "\n",
        "\n",
        "choise = eval(input('Pilihan Metode : (1) Three Point EndPoint (2) Three Point MidPoint (3) Five Point Endpoint (4) Five Point Midpoint :'))        #Pilihan metode ingin yang digunakan\n",
        "\n",
        "if choise == 1 :\n",
        "  print(TPEP(h))\n",
        "elif choise == 2 :\n",
        " print(TPMP(h))\n",
        "elif choise == 3 :\n",
        "  print(FPEP(h))\n",
        "elif choise == 4 :\n",
        "  print('Maaf Metode tidak bisa digunakan')\n",
        "else:\n",
        "  print('your choise is error')"
      ],
      "execution_count": null,
      "outputs": [
        {
          "output_type": "stream",
          "text": [
            "Pilihan Metode : (1) Three Point EndPoint (2) Three Point MidPoint (3) Five Point Endpoint (4) Five Point Midpoint :3\n",
            "-1.1961666666668365\n"
          ],
          "name": "stdout"
        }
      ]
    },
    {
      "cell_type": "code",
      "metadata": {
        "colab": {
          "base_uri": "https://localhost:8080/"
        },
        "id": "cCDhs4adRiLj",
        "outputId": "15b39ac3-e9b0-4a0c-af9b-c128bc31d1d8"
      },
      "source": [
        "Mencari Nilai turunan ketiga dari f(2.7):\n",
        "\n",
        "X = [2.4,2.5,2.6,2.7,2.8,2.9,3.0]                      #Input List nilai X secara berurutan\n",
        "Y = [1.76601,1.87697,1.97803,2.06988,2.15357,2.22953,2.29859]            #Input list nilai Y secara berurutan sesuai nilai X nya     \n",
        "h = 0.1                     #Karena jarak antar x 0.1, maka h = 0.1\n",
        "\n",
        "\n",
        "Y_a = (1/(12*h))*(-25*(1.76601) + 48*(1.87697) - 36*(1.97803) + 16*(2.06988) - 3*(2.15357))       #Nilai f''(2.4) menggunakan FPEP\n",
        "Y_b = (1/(12*h))*(-25*(1.87697) + 48*(1.97803) - 36*(2.06988) + 16*(2.15357) - 3*(2.22953))       #Nilai f''(2.5) menggunakan FPEP\n",
        "Y_c = (1/(12*h))*(-25*(1.97803) + 48*(2.06988) - 36*(2.15357) + 16*(2.22953) - 3*(2.29859))       #Nilai f''(2.6) menggunakan FPEP\n",
        "Y_d = (1/(12*h))*((1.87697) - 8*(1.97803) + 8*(2.15357) - (2.22953))                              #Nilai f''(2.7) menggunakan FPMP\n",
        "Y_e = (1/(12*h))*((1.97803) - 8*(2.06988) + 8*(2.22953) - (2.29859))                              #Nilai f''(2.8) menggunakan FPMP\n",
        "Y_f = (1/(12*(-h)))*(-25*(2.22953) + 48*(2.15357) - 36*(2.06988) + 16*(1.97803) - 3*(1.87697))    #Nilai f''(2.9) menggunakan FPEP\n",
        "Y_g = (1/(12*(-h)))*(-25*(2.29859) + 48*(2.22953) - 36*(2.15357) + 16*(2.06988) - 3*(1.97803))    #Nilai f''(3.0) menggunakan FPEP\n",
        "\n",
        "Y_1 = (1/(12*h))*(-25*(Y_a) + 48*(Y_b) - 36*(Y_c) + 16*(Y_d) - 3*(Y_e))              #Nilai f'''(2.4) menggunakan FPEP\n",
        "Y_2 = (1/(12*h))*(-25*(Y_b) + 48*(Y_c) - 36*(Y_d) + 16*(Y_e) - 3*(Y_f))              #Nilai f'''(2.5) menggunakan FPEP\n",
        "Y_3 = (1/(12*h))*(-25*(Y_c) + 48*(Y_d) - 36*(Y_e) + 16*(Y_f) - 3*(Y_g))              #Nilai f'''(2.6) menggunakan FPEP\n",
        "Y_4 = (1/(12*h))*((Y_b) - 8*(Y_c) + 8*(Y_e) - (Y_f))                                 #Nilai f'''(2.7) menggunakan FPMP\n",
        "Y_5 = (1/(12*h))*((Y_c) - 8*(Y_d) + 8*(Y_f) - (Y_g))                                 #Nilai f'''(2.8) menggunakan FPMP\n",
        "Y_6 = (1/(12*(-h)))*(-25*(Y_f) + 48*(Y_e) - 36*(Y_d) + 16*(Y_c) - 3*(Y_b))           #Nilai f'''(2.9) menggunakan FPEP\n",
        "Y_7 = (1/(12*(-h)))*(-25*(Y_g) + 48*(Y_f) - 36*(Y_e) + 16*(Y_d) - 3*(Y_c))           #Nilai f'''(3.0) menggunakan FPEP\n",
        "\n",
        "\n",
        "def TPEP(h):                              #Definisikan Three Point EndPoint Method\n",
        "  return (1/(2*h))*(-3*Y_4 + 4*Y_5 - Y_6)                        #Formula Three Point Endpoint yang di substitusi x = 2.7\n",
        "\n",
        "\n",
        "def TPMP(h):                         #Definisikan Three Point MidPoint Method\n",
        "  return (1/(2*h))*(Y_5 - Y_3)                            #Formula Three Point Midpoint yang di substitusi x = 2.7\n",
        "\n",
        "\n",
        "def FPMP(h):                       #Definisikan Five Point MidPoint Method\n",
        "  return (1/(12*h))*(Y_2 - 8*Y_3 + 8*Y_5 - Y_6)                  #Formula Five Point Midpoint yang di substitusi x = 2.7\n",
        "\n",
        "\n",
        "\n",
        "choise = eval(input('Pilihan Metode : (1) Three Point EndPoint (2) Three Point MidPoint (3) Five Point Endpoint (4) Five Point Midpoint :'))        #Pilihan metode ingin yang digunakan\n",
        "\n",
        "if choise == 1 :\n",
        "  print(TPEP(h))\n",
        "elif choise == 2 :\n",
        " print(TPMP(h))\n",
        "elif choise == 3 :\n",
        "  print('Maaf Metode tidak bisa digunakan')\n",
        "elif choise == 4 :\n",
        "  print(FPMP(h))\n",
        "else:\n",
        "  print('your choise is error')\n"
      ],
      "execution_count": null,
      "outputs": [
        {
          "output_type": "stream",
          "text": [
            "Pilihan Metode : (1) Three Point EndPoint (2) Three Point MidPoint (3) Five Point Endpoint (4) Five Point Midpoint :4\n",
            "0.2866666666654058\n"
          ],
          "name": "stdout"
        }
      ]
    },
    {
      "cell_type": "markdown",
      "metadata": {
        "id": "8A7fTR54aZtI"
      },
      "source": [
        "Algoritma\n",
        "\n",
        "(1) Input Nilai X dan Y pada soal menggunakan list yang berurutan\n",
        "(2) set h=0.1, karena jarak antar x nya 0.1\n",
        "(3) Definisikan Three Point EndFormula Method, Three Point MidFormula Method, Five Point EndFormula Method, dan Five Point MidFormula Method\n",
        "(4) Pilih metode yang digunakan\n",
        "(5) print"
      ]
    }
  ]
}