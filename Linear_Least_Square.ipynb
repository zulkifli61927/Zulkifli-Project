{
  "nbformat": 4,
  "nbformat_minor": 0,
  "metadata": {
    "colab": {
      "provenance": []
    },
    "kernelspec": {
      "name": "python3",
      "display_name": "Python 3"
    },
    "language_info": {
      "name": "python"
    }
  },
  "cells": [
    {
      "cell_type": "markdown",
      "source": [
        "##LINEAR LEAST SQUARE\n"
      ],
      "metadata": {
        "id": "xDXJ0FSAHWON"
      }
    },
    {
      "cell_type": "code",
      "source": [
        "#Definisi Sum, harus dijalankan terlebih dahulu\n",
        "def _sum(arr):\n",
        "  sum = 0\n",
        "  for i in arr:\n",
        "    sum = sum + i\n",
        " \n",
        "  return(sum)"
      ],
      "metadata": {
        "id": "YCSHvw5xKyFr"
      },
      "execution_count": null,
      "outputs": []
    },
    {
      "cell_type": "code",
      "source": [
        "#Contoh 8.1.1\n",
        "\n",
        "X = [1,2,3,4,5,6,7,8,9,10]\n",
        "Y = [1.3,3.5,4.2,5.0,7.0,8.8,10.1,12.5,13,15.6]\n",
        "X_2 = []\n",
        "XY = []\n",
        "y = []\n",
        "E = []\n",
        "for i in range(0,len(X)):\n",
        "  X_2.append((X[i])**2)\n",
        "  XY.append((X[i])*(Y[i]))\n",
        "\n",
        "sum_X = _sum(X)\n",
        "sum_Y = _sum(Y)\n",
        "sum_X_2 = _sum(X_2)\n",
        "sum_XY = _sum(XY)\n",
        "\n",
        "a0 = ((sum_X_2*sum_Y)-(sum_XY*sum_X))/((len(X)*sum_X_2)-(sum_X)**2)\n",
        "a1 = ((len(X)*sum_XY)-(sum_Y*sum_X))/((len(X)*sum_X_2)-(sum_X)**2)\n",
        "\n",
        "print('didapatkan persamaan:')\n",
        "print('y = ',a0,'+',a1,'x')\n",
        "\n",
        "for j in range(0,len(X)):\n",
        "  y.append(a0 + a1*X[j])\n",
        "  E.append((Y[j] - y[j])**2)\n",
        "\n",
        "E_sum = _sum(E)\n",
        "\n",
        "print('LLS Error = ', E_sum)"
      ],
      "metadata": {
        "colab": {
          "base_uri": "https://localhost:8080/"
        },
        "id": "wQEoIcuCHkV8",
        "outputId": "e0dc9256-be13-4847-9545-bbd89518754a"
      },
      "execution_count": null,
      "outputs": [
        {
          "output_type": "stream",
          "name": "stdout",
          "text": [
            "didapatkan persamaan:\n",
            "y =  -0.3600000000000044 + 1.5381818181818192 x\n",
            "LLS Error =  2.3447272727272717\n"
          ]
        }
      ]
    },
    {
      "cell_type": "code",
      "source": [
        "#Contoh 8.1.3\n",
        "from math import log, e\n",
        "\n",
        "X = [1,1.25,1.5,1.75,2]\n",
        "Y = [5.1,5.79,6.53,7.45,8.46]\n",
        "lnY = []\n",
        "X_2 = []\n",
        "XY = []\n",
        "y = []\n",
        "E = []\n",
        "for i in range(0,len(X)):\n",
        "  X_2.append((X[i])**2)\n",
        "  XY.append((X[i])*(log(Y[i])))\n",
        "  lnY.append(log(Y[i]))\n",
        "\n",
        "sum_X = _sum(X)\n",
        "sum_Y = _sum(lnY)\n",
        "sum_X_2 = _sum(X_2)\n",
        "sum_XY = _sum(XY)\n",
        "\n",
        "a0 = ((sum_X_2*sum_Y)-(sum_XY*sum_X))/((len(X)*sum_X_2)-(sum_X)**2)\n",
        "a1 = ((len(X)*sum_XY)-(sum_Y*sum_X))/((len(X)*sum_X_2)-(sum_X)**2)\n",
        "b = e**(a0)\n",
        "print('didapatkan persamaan:')\n",
        "print('y = ',b,'exp(',a1,')')\n",
        "\n",
        "for j in range(0,len(X)):\n",
        "  y.append(b*e**(a1*X[j]))\n",
        "  E.append((Y[j] - y[j])**2)\n",
        "\n",
        "E_sum = _sum(E)\n",
        "\n",
        "print('LLS Error = ', E_sum)"
      ],
      "metadata": {
        "id": "Tj7XajjTPyLy",
        "colab": {
          "base_uri": "https://localhost:8080/"
        },
        "outputId": "cc37bb1f-266f-48d7-fcc9-4c730228bcab"
      },
      "execution_count": null,
      "outputs": [
        {
          "output_type": "stream",
          "name": "stdout",
          "text": [
            "didapatkan persamaan:\n",
            "y =  3.072492713621629 exp( 0.5057196034329081 )\n",
            "LLS Error =  0.0012059611762875414\n"
          ]
        }
      ]
    }
  ]
}