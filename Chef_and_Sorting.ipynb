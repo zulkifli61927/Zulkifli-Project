{
  "nbformat": 4,
  "nbformat_minor": 0,
  "metadata": {
    "colab": {
      "provenance": []
    },
    "kernelspec": {
      "name": "python3",
      "display_name": "Python 3"
    },
    "language_info": {
      "name": "python"
    }
  },
  "cells": [
    {
      "cell_type": "markdown",
      "metadata": {
        "id": "irYzd1U9GKcl"
      },
      "source": [
        "https://www.codechef.com/problems/PCJ18E \n",
        "\n",
        "Nama : Muhammad Zulkifli\n",
        "NPM  : 2006568840"
      ]
    },
    {
      "cell_type": "code",
      "metadata": {
        "id": "1UrIHfkhS-wk",
        "colab": {
          "base_uri": "https://localhost:8080/"
        },
        "outputId": "d090a751-3fc3-4c74-c044-7aa2f953b445"
      },
      "source": [
        "def heapify(arr, n, i):\n",
        "    largest = i  #menginisialisasi largest sebagai root\n",
        "    l = 2 * i + 1     # left = 2*i + 1\n",
        "    r = 2 * i + 2     # right = 2*i + 2\n",
        " \n",
        " \n",
        "    if l < n and arr[largest] < arr[l]:\n",
        "        largest = l\n",
        " \n",
        "    if r < n and arr[largest] < arr[r]:\n",
        "        largest = r\n",
        " \n",
        "    if largest != i:\n",
        "        arr[i], arr[largest] = arr[largest], arr[i]  #pergantian posisi\n",
        " \n",
        "        # Heapify the root.\n",
        "        heapify(arr, n, largest)\n",
        " \n",
        "\n",
        " \n",
        " #definisikan fungsi untuk mengurutkan array\n",
        "def heapSort(arr):\n",
        "    n = len(arr)\n",
        " \n",
        "    # Bangun maxheap.\n",
        "    for i in range(n//2 - 1, -1, -1):\n",
        "        heapify(arr, n, i)\n",
        " \n",
        "    for i in range(n-1, 0, -1):\n",
        "        arr[i], arr[0] = arr[0], arr[i]  #pergantian posisi\n",
        "        heapify(arr, i, 0)\n",
        " \n",
        " \n",
        "# Driver code\n",
        "arr = eval(input('masukkan array yang kamu inginkan:'))\n",
        "\n",
        "for j in range(1,4):\n",
        "  if arr[j-1] > arr[j]:\n",
        "    print('angka yang pertama kali disorting adalah', arr[j-1])\n",
        "heapSort(arr)\n",
        "n = len(arr)\n",
        "print(\"Sorted array is\")\n",
        "for i in range(n):\n",
        "    print(\"%d\" % arr[i]),"
      ],
      "execution_count": 2,
      "outputs": [
        {
          "output_type": "stream",
          "name": "stdout",
          "text": [
            "masukkan array yang kamu inginkan:[9,1,8,4]\n",
            "angka yang pertama kali disorting adalah 9\n",
            "angka yang pertama kali disorting adalah 8\n",
            "Sorted array is\n",
            "1\n",
            "4\n",
            "8\n",
            "9\n"
          ]
        }
      ]
    }
  ]
}