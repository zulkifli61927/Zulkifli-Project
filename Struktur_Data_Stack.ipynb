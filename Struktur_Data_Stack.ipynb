{
  "nbformat": 4,
  "nbformat_minor": 0,
  "metadata": {
    "colab": {
      "provenance": []
    },
    "kernelspec": {
      "name": "python3",
      "display_name": "Python 3"
    },
    "language_info": {
      "name": "python"
    }
  },
  "cells": [
    {
      "cell_type": "code",
      "metadata": {
        "colab": {
          "base_uri": "https://localhost:8080/"
        },
        "id": "7fkrwoXC-2YB",
        "outputId": "37c26e2e-430a-40c0-e7fc-7e8082eeedca"
      },
      "source": [
        "def is_operand(c):\n",
        "  return c.isdigit()\n",
        " \n",
        " \n",
        "def evaluate(expression):\n",
        "    stack = [\"2\",\"2\",\"+\"]\n",
        "    for c in expression[::-1]:\n",
        "        if is_operand(c):\n",
        "            stack.append(int(c))\n",
        " \n",
        "        else:\n",
        "            o1 = stack.pop()\n",
        "            o2 = stack.pop()\n",
        " \n",
        "            if c == '+':\n",
        "                stack.append(o1 + o2)\n",
        " \n",
        "            elif c == '-':\n",
        "                stack.append(o1 - o2)\n",
        " \n",
        "            elif c == '*':\n",
        "                stack.append(o1 * o2)\n",
        " \n",
        "            elif c == '/':\n",
        "                stack.append(o1 / o2)\n",
        " \n",
        "    return stack.pop()\n",
        " \n",
        " \n",
        "if __name__ == \"__main__\":\n",
        "    test_expression = \"*+226\"\n",
        "    print(evaluate(test_expression))\n",
        "\n",
        "    "
      ],
      "execution_count": null,
      "outputs": [
        {
          "output_type": "stream",
          "name": "stdout",
          "text": [
            "24\n"
          ]
        }
      ]
    },
    {
      "cell_type": "code",
      "metadata": {
        "id": "dTFHpypjJNy_"
      },
      "source": [],
      "execution_count": null,
      "outputs": []
    },
    {
      "cell_type": "markdown",
      "metadata": {
        "id": "5s0W_IJmtXqv"
      },
      "source": [
        "Lima orang siswa yang bernama Mawar, Andy, Toni, Jack, dan Fitri terkena remedial dalam mata pelajaran Matematika. Sehingga, mereka disuruh untuk mengumpulkan tugas di meja guru matematika tersebut. Urutan siswa yang mengumpulkan adalah Toni, Mawar, Fitri, Jack, lalu Andy. Tugas mereka dikumpulkan dalam keadaan bertumpuk, hal ini mengartikan yang paling dulu selesai adalah yang paling bawah. Gurunya tersebut memulai penilaian pada tugas mereka dari atas ke bawah. Sehingga, Bagaimana urutan guru tersebut menilai tugas siswa-siswanya?\n"
      ]
    },
    {
      "cell_type": "code",
      "metadata": {
        "colab": {
          "base_uri": "https://localhost:8080/"
        },
        "id": "p4HNZ1H5vhA3",
        "outputId": "c2792f61-62ca-46a1-ded9-590cebcee7eb"
      },
      "source": [
        "student = []\n",
        "student.append(\"Toni\")\n",
        "student.append(\"Mawar\")\n",
        "student.append(\"Fitri\")\n",
        "student.append(\"Jack\")\n",
        "student.append(\"Andy\")\n",
        "\n",
        "\n",
        "print('Yang tugasnya belum dinilai :' ,student)\n",
        "print('Guru menilai :' ,student.pop())\n",
        "print('Yang tugasnya belum dinilai :' ,student)\n",
        "print('Guru menilai :' ,student.pop())\n",
        "print('Yang tugasnya belum dinilai :' ,student)\n",
        "print('Guru menilai :' ,student.pop())\n",
        "print('Yang tugasnya belum dinilai :' ,student)\n",
        "print('Guru menilai :' ,student.pop())\n",
        "print('Yang tugasnya belum dinilai :' ,student)\n",
        "print('Guru menilai :' ,student.pop())\n",
        "print('Yang tugasnya belum dinilai :' ,student)"
      ],
      "execution_count": null,
      "outputs": [
        {
          "output_type": "stream",
          "name": "stdout",
          "text": [
            "Yang tugasnya belum dinilai : ['Toni', 'Mawar', 'Fitri', 'Jack', 'Andy']\n",
            "Guru menilai : Andy\n",
            "Yang tugasnya belum dinilai : ['Toni', 'Mawar', 'Fitri', 'Jack']\n",
            "Guru menilai : Jack\n",
            "Yang tugasnya belum dinilai : ['Toni', 'Mawar', 'Fitri']\n",
            "Guru menilai : Fitri\n",
            "Yang tugasnya belum dinilai : ['Toni', 'Mawar']\n",
            "Guru menilai : Mawar\n",
            "Yang tugasnya belum dinilai : ['Toni']\n",
            "Guru menilai : Toni\n",
            "Yang tugasnya belum dinilai : []\n"
          ]
        }
      ]
    },
    {
      "cell_type": "markdown",
      "metadata": {
        "id": "JV1QF5qa2_GS"
      },
      "source": []
    },
    {
      "cell_type": "markdown",
      "metadata": {
        "id": "2WICiv222_bY"
      },
      "source": [
        "*Grup* Struktur Data mempunyai syarat bahwa setiap orang yang ingin bergabung harus memiliki username. Rain ingin bergabung grup Struktur Data dan menginput username HUJAN1. Ternyata username tersebut terlalu panjang karena melebihi 4 karakter. Sehingga, Rain menghapus semua karakter dari usernamenya untuk digantikan dengan yang baru. Bagaimana coding untuk memunculkan output bahwa usernamenya invalid dan cara Rain menghapus setiap karakter dari usernamenya?"
      ]
    },
    {
      "cell_type": "code",
      "metadata": {
        "colab": {
          "base_uri": "https://localhost:8080/"
        },
        "id": "XPxw4SAw3Adt",
        "outputId": "0b70af29-6df5-433b-837a-cc9ab34743cc"
      },
      "source": [
        "username = []\n",
        "\n",
        "username.append('H')\n",
        "username.append('U')\n",
        "username.append('J')\n",
        "username.append('A')\n",
        "username.append('N')\n",
        "username.append(1)\n",
        "\n",
        "if len(username) > 4:\n",
        "  print('username Anda invalid, username tidak boleh melebihi 4 Karakter')\n",
        "\n",
        "print('username yang belum dihapus rain :',username)\n",
        "print('Karakter yang sedang dihapus rain :' ,username.pop())\n",
        "print('username yang belum dihapus rain :',username)\n",
        "print('Karakter yang sedang dihapus rain :' ,username.pop())\n",
        "print('username yang belum dihapus rain :',username)\n",
        "print('Karakter yang sedang dihapus rain :' ,username.pop())\n",
        "print('username yang belum dihapus rain :',username)\n",
        "print('Karakter yang sedang dihapus rain :' ,username.pop())\n",
        "print('username yang belum dihapus rain :',username)\n",
        "print('Karakter yang sedang dihapus rain :' ,username.pop())\n",
        "print('username yang belum dihapus rain :',username)\n",
        "print('Karakter yang sedang dihapus rain :' ,username.pop())\n",
        "print('username yang belum dihapus rain :',username)"
      ],
      "execution_count": null,
      "outputs": [
        {
          "output_type": "stream",
          "name": "stdout",
          "text": [
            "username Anda invalid, username tidak boleh melebihi 4 Karakter\n",
            "username yang belum dihapus rain : ['H', 'U', 'J', 'A', 'N', 1]\n",
            "Karakter yang sedang dihapus rain : 1\n",
            "username yang belum dihapus rain : ['H', 'U', 'J', 'A', 'N']\n",
            "Karakter yang sedang dihapus rain : N\n",
            "username yang belum dihapus rain : ['H', 'U', 'J', 'A']\n",
            "Karakter yang sedang dihapus rain : A\n",
            "username yang belum dihapus rain : ['H', 'U', 'J']\n",
            "Karakter yang sedang dihapus rain : J\n",
            "username yang belum dihapus rain : ['H', 'U']\n",
            "Karakter yang sedang dihapus rain : U\n",
            "username yang belum dihapus rain : ['H']\n",
            "Karakter yang sedang dihapus rain : H\n",
            "username yang belum dihapus rain : []\n"
          ]
        }
      ]
    },
    {
      "cell_type": "code",
      "metadata": {
        "colab": {
          "base_uri": "https://localhost:8080/",
          "height": 340
        },
        "id": "1y4UUmyZJPz_",
        "outputId": "36c0b865-a6ec-457e-edd2-98e1641e2f7d"
      },
      "source": [
        "class Konversi:\n",
        "\n",
        "  def __init__(s, kapasitas):\n",
        "    s.top = -1\n",
        "    s.array = []\n",
        "    s.output = []\n",
        "    s.precedence = {'+':1,'-':1,'*':2, '/':2, '^':3}\n",
        "\n",
        "  def isEmpty(s):\n",
        "    return True if len(s) == 0 else False\n",
        "\n",
        "  def peek(s):\n",
        "    return s.array[-1]\n",
        "\n",
        "  def pop(s):\n",
        "    if not s.isEmpty():\n",
        "      s.top -= 1\n",
        "      return s.array.pop()\n",
        "    else:\n",
        "      return \"$\"\n",
        "\n",
        "  def isOperand(s, ch):\n",
        "    return ch.isalpha()\n",
        "\n",
        "  def notGreater(s, i):\n",
        "    try:\n",
        "      a = s.precedence[i]\n",
        "      b = s.precedence[s.peek()]\n",
        "      return True if a <= b else False\n",
        "    except KeyError:\n",
        "      return False\n",
        "\n",
        "  def infixToPostfix(s, exp):\n",
        "    for i in exp:\n",
        "      if s.isOperand(i):\n",
        "        s.output.append(i)\n",
        "      elif i == '(':\n",
        "        s.push(i)\n",
        "\n",
        "      elif i == ')':\n",
        "        while((not s.isEmpty())and s.peek() != '('):\n",
        "          a = s.pop\n",
        "          s.output.append(a)\n",
        "        if (not s.isEmpty() and s.peek() != '('):\n",
        "          return -1\n",
        "        else:\n",
        "          s.pop()\n",
        "\n",
        "    else:\n",
        "       while (not s.isEmpty() and s.notGreater(i)):\n",
        "         s.output.append(s.pop())\n",
        "\n",
        "    print(s.output)\n",
        "\n",
        "exp = \"22+6*\"\n",
        "obj = Konversi(len(exp))\n",
        "obj.infixToPostfix(exp)"
      ],
      "execution_count": null,
      "outputs": [
        {
          "output_type": "error",
          "ename": "TypeError",
          "evalue": "ignored",
          "traceback": [
            "\u001b[0;31m---------------------------------------------------------------------------\u001b[0m",
            "\u001b[0;31mTypeError\u001b[0m                                 Traceback (most recent call last)",
            "\u001b[0;32m<ipython-input-3-342ebb639384>\u001b[0m in \u001b[0;36m<module>\u001b[0;34m()\u001b[0m\n\u001b[1;32m     55\u001b[0m \u001b[0mexp\u001b[0m \u001b[0;34m=\u001b[0m \u001b[0;34m\"22+6*\"\u001b[0m\u001b[0;34m\u001b[0m\u001b[0;34m\u001b[0m\u001b[0m\n\u001b[1;32m     56\u001b[0m \u001b[0mobj\u001b[0m \u001b[0;34m=\u001b[0m \u001b[0mKonversi\u001b[0m\u001b[0;34m(\u001b[0m\u001b[0mlen\u001b[0m\u001b[0;34m(\u001b[0m\u001b[0mexp\u001b[0m\u001b[0;34m)\u001b[0m\u001b[0;34m)\u001b[0m\u001b[0;34m\u001b[0m\u001b[0;34m\u001b[0m\u001b[0m\n\u001b[0;32m---> 57\u001b[0;31m \u001b[0mobj\u001b[0m\u001b[0;34m.\u001b[0m\u001b[0minfixToPostfix\u001b[0m\u001b[0;34m(\u001b[0m\u001b[0mexp\u001b[0m\u001b[0;34m)\u001b[0m\u001b[0;34m\u001b[0m\u001b[0;34m\u001b[0m\u001b[0m\n\u001b[0m",
            "\u001b[0;32m<ipython-input-3-342ebb639384>\u001b[0m in \u001b[0;36minfixToPostfix\u001b[0;34m(s, exp)\u001b[0m\n\u001b[1;32m     48\u001b[0m \u001b[0;34m\u001b[0m\u001b[0m\n\u001b[1;32m     49\u001b[0m     \u001b[0;32melse\u001b[0m\u001b[0;34m:\u001b[0m\u001b[0;34m\u001b[0m\u001b[0;34m\u001b[0m\u001b[0m\n\u001b[0;32m---> 50\u001b[0;31m        \u001b[0;32mwhile\u001b[0m \u001b[0;34m(\u001b[0m\u001b[0;32mnot\u001b[0m \u001b[0ms\u001b[0m\u001b[0;34m.\u001b[0m\u001b[0misEmpty\u001b[0m\u001b[0;34m(\u001b[0m\u001b[0;34m)\u001b[0m \u001b[0;32mand\u001b[0m \u001b[0ms\u001b[0m\u001b[0;34m.\u001b[0m\u001b[0mnotGreater\u001b[0m\u001b[0;34m(\u001b[0m\u001b[0mi\u001b[0m\u001b[0;34m)\u001b[0m\u001b[0;34m)\u001b[0m\u001b[0;34m:\u001b[0m\u001b[0;34m\u001b[0m\u001b[0;34m\u001b[0m\u001b[0m\n\u001b[0m\u001b[1;32m     51\u001b[0m          \u001b[0ms\u001b[0m\u001b[0;34m.\u001b[0m\u001b[0moutput\u001b[0m\u001b[0;34m.\u001b[0m\u001b[0mappend\u001b[0m\u001b[0;34m(\u001b[0m\u001b[0ms\u001b[0m\u001b[0;34m.\u001b[0m\u001b[0mpop\u001b[0m\u001b[0;34m(\u001b[0m\u001b[0;34m)\u001b[0m\u001b[0;34m)\u001b[0m\u001b[0;34m\u001b[0m\u001b[0;34m\u001b[0m\u001b[0m\n\u001b[1;32m     52\u001b[0m \u001b[0;34m\u001b[0m\u001b[0m\n",
            "\u001b[0;32m<ipython-input-3-342ebb639384>\u001b[0m in \u001b[0;36misEmpty\u001b[0;34m(s)\u001b[0m\n\u001b[1;32m      8\u001b[0m \u001b[0;34m\u001b[0m\u001b[0m\n\u001b[1;32m      9\u001b[0m   \u001b[0;32mdef\u001b[0m \u001b[0misEmpty\u001b[0m\u001b[0;34m(\u001b[0m\u001b[0ms\u001b[0m\u001b[0;34m)\u001b[0m\u001b[0;34m:\u001b[0m\u001b[0;34m\u001b[0m\u001b[0;34m\u001b[0m\u001b[0m\n\u001b[0;32m---> 10\u001b[0;31m     \u001b[0;32mreturn\u001b[0m \u001b[0;32mTrue\u001b[0m \u001b[0;32mif\u001b[0m \u001b[0mlen\u001b[0m\u001b[0;34m(\u001b[0m\u001b[0ms\u001b[0m\u001b[0;34m)\u001b[0m \u001b[0;34m==\u001b[0m \u001b[0;36m0\u001b[0m \u001b[0;32melse\u001b[0m \u001b[0;32mFalse\u001b[0m\u001b[0;34m\u001b[0m\u001b[0;34m\u001b[0m\u001b[0m\n\u001b[0m\u001b[1;32m     11\u001b[0m \u001b[0;34m\u001b[0m\u001b[0m\n\u001b[1;32m     12\u001b[0m   \u001b[0;32mdef\u001b[0m \u001b[0mpeek\u001b[0m\u001b[0;34m(\u001b[0m\u001b[0ms\u001b[0m\u001b[0;34m)\u001b[0m\u001b[0;34m:\u001b[0m\u001b[0;34m\u001b[0m\u001b[0;34m\u001b[0m\u001b[0m\n",
            "\u001b[0;31mTypeError\u001b[0m: object of type 'Konversi' has no len()"
          ]
        }
      ]
    },
    {
      "cell_type": "markdown",
      "metadata": {
        "id": "qxwJba2y1BbX"
      },
      "source": [
        "*Grup* Struktur Data mempunyai syarat bahwa setiap orang yang ingin bergabung harus memiliki username. Rain ingin bergabung grup Struktur Data dan menginput username HUJAN1. Ternyata username tersebut terlalu panjang karena melebihi 4 karakter. Sehingga, Rain menghapus semua karakter dari usernamenya untuk digantikan dengan yang baru. Bagaimana coding untuk memunculkan output bahwa usernamenya invalid dan cara Rain menghapus setiap karakter dari usernamenya?"
      ]
    },
    {
      "cell_type": "code",
      "metadata": {
        "colab": {
          "base_uri": "https://localhost:8080/"
        },
        "id": "78QxvBBb0WTE",
        "outputId": "22f36d96-066f-41b9-f9d6-12c37ede7d70"
      },
      "source": [
        "username = []\n",
        "\n",
        "username.append('H')\n",
        "username.append('U')\n",
        "username.append('J')\n",
        "username.append('A')\n",
        "username.append('N')\n",
        "username.append(1)\n",
        "\n",
        "if len(username) > 4:\n",
        "  print('Username anda invalid, username tidak boleh lebih dari 4 karakter')\n",
        "\n",
        "print('username yang belum dihapus rain :', username)\n",
        "print('Karakter yang sedang dihapus rain :', username.pop())\n",
        "print('username yang belum dihapus rain :', username)\n",
        "print('Karakter yang sedang dihapus rain :', username.pop())\n",
        "print('username yang belum dihapus rain :', username)\n",
        "print('Karakter yang sedang dihapus rain :', username.pop())\n",
        "print('username yang belum dihapus rain :', username)\n",
        "print('Karakter yang sedang dihapus rain :', username.pop())\n",
        "print('username yang belum dihapus rain :', username)\n",
        "print('Karakter yang sedang dihapus rain :', username.pop())\n",
        "print('username yang belum dihapus rain :', username)\n",
        "print('Karakter yang sedang dihapus rain :', username.pop())\n",
        "print('username yang belum dihapus rain :', username)"
      ],
      "execution_count": null,
      "outputs": [
        {
          "output_type": "stream",
          "name": "stdout",
          "text": [
            "Username anda invalid, username tidak boleh lebih dari 4 karakter\n",
            "username yang belum dihapus rain : ['H', 'U', 'J', 'A', 'N', 1]\n",
            "Karakter yang sedang dihapus rain : 1\n",
            "username yang belum dihapus rain : ['H', 'U', 'J', 'A', 'N']\n",
            "Karakter yang sedang dihapus rain : N\n",
            "username yang belum dihapus rain : ['H', 'U', 'J', 'A']\n",
            "Karakter yang sedang dihapus rain : A\n",
            "username yang belum dihapus rain : ['H', 'U', 'J']\n",
            "Karakter yang sedang dihapus rain : J\n",
            "username yang belum dihapus rain : ['H', 'U']\n",
            "Karakter yang sedang dihapus rain : U\n",
            "username yang belum dihapus rain : ['H']\n",
            "Karakter yang sedang dihapus rain : H\n",
            "username yang belum dihapus rain : []\n"
          ]
        }
      ]
    }
  ]
}