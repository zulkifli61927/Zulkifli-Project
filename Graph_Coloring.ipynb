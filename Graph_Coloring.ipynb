{
  "nbformat": 4,
  "nbformat_minor": 0,
  "metadata": {
    "colab": {
      "provenance": []
    },
    "kernelspec": {
      "name": "python3",
      "display_name": "Python 3"
    },
    "language_info": {
      "name": "python"
    }
  },
  "cells": [
    {
      "cell_type": "code",
      "execution_count": 1,
      "metadata": {
        "id": "gdshSoIQueud",
        "colab": {
          "base_uri": "https://localhost:8080/"
        },
        "outputId": "96c93213-ba60-47f8-9f88-937c1a719e9b"
      },
      "outputs": [
        {
          "output_type": "stream",
          "name": "stdout",
          "text": [
            "Node a  =  Blue\n",
            "Node b  =  Blue\n",
            "Node c  =  Red\n",
            "Node d  =  Red\n",
            "Node e  =  Yellow\n",
            "Node f  =  Yellow\n",
            "Node g  =  Green\n",
            "Node h  =  Green\n"
          ]
        }
      ],
      "source": [
        "G = [[ 0, 0, 1, 0, 0, 1, 1, 1],\n",
        "     [ 0, 0, 1, 1, 1, 0, 0, 1],\n",
        "     [ 1, 1, 0, 0, 1, 0, 0, 1],\n",
        "     [ 0, 1, 0, 0, 1, 1, 1, 0],\n",
        "     [ 0, 1, 1, 1, 0, 0, 1, 0],\n",
        "     [ 1, 0, 0, 1, 0, 0, 1, 1],\n",
        "     [ 1, 0, 0, 1, 1, 1, 0, 0],\n",
        "     [ 1, 1, 1, 0, 0, 1, 0, 0]]\n",
        "\n",
        "\n",
        "\n",
        "# inisiate the name of node.\n",
        "node = \"abcdefgh\"\n",
        "t_={}\n",
        "for i in range(len(G)):\n",
        "  t_[node[i]] = i\n",
        "\n",
        "# count degree of all node.\n",
        "degree =[]\n",
        "for i in range(len(G)):\n",
        "  degree.append(sum(G[i]))\n",
        "\n",
        "# inisiate the posible color\n",
        "colorDict = {}\n",
        "for i in range(len(G)):\n",
        "  colorDict[node[i]]=[\"Blue\",\"Red\",\"Yellow\",\"Green\"]\n",
        "\n",
        "\n",
        "# sort the node depends on the degree\n",
        "sortedNode=[]\n",
        "indeks = []\n",
        "\n",
        "# use selection sort\n",
        "for i in range(len(degree)):\n",
        "  _max = 0\n",
        "  j = 0\n",
        "  for j in range(len(degree)):\n",
        "    if j not in indeks:\n",
        "      if degree[j] > _max:\n",
        "        _max = degree[j]\n",
        "        idx = j\n",
        "  indeks.append(idx)\n",
        "  sortedNode.append(node[idx])\n",
        "\n",
        "# The main process\n",
        "theSolution={}\n",
        "for n in sortedNode:\n",
        "  setTheColor = colorDict[n]\n",
        "  theSolution[n] = setTheColor[0]\n",
        "  adjacentNode = G[t_[n]]\n",
        "  for j in range(len(adjacentNode)):\n",
        "    if adjacentNode[j]==1 and (setTheColor[0] in colorDict[node[j]]):\n",
        "      colorDict[node[j]].remove(setTheColor[0])\n",
        "\n",
        "\n",
        "# Print the solution\n",
        "for t,w in sorted(theSolution.items()):\n",
        "  print(\"Node\",t,\" = \",w)"
      ]
    }
  ]
}