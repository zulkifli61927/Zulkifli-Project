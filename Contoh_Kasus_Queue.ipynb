{
  "nbformat": 4,
  "nbformat_minor": 0,
  "metadata": {
    "colab": {
      "provenance": []
    },
    "kernelspec": {
      "name": "python3",
      "display_name": "Python 3"
    },
    "language_info": {
      "name": "python"
    }
  },
  "cells": [
    {
      "cell_type": "code",
      "metadata": {
        "colab": {
          "base_uri": "https://localhost:8080/"
        },
        "id": "JSlMgXspsWns",
        "outputId": "abf3f7f7-66f9-4fb5-fddc-0330a16ad259"
      },
      "source": [
        "from prettytable import PrettyTable\n",
        "\n",
        "\n",
        "myTable1 = PrettyTable([\"Senin\"]) \n",
        "myTable2 = PrettyTable([\"Selasa\"])\n",
        "myTable3 = PrettyTable([\"Rabu\"])\n",
        "myTable4 = PrettyTable([\"Kamis\"])\n",
        "myTable5 = PrettyTable([\"Jumat\"])\n",
        "myTable6 = PrettyTable([\"Sabtu\"])\n",
        "myTable7 = PrettyTable([\"Minggu\"])\n",
        "\n",
        "k = ['Asep','Jaka','Gio', 'Mila']\n",
        "karyawan = ['Asep','Jaka','Gio', 'Mila']\n",
        "\n",
        "myTable1.add_row([karyawan])\n",
        "myTable2.add_row([karyawan])\n",
        "myTable3.add_row([karyawan]) \n",
        "myTable4.add_row([karyawan]) \n",
        "myTable5.add_row([karyawan]) \n",
        "myTable6.add_row([\"LIBUR\"]) \n",
        "myTable7.add_row([\"LIBUR\"]) \n",
        "\n",
        "print('KARYAWAN YANG BEKERJA PADA HARI')\n",
        "print(myTable1)\n",
        "print('Karyawan yang Istirahat di Rumah :', karyawan.pop(0))\n",
        "print('KARYAWAN YANG BEKERJA PADA HARI')\n",
        "print(myTable2)\n",
        "karyawan.append(k[0])\n",
        "print('Karyawan yang Istirahat di Rumah :', karyawan.pop(0))\n",
        "print('KARYAWAN YANG BEKERJA PADA HARI')\n",
        "print(myTable3)\n",
        "karyawan.append(k[1])\n",
        "print('Karyawan yang Istirahat di Rumah :', karyawan.pop(0))\n",
        "print('KARYAWAN YANG BEKERJA PADA HARI')\n",
        "print(myTable4)\n",
        "karyawan.append(k[2])\n",
        "print('Karyawan yang Istirahat di Rumah :', karyawan.pop(0))\n",
        "print('KARYAWAN YANG BEKERJA PADA HARI')\n",
        "print(myTable5)\n",
        "print(myTable6)\n",
        "print(myTable7)"
      ],
      "execution_count": null,
      "outputs": [
        {
          "output_type": "stream",
          "name": "stdout",
          "text": [
            "KARYAWAN YANG BEKERJA PADA HARI\n",
            "+---------------------------------+\n",
            "|              Senin              |\n",
            "+---------------------------------+\n",
            "| ['Asep', 'Jaka', 'Gio', 'Mila'] |\n",
            "+---------------------------------+\n",
            "Karyawan yang Istirahat di Rumah : Asep\n",
            "KARYAWAN YANG BEKERJA PADA HARI\n",
            "+-------------------------+\n",
            "|          Selasa         |\n",
            "+-------------------------+\n",
            "| ['Jaka', 'Gio', 'Mila'] |\n",
            "+-------------------------+\n",
            "Karyawan yang Istirahat di Rumah : Jaka\n",
            "KARYAWAN YANG BEKERJA PADA HARI\n",
            "+-------------------------+\n",
            "|           Rabu          |\n",
            "+-------------------------+\n",
            "| ['Gio', 'Mila', 'Asep'] |\n",
            "+-------------------------+\n",
            "Karyawan yang Istirahat di Rumah : Gio\n",
            "KARYAWAN YANG BEKERJA PADA HARI\n",
            "+--------------------------+\n",
            "|          Kamis           |\n",
            "+--------------------------+\n",
            "| ['Mila', 'Asep', 'Jaka'] |\n",
            "+--------------------------+\n",
            "Karyawan yang Istirahat di Rumah : Mila\n",
            "KARYAWAN YANG BEKERJA PADA HARI\n",
            "+-------------------------+\n",
            "|          Jumat          |\n",
            "+-------------------------+\n",
            "| ['Asep', 'Jaka', 'Gio'] |\n",
            "+-------------------------+\n",
            "+-------+\n",
            "| Sabtu |\n",
            "+-------+\n",
            "| LIBUR |\n",
            "+-------+\n",
            "+--------+\n",
            "| Minggu |\n",
            "+--------+\n",
            "| LIBUR  |\n",
            "+--------+\n"
          ]
        }
      ]
    },
    {
      "cell_type": "markdown",
      "metadata": {
        "id": "cVd1_h6c6s8L"
      },
      "source": [
        " Buatlah *job scheduling* dari 4 karyawan. Dimana pada hari senin semuanya bekerja, pada hari selasa-jumat libur 1 orang yang berbeda, dan pada hari sabtu-minggu semuanya libur. Misalkan saja, nama karyawannya itu bernama Asep, Mila, Gio, dan Jaka."
      ]
    },
    {
      "cell_type": "markdown",
      "metadata": {
        "id": "AVPdMk_0AWcw"
      },
      "source": [
        "Seorang Mahasiswa jurusan Matematika UI ingin membuat jadwal mata kuliah dengan menggunakan konsep pada Queue. Mata kuliahnya antara lain Persamaan Differensial Biasa, Kalkulus 3, Analisis 1, Pemrograman Matematika, dan Struktur Data berturut-turut dari Senin hingga Jumat. Buatlah tabel jadwal mata kuliah mahasiswa tersebut"
      ]
    },
    {
      "cell_type": "code",
      "metadata": {
        "colab": {
          "base_uri": "https://localhost:8080/"
        },
        "id": "hzLXFICXASUP",
        "outputId": "a38c20ad-bc0e-483d-9f4e-1e55e0144c2b"
      },
      "source": [
        "from prettytable import PrettyTable\n",
        "\n",
        "matkul = []\n",
        "\n",
        "matkul.append('Persamaan Differensial Biasa')\n",
        "matkul.append('Kalkulus 3')\n",
        "matkul.append('Analisis 1')\n",
        "matkul.append('Pemrograman Matematika')\n",
        "matkul.append('Struktur Data')\n",
        "\n",
        "myTable = PrettyTable([\"Senin\", \"Selasa\", \"Rabu\", \"Kamis\", \"Jumat\"])\n",
        "\n",
        "myTable.add_row([matkul.pop(0), \"\", \"\", \"\", \"\"])\n",
        "myTable.add_row([ \"\", matkul.pop(0), \"\", \"\", \"\"])\n",
        "myTable.add_row([ \"\", \"\", matkul.pop(0), \"\", \"\"])\n",
        "myTable.add_row([ \"\", \"\", \"\", matkul.pop(0), \"\"])\n",
        "myTable.add_row([ \"\", \"\", \"\", \"\", matkul.pop(0)])\n",
        "\n",
        "print('---------------------------------------------------JADWAL KULIAH---------------------------------------')\n",
        "print(myTable)"
      ],
      "execution_count": null,
      "outputs": [
        {
          "output_type": "stream",
          "name": "stdout",
          "text": [
            "---------------------------------------------------JADWAL KULIAH---------------------------------------\n",
            "+------------------------------+------------+------------+------------------------+---------------+\n",
            "|            Senin             |   Selasa   |    Rabu    |         Kamis          |     Jumat     |\n",
            "+------------------------------+------------+------------+------------------------+---------------+\n",
            "| Persamaan Differensial Biasa |            |            |                        |               |\n",
            "|                              | Kalkulus 3 |            |                        |               |\n",
            "|                              |            | Analisis 1 |                        |               |\n",
            "|                              |            |            | Pemrograman Matematika |               |\n",
            "|                              |            |            |                        | Struktur Data |\n",
            "+------------------------------+------------+------------+------------------------+---------------+\n"
          ]
        }
      ]
    }
  ]
}