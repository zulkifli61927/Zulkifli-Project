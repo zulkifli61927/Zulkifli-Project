{
  "cells": [
    {
      "cell_type": "code",
      "execution_count": null,
      "metadata": {
        "colab": {
          "base_uri": "https://localhost:8080/"
        },
        "id": "eREIX9PGNRG3",
        "outputId": "38af8c80-504f-4d7f-a65d-a69ad60b2672"
      },
      "outputs": [
        {
          "output_type": "stream",
          "name": "stdout",
          "text": [
            "masukkan pesan yang ingin kamu sampaikan:'kriptografi susah banget'\n",
            "Hasil substitusi monochiper:  fglnmvzgrdl jpjru irtzam\n",
            "Hasil zigzag:  fruggdr mlzljianv przmjt\n",
            "Hasil chipertext:  AV VX GX XX XX FX VX VD DA FF DV FF FV GF DG FA VF VD VA VX DV DA FV XG\n",
            "['AV', 'VX', 'GX', 'XX', 'XX', 'FX', 'VX', 'VD', 'DA', 'FF', 'DV', 'FF', 'FV', 'GF', 'DG', 'FA', 'VF', 'VD', 'VA', 'VX', 'DV', 'DA', 'FV', 'XG']\n"
          ]
        }
      ],
      "source": [
        "from itertools import chain, cycle\n",
        "Key = 'richardzulkifliracheloctaviani'\n",
        "L = ['a','b','c','d','e','f','g','h','i','j','k','l','m','n','o','p','q','r','s','t','u','v','w','x','y','z',' ']\n",
        "A = list(Key) + L\n",
        "B = list(dict.fromkeys(A))\n",
        "\n",
        "pesan = eval(input(str(\"masukkan pesan yang ingin kamu sampaikan:\")))\n",
        "pesan_ = list(pesan)\n",
        "\n",
        "def M(x):\n",
        "  x_ = list(x)\n",
        "  i=0\n",
        "  for i in range(0,len(x)):\n",
        "    for j in range(0,len(L)):\n",
        "      if (x_[i] == L[j]):\n",
        "        x_[i] = B[j]\n",
        "        break\n",
        "        i=+1\n",
        "        j=+1\n",
        "  return x_\n",
        "print(\"Hasil substitusi monochiper: \",\"\".join(M(pesan)))\n",
        "\n",
        "def rail_fence(plaintext, n):\n",
        "  plaintext1 = \"\".join(plaintext)\n",
        "  #plaintext2 = plaintext1.replace(\" \",\"\")\n",
        "  plaintext3 = list(plaintext1)\n",
        "  rows = [\"\"] * n\n",
        "  zigzag = cycle(chain(range(n - 1), range(n - 1, 0, -1)))\n",
        "  for i, c in zip(zigzag, plaintext3):\n",
        "    rows[i] += c\n",
        "    \n",
        "  return \"\".join(rows)\n",
        "\n",
        "\n",
        "print(\"Hasil zigzag: \",rail_fence(M(pesan),5))\n",
        "\n",
        "kapital = rail_fence(M(pesan),5).upper()\n",
        "kapital2 = kapital.replace(\" \",\"1\")\n",
        "kapital1 = list(kapital2)\n",
        "D = [['C','O','8','X','F','4'],\n",
        "     ['M','K','3','A','Z','9'],\n",
        "     ['N','W','L','0','J','D'],\n",
        "     ['5','S','I','Y','H','U'],\n",
        "     ['P','1','V','B','6','R'],\n",
        "     ['E','Q','7','T','2','G']]\n",
        "E = ['A','D','F','G','V','X']\n",
        "V = []\n",
        "for k in range(0,len(kapital1)):\n",
        "  for m in range(0,len(E)):\n",
        "    for p in range(0,len(E)):\n",
        "      if kapital1[k] == D[m][p]:\n",
        "        V.append(E[m]+E[p])\n",
        "print(\"Hasil chipertext: \",\" \".join(V))"
      ]
    },
    {
      "cell_type": "code",
      "source": [
        "#W = \"\".join(V)\n",
        "Wn = eval(input('masukkan hasil chiperteks pesan dari temanmu:'))\n",
        "W = Wn.replace(\" \",\"\")\n",
        "W1 = list(W)\n",
        "Z = []\n",
        "for k in range(0,len(W1)-1):\n",
        "  for m in range(0,len(E)):\n",
        "    for p in range(0,len(E)):\n",
        "      if (W1[k] + W1[k+1]) == (E[m]+E[p]):\n",
        "        Z.append(D[m][p])\n",
        "\n",
        "Y = []\n",
        "for i in range(0,len(Z)):\n",
        "  if i%2==0:\n",
        "    Y.append(Z[i])\n",
        "Y1 = \"\".join(Y)\n",
        "Y2 = Y1.lower()\n",
        "Y3 = Y2.replace(\"1\",\" \")\n",
        "\n",
        "\n",
        "def decryptRailFence(cipher, key):\n",
        "    rail = [['\\n' for i in range(len(cipher))]\n",
        "                for j in range(key)]\n",
        "\n",
        "    dir_down = None\n",
        "    row, col = 0, 0\n",
        "\n",
        "    for i in range(len(cipher)):\n",
        "        if row == 0:\n",
        "            dir_down = True\n",
        "        if row == key - 1:\n",
        "            dir_down = False\n",
        "\n",
        "        rail[row][col] = '*'\n",
        "        col += 1\n",
        "\n",
        "        if dir_down:\n",
        "            row += 1\n",
        "        else:\n",
        "            row -= 1\n",
        "\n",
        "    index = 0\n",
        "    for i in range(key):\n",
        "        for j in range(len(cipher)):\n",
        "            if ((rail[i][j] == '*') and\n",
        "            (index < len(cipher))):\n",
        "                rail[i][j] = cipher[index]\n",
        "                index += 1\n",
        "    result = []\n",
        "    row, col = 0, 0\n",
        "    for i in range(len(cipher)):\n",
        "         \n",
        "        if row == 0:\n",
        "            dir_down = True\n",
        "        if row == key-1:\n",
        "            dir_down = False\n",
        "\n",
        "        if (rail[row][col] != '*'):\n",
        "            result.append(rail[row][col])\n",
        "            col += 1\n",
        "\n",
        "        if dir_down:\n",
        "            row += 1\n",
        "        else:\n",
        "            row -= 1\n",
        "    return(\"\".join(result))\n",
        "\n",
        "Y4 = decryptRailFence(Y3, 5)\n",
        "\n",
        "def M_(x):\n",
        "  y_ = list(x)\n",
        "  i=0\n",
        "  for i in range(0,len(x)):\n",
        "    for j in range(0,len(L)):\n",
        "      if (y_[i] == B[j]):\n",
        "        y_[i] = L[j]\n",
        "        break\n",
        "        i=+1\n",
        "        j=+1\n",
        "  return y_\n",
        "print(\"Hasil dekripsi monochiper: \",\"\".join(M_(Y4)))"
      ],
      "metadata": {
        "id": "FvOKQIcsxdYz",
        "colab": {
          "base_uri": "https://localhost:8080/"
        },
        "outputId": "5ef28d71-06eb-4bf2-dc5e-46d0f30fad95"
      },
      "execution_count": null,
      "outputs": [
        {
          "output_type": "stream",
          "name": "stdout",
          "text": [
            "masukkan hasil chiperteks pesan dari temanmu:'AV VX GX XX XX FX VX VD DA FF DV FF FV GF DG FA VF VD VA VX DV DA FV XG'\n",
            "Hasil dekripsi monochiper:  kriptografi susah banget\n"
          ]
        }
      ]
    }
  ],
  "metadata": {
    "colab": {
      "provenance": []
    },
    "kernelspec": {
      "display_name": "Python 3",
      "name": "python3"
    },
    "language_info": {
      "name": "python"
    }
  },
  "nbformat": 4,
  "nbformat_minor": 0
}