{
  "nbformat": 4,
  "nbformat_minor": 0,
  "metadata": {
    "colab": {
      "provenance": []
    },
    "kernelspec": {
      "name": "python3",
      "display_name": "Python 3"
    }
  },
  "cells": [
    {
      "cell_type": "code",
      "metadata": {
        "id": "JqVPc8YDWoSe"
      },
      "source": [
        "ALGORITMA:\n",
        "1. Input persamaan yang diberikan, Toleransi, Maksimum Iterasi, nilai p0 dan p1 sebagai Interval solusi dari x\n",
        "2. Lakukan pengecekan antara f(p0) dan f(p1)\n",
        "3. Jika f(p0)*f(p1) kurang dari nol maka x ada pada interval tersebut. Jika tidak, solusi x tidak berada pada Interval tersebut\n",
        "4. Hitung nilai p = p1 - (((f(p1))*(p1-p0))/(f(p1)-f(p0)))\n",
        "5. Jika |f(p)| mendekati nol dan kurang dari Toleransi. Maka STOP, dan p = x\n",
        "6. Jika f(p0)*f(p) < 0, maka misalkan p1=p\n",
        "7. Jika tidak memenuhi nomor 6, maka misalkan p0=p\n",
        "8. Jika Iterasi telah mencapai batas maksimum, hentikan Program."
      ],
      "execution_count": null,
      "outputs": []
    },
    {
      "cell_type": "code",
      "metadata": {
        "colab": {
          "base_uri": "https://localhost:8080/"
        },
        "id": "g3gMimIpZXey",
        "outputId": "3e36120a-13a2-4206-8f12-49cdf62bc3ed"
      },
      "source": [
        "from numpy import cos, log                    #Import module perintah matematika pada numpy\n",
        "def rfalsi(f, p0, p1, TOL, maxN=(eval(input('masukkan batas Iterasinya: ')))):            #Definisi Regula Falsi\n",
        "  p=0                            #Definisikan atau set p=0 dan N=0 terlebih dahulu\"\n",
        "  N=0\n",
        "  if f(p0)*f(p1)<0:                  #Mencari letak akar persamaan\n",
        "    for N in range(1,maxN+1):              #Menghitung atau mencari iterasi\n",
        "      p= p1 - ((f(p1)*(p1-p0))/(f(p1)-f(p0)))           #Mencari nilai p untuk menemukan solusi x nantinya\n",
        "      if abs(f(p))<TOL: break                     #Jika kondisi ini terpenuhi, maka p = x\n",
        "      elif f(p0)*f(p)<0:                 #Jika kondisi ini terpenuhi, maka ganti p1 dengan p\n",
        "        p1=p\n",
        "      else:                    #Jika abs(f(p))<TOL dan f(p0)*f(p)<0 tidak terpenuhi maka ganti p0 dengan p\n",
        "        p0=p\n",
        "\n",
        "  else:                    #Jika f(p0)*f(p1) tidak kurang dari nol, maka Akarnya tidak terletak pada Interval awal yang diberikan              \n",
        "    print('Nilai Akarnya tidak terletak pada Interval [p0,p1]')\n",
        "  return p                  #Hasil dari fungsi rfalsi\n",
        "\n",
        "formula=input('masukkan formulanya :')               #persamaan yang diberikan\n",
        "def f(x):                             \n",
        "  return eval(formula)\n",
        "\n",
        "p0 = eval(input('masukkan titik awal pertamanya :' ))\n",
        "p1 = eval(input('masukkan titik awal keduanya :'))\n",
        "TOL = eval(input('masukkan toleransi yang diinginkan :'))\n",
        "r = rfalsi(f, p0, p1, TOL)                      #Hasil akhir dari fungsi rfalsi\n",
        "\n",
        "print('Akar persamaannya adalah x  = %f '%(r))\n",
        "\n"
      ],
      "execution_count": null,
      "outputs": [
        {
          "output_type": "stream",
          "text": [
            "masukkan batas Iterasinya: 100\n",
            "masukkan formulanya :log(x-1)+cos(x-1)-0.2\n",
            "masukkan titik awal pertamanya :2.5\n",
            "masukkan titik awal keduanya :3.5\n",
            "masukkan toleransi yang diinginkan :0.00001\n",
            "Akar persamaannya adalah x  = 3.199886 \n"
          ],
          "name": "stdout"
        }
      ]
    }
  ]
}