{
  "nbformat": 4,
  "nbformat_minor": 0,
  "metadata": {
    "colab": {
      "provenance": []
    },
    "kernelspec": {
      "name": "python3",
      "display_name": "Python 3"
    },
    "language_info": {
      "name": "python"
    }
  },
  "cells": [
    {
      "cell_type": "code",
      "execution_count": null,
      "metadata": {
        "id": "xMvuOgxjuexy"
      },
      "outputs": [],
      "source": [
        "import numpy as np\n",
        "\n",
        "def Newton_system(F, J, x, eps):\n",
        "    F_value = F(x)\n",
        "    F_norm = np.linalg.norm(F_value, ord=2)  # l2 norm of vector\n",
        "    iteration_counter = 0\n",
        "    while abs(F_norm) > eps and iteration_counter < 100:\n",
        "        delta = np.linalg.solve(J(x), -F_value)\n",
        "        x = x + delta\n",
        "        F_value = F(x)\n",
        "        F_norm = np.linalg.norm(F_value, ord=2)\n",
        "        iteration_counter += 1\n",
        "\n",
        "    # Here, either a solution is found, or too many iterations\n",
        "    if abs(F_norm) > eps:\n",
        "        iteration_counter = -1\n",
        "    return x, iteration_counter"
      ]
    }
  ]
}