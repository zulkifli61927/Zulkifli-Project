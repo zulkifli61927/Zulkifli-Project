{
  "nbformat": 4,
  "nbformat_minor": 0,
  "metadata": {
    "kernelspec": {
      "display_name": "Python 3",
      "language": "python",
      "name": "python3"
    },
    "language_info": {
      "codemirror_mode": {
        "name": "ipython",
        "version": 3
      },
      "file_extension": ".py",
      "mimetype": "text/x-python",
      "name": "python",
      "nbconvert_exporter": "python",
      "pygments_lexer": "ipython3",
      "version": "3.8.5"
    },
    "colab": {
      "provenance": [],
      "collapsed_sections": [
        "AwrEeuKnIZza"
      ]
    }
  },
  "cells": [
    {
      "cell_type": "markdown",
      "metadata": {
        "id": "dMfnk07XIZy7"
      },
      "source": [
        "# **Python Introduction**\n",
        "\n",
        "## Sintaks Dasar\n",
        "\n",
        "Berikut merupakan beberapa contoh dari sintaks Python"
      ]
    },
    {
      "cell_type": "code",
      "metadata": {
        "id": "Tyj9EDctIZy-"
      },
      "source": [
        "# Menggunakan tanda '#' untuk komentar\n",
        "print(\"Hello World!!!\")"
      ],
      "execution_count": null,
      "outputs": []
    },
    {
      "cell_type": "code",
      "metadata": {
        "id": "Rk7i_wThIZy_",
        "colab": {
          "base_uri": "https://localhost:8080/"
        },
        "outputId": "9be736e3-68b4-44ba-f2cf-66ce4f88ed5c"
      },
      "source": [
        "a = 2 # memasukkan nilai kedalam variabel a\n",
        "print(a) # tunjukkan nilai di dalam variabel"
      ],
      "execution_count": null,
      "outputs": [
        {
          "output_type": "stream",
          "name": "stdout",
          "text": [
            "2\n"
          ]
        }
      ]
    },
    {
      "cell_type": "code",
      "metadata": {
        "id": "oCH9cSG0IZy_",
        "colab": {
          "base_uri": "https://localhost:8080/"
        },
        "outputId": "7e71b98f-a0b7-43a2-8c4d-99d0a73dd6e4"
      },
      "source": [
        "b = input(\"Masukkan sebarang angka: \")\n",
        "print(\"Nilai b adalah\",b)\n",
        "print(\"Nilai b adalah %s\" %b)"
      ],
      "execution_count": null,
      "outputs": [
        {
          "output_type": "stream",
          "name": "stdout",
          "text": [
            "Masukkan sebarang angka: 10\n",
            "Nilai b adalah 10\n",
            "Nilai b adalah 10\n"
          ]
        }
      ]
    },
    {
      "cell_type": "code",
      "metadata": {
        "scrolled": true,
        "id": "C4yepa0TIZy_",
        "colab": {
          "base_uri": "https://localhost:8080/"
        },
        "outputId": "78bccef6-7c94-4bf0-a69e-9d02a44f8c5c"
      },
      "source": [
        "c = a + int(b) # beberapa operasi aritmatika lainnya: -, *, /, %\n",
        "c"
      ],
      "execution_count": null,
      "outputs": [
        {
          "output_type": "execute_result",
          "data": {
            "text/plain": [
              "12"
            ]
          },
          "metadata": {},
          "execution_count": 14
        }
      ]
    },
    {
      "cell_type": "code",
      "metadata": {
        "id": "2ob9dtqNIZzA",
        "colab": {
          "base_uri": "https://localhost:8080/",
          "height": 35
        },
        "outputId": "4ed5471a-72c3-44cd-acf6-0555c970fcd0"
      },
      "source": [
        "text = \"Python\" \n",
        "text.lower() # Transformasi teks menjadi Lowercase\n",
        "\n",
        "#dir(text)"
      ],
      "execution_count": null,
      "outputs": [
        {
          "output_type": "execute_result",
          "data": {
            "text/plain": [
              "'python'"
            ],
            "application/vnd.google.colaboratory.intrinsic+json": {
              "type": "string"
            }
          },
          "metadata": {},
          "execution_count": 15
        }
      ]
    },
    {
      "cell_type": "markdown",
      "metadata": {
        "id": "9rMXJsRiIZzA"
      },
      "source": [
        "# Tipe dan Struktur Data pada Python\n",
        "Untuk mengecek tipe data dari suatu objek bisa menggunakan fungsi ```type()```"
      ]
    },
    {
      "cell_type": "markdown",
      "metadata": {
        "id": "r6_SmDx_IZzA"
      },
      "source": [
        "## Tipe Data Integer"
      ]
    },
    {
      "cell_type": "code",
      "metadata": {
        "id": "D-RnlXuQIZzB",
        "colab": {
          "base_uri": "https://localhost:8080/"
        },
        "outputId": "1a224458-6865-4858-b7d8-7eaa386068cf"
      },
      "source": [
        "x = 7 \n",
        "print(x)\n",
        "type(x) # int atau Integer (bilangan bulat)"
      ],
      "execution_count": null,
      "outputs": [
        {
          "output_type": "stream",
          "name": "stdout",
          "text": [
            "7\n"
          ]
        },
        {
          "output_type": "execute_result",
          "data": {
            "text/plain": [
              "int"
            ]
          },
          "metadata": {},
          "execution_count": 19
        }
      ]
    },
    {
      "cell_type": "markdown",
      "metadata": {
        "id": "77QgSMb3IZzB"
      },
      "source": [
        "## Tipe Data Float"
      ]
    },
    {
      "cell_type": "code",
      "metadata": {
        "id": "df9iaZ8BIZzB",
        "colab": {
          "base_uri": "https://localhost:8080/"
        },
        "outputId": "5a774da5-4408-4552-e271-4924f89318d9"
      },
      "source": [
        "nilai_float = 7.99999999\n",
        "print(round(nilai_float,3))\n",
        "type(nilai_float) # float"
      ],
      "execution_count": null,
      "outputs": [
        {
          "output_type": "stream",
          "name": "stdout",
          "text": [
            "7.12\n"
          ]
        },
        {
          "output_type": "execute_result",
          "data": {
            "text/plain": [
              "float"
            ]
          },
          "metadata": {},
          "execution_count": 29
        }
      ]
    },
    {
      "cell_type": "markdown",
      "metadata": {
        "id": "iVR_HREsIZzB"
      },
      "source": [
        "## Tipe Data String"
      ]
    },
    {
      "cell_type": "code",
      "metadata": {
        "id": "4ZTRNnIUIZzC",
        "colab": {
          "base_uri": "https://localhost:8080/"
        },
        "outputId": "9f3854a7-5f23-4709-d5dc-0d5c32a9aada"
      },
      "source": [
        "y2 = 'p\"ython'\n",
        "print(y2)\n",
        "type(y2)"
      ],
      "execution_count": null,
      "outputs": [
        {
          "output_type": "stream",
          "name": "stdout",
          "text": [
            "p\"ython\n"
          ]
        },
        {
          "output_type": "execute_result",
          "data": {
            "text/plain": [
              "str"
            ]
          },
          "metadata": {},
          "execution_count": 33
        }
      ]
    },
    {
      "cell_type": "markdown",
      "metadata": {
        "id": "OCj8psDYIZzC"
      },
      "source": [
        "## Tipe Data Boolean"
      ]
    },
    {
      "cell_type": "code",
      "metadata": {
        "id": "weAp-wynIZzC",
        "colab": {
          "base_uri": "https://localhost:8080/"
        },
        "outputId": "ff4e8b93-31d2-4129-b530-3b0768767155"
      },
      "source": [
        "false = \"Salah\"\n",
        "nilai_boolean = False # bisa juga False\n",
        "print(nilai_boolean)\n",
        "type(nilai_boolean) # bool or Boolean"
      ],
      "execution_count": null,
      "outputs": [
        {
          "output_type": "stream",
          "name": "stdout",
          "text": [
            "False\n"
          ]
        },
        {
          "output_type": "execute_result",
          "data": {
            "text/plain": [
              "bool"
            ]
          },
          "metadata": {},
          "execution_count": 37
        }
      ]
    },
    {
      "cell_type": "markdown",
      "metadata": {
        "id": "dBn-MQTZIZzD"
      },
      "source": [
        "## Struktur Data List"
      ]
    },
    {
      "cell_type": "code",
      "metadata": {
        "colab": {
          "base_uri": "https://localhost:8080/"
        },
        "id": "3mGLOz_QIZzD",
        "outputId": "af64c8a5-1d3a-4845-bc06-cfee4a52eea0"
      },
      "source": [
        "objek_list = [1,2,3,4,5,5]\n",
        "print(objek_list)\n",
        "type(objek_list)"
      ],
      "execution_count": null,
      "outputs": [
        {
          "output_type": "stream",
          "name": "stdout",
          "text": [
            "[1, 2, 3, 4, 5, 5]\n"
          ]
        },
        {
          "output_type": "execute_result",
          "data": {
            "text/plain": [
              "list"
            ]
          },
          "metadata": {},
          "execution_count": 42
        }
      ]
    },
    {
      "cell_type": "code",
      "source": [
        "bag = [\"harga-1\",\"harga-2\",\"harga-3\",\"harga-2\"]\n",
        "print(bag)\n",
        "type(bag)"
      ],
      "metadata": {
        "colab": {
          "base_uri": "https://localhost:8080/"
        },
        "id": "b9H9VLK2WlGr",
        "outputId": "7c695b6f-0534-4c6d-ab9a-dc5a75366734"
      },
      "execution_count": null,
      "outputs": [
        {
          "output_type": "stream",
          "name": "stdout",
          "text": [
            "['harga-1', 'harga-2', 'harga-3', 'harga-2']\n"
          ]
        },
        {
          "output_type": "execute_result",
          "data": {
            "text/plain": [
              "list"
            ]
          },
          "metadata": {},
          "execution_count": 51
        }
      ]
    },
    {
      "cell_type": "markdown",
      "metadata": {
        "id": "pWjjbGO9IZzD"
      },
      "source": [
        "## Struktur Data Tuple"
      ]
    },
    {
      "cell_type": "code",
      "metadata": {
        "id": "9zJwBppeIZzD",
        "colab": {
          "base_uri": "https://localhost:8080/"
        },
        "outputId": "159b481b-f92f-4109-8baf-811cd26ca3e4"
      },
      "source": [
        "objek_tuple = (1,2,3,4,5,5)\n",
        "print(objek_tuple)\n",
        "type(objek_tuple) # Tuple"
      ],
      "execution_count": null,
      "outputs": [
        {
          "output_type": "stream",
          "name": "stdout",
          "text": [
            "(1, 2, 3, 4, 5, 5)\n"
          ]
        },
        {
          "output_type": "execute_result",
          "data": {
            "text/plain": [
              "tuple"
            ]
          },
          "metadata": {},
          "execution_count": 43
        }
      ]
    },
    {
      "cell_type": "markdown",
      "metadata": {
        "id": "6DEmmaewIZzD"
      },
      "source": [
        "## Struktur Data Set"
      ]
    },
    {
      "cell_type": "code",
      "metadata": {
        "id": "duoaBNWiIZzE",
        "colab": {
          "base_uri": "https://localhost:8080/"
        },
        "outputId": "0ab89071-3977-4b91-a2f3-db1cafb341a2"
      },
      "source": [
        "objek_set = {1,2,3,4,5,5}\n",
        "print(objek_set)\n",
        "type(objek_set) # Set"
      ],
      "execution_count": null,
      "outputs": [
        {
          "output_type": "stream",
          "name": "stdout",
          "text": [
            "{1, 2, 3, 4, 5}\n"
          ]
        },
        {
          "output_type": "execute_result",
          "data": {
            "text/plain": [
              "set"
            ]
          },
          "metadata": {},
          "execution_count": 44
        }
      ]
    },
    {
      "cell_type": "markdown",
      "metadata": {
        "id": "84l3ohNGIZzE"
      },
      "source": [
        "## Struktur Data Dictionary"
      ]
    },
    {
      "cell_type": "code",
      "metadata": {
        "id": "P_bG6ScJIZzE",
        "colab": {
          "base_uri": "https://localhost:8080/"
        },
        "outputId": "79a77854-b817-4a4e-b3e9-887e98913d2d"
      },
      "source": [
        "objek_dictionary = {\"id\": 65555, \"Name\": \"Hadi\", \"Skill\":[\"jago statistik\",\"jago coding\"],\"child\":{}}\n",
        "print(objek_dictionary)\n",
        "type(objek_dictionary) # dict atau Dictionary"
      ],
      "execution_count": null,
      "outputs": [
        {
          "output_type": "stream",
          "name": "stdout",
          "text": [
            "65555\n"
          ]
        },
        {
          "output_type": "execute_result",
          "data": {
            "text/plain": [
              "int"
            ]
          },
          "metadata": {},
          "execution_count": 59
        }
      ]
    },
    {
      "cell_type": "markdown",
      "metadata": {
        "id": "dF5jcpp7IZzE"
      },
      "source": [
        "# Operasi Matematika di Python"
      ]
    },
    {
      "cell_type": "code",
      "metadata": {
        "id": "p14GvjzqIZzE"
      },
      "source": [
        "a = 100 # assignment"
      ],
      "execution_count": null,
      "outputs": []
    },
    {
      "cell_type": "code",
      "metadata": {
        "id": "es4_vA2fIZzE",
        "colab": {
          "base_uri": "https://localhost:8080/"
        },
        "outputId": "4b81d5d8-a794-42f4-a31e-c99edbe45015"
      },
      "source": [
        "a + 5 # penjumlahan"
      ],
      "execution_count": null,
      "outputs": [
        {
          "output_type": "execute_result",
          "data": {
            "text/plain": [
              "105"
            ]
          },
          "metadata": {},
          "execution_count": 63
        }
      ]
    },
    {
      "cell_type": "code",
      "metadata": {
        "id": "2z8RCiVzIZzF",
        "colab": {
          "base_uri": "https://localhost:8080/"
        },
        "outputId": "78c751fd-8d5f-496b-d6a8-671315ecd4c3"
      },
      "source": [
        "a - 10 # pengurangan"
      ],
      "execution_count": null,
      "outputs": [
        {
          "output_type": "execute_result",
          "data": {
            "text/plain": [
              "90"
            ]
          },
          "metadata": {},
          "execution_count": 68
        }
      ]
    },
    {
      "cell_type": "code",
      "metadata": {
        "id": "pAz4NO6HIZzF",
        "colab": {
          "base_uri": "https://localhost:8080/"
        },
        "outputId": "733d865a-4c51-44c1-d535-85876fbcdeaf"
      },
      "source": [
        "a / 5 # pembagian"
      ],
      "execution_count": null,
      "outputs": [
        {
          "output_type": "execute_result",
          "data": {
            "text/plain": [
              "20.0"
            ]
          },
          "metadata": {},
          "execution_count": 69
        }
      ]
    },
    {
      "cell_type": "code",
      "metadata": {
        "id": "WuzVfWwKIZzF",
        "colab": {
          "base_uri": "https://localhost:8080/"
        },
        "outputId": "2c7c4f05-d4c6-4ec9-8e98-f74ae6abe868"
      },
      "source": [
        "a * 2 # perkalian"
      ],
      "execution_count": null,
      "outputs": [
        {
          "output_type": "execute_result",
          "data": {
            "text/plain": [
              "200"
            ]
          },
          "metadata": {},
          "execution_count": 70
        }
      ]
    },
    {
      "cell_type": "code",
      "metadata": {
        "id": "i95vxxtwIZzF",
        "colab": {
          "base_uri": "https://localhost:8080/"
        },
        "outputId": "3bf74d6c-6f5c-42e3-968d-15f18927d8e4"
      },
      "source": [
        "a**2 #pangkat"
      ],
      "execution_count": null,
      "outputs": [
        {
          "output_type": "execute_result",
          "data": {
            "text/plain": [
              "10000"
            ]
          },
          "metadata": {},
          "execution_count": 71
        }
      ]
    },
    {
      "cell_type": "code",
      "source": [
        "a**0.5"
      ],
      "metadata": {
        "colab": {
          "base_uri": "https://localhost:8080/"
        },
        "id": "GUbiC68LZUqE",
        "outputId": "80254df3-c3bf-4446-b133-798dd6d7511f"
      },
      "execution_count": null,
      "outputs": [
        {
          "output_type": "execute_result",
          "data": {
            "text/plain": [
              "10.0"
            ]
          },
          "metadata": {},
          "execution_count": 77
        }
      ]
    },
    {
      "cell_type": "code",
      "source": [
        "a%30 #sisa"
      ],
      "metadata": {
        "id": "6UGhi3dJySTT",
        "colab": {
          "base_uri": "https://localhost:8080/"
        },
        "outputId": "2bd94484-6816-46d7-be38-474e0e79e137"
      },
      "execution_count": null,
      "outputs": [
        {
          "output_type": "execute_result",
          "data": {
            "text/plain": [
              "10"
            ]
          },
          "metadata": {},
          "execution_count": 73
        }
      ]
    },
    {
      "cell_type": "markdown",
      "metadata": {
        "id": "5JOedVbZIZzF"
      },
      "source": [
        "# Logical Operation in Python\n",
        "There are 3 logical operations in python, that is:\n",
        "- and '&'\n",
        "- or '|'\n",
        "- not"
      ]
    },
    {
      "cell_type": "code",
      "metadata": {
        "id": "wspYT3b7IZzF",
        "colab": {
          "base_uri": "https://localhost:8080/"
        },
        "outputId": "8b6c1f04-19cc-4c96-8af0-192051d88e7d"
      },
      "source": [
        "True & True # You can change '&' with 'and'"
      ],
      "execution_count": null,
      "outputs": [
        {
          "output_type": "execute_result",
          "data": {
            "text/plain": [
              "True"
            ]
          },
          "metadata": {},
          "execution_count": 80
        }
      ]
    },
    {
      "cell_type": "code",
      "metadata": {
        "id": "V_kai33dIZzG",
        "colab": {
          "base_uri": "https://localhost:8080/"
        },
        "outputId": "2c2de9b3-c4c1-4346-b454-157b3de9af9c"
      },
      "source": [
        "True | False # You can change '|' with 'or'"
      ],
      "execution_count": null,
      "outputs": [
        {
          "output_type": "execute_result",
          "data": {
            "text/plain": [
              "True"
            ]
          },
          "metadata": {},
          "execution_count": 118
        }
      ]
    },
    {
      "cell_type": "code",
      "metadata": {
        "id": "Y2T5Xb8NIZzG",
        "colab": {
          "base_uri": "https://localhost:8080/"
        },
        "outputId": "63d179f7-ef17-4505-80e1-76f94fd49123"
      },
      "source": [
        "not False & True"
      ],
      "execution_count": null,
      "outputs": [
        {
          "output_type": "execute_result",
          "data": {
            "text/plain": [
              "True"
            ]
          },
          "metadata": {},
          "execution_count": 92
        }
      ]
    },
    {
      "cell_type": "markdown",
      "metadata": {
        "id": "wcqWBXSoIZzG"
      },
      "source": [
        "# Perbandingan atau Komparasi di Python\n",
        "Terdapat 8 jenis di python:\n",
        "- equal ```==```\n",
        "- not equal ```!=```\n",
        "- is\n",
        "- is not\n",
        "- greater than ```>```\n",
        "- less than ```<```\n",
        "- greater or equal ```>=```\n",
        "- less or equal ```<=```"
      ]
    },
    {
      "cell_type": "code",
      "metadata": {
        "id": "HQLX04nRIZzG",
        "colab": {
          "base_uri": "https://localhost:8080/"
        },
        "outputId": "bf600977-2b07-4308-d9b9-3bd958c624ba"
      },
      "source": [
        "2 == 2 # equal/mirip dengan"
      ],
      "execution_count": null,
      "outputs": [
        {
          "output_type": "execute_result",
          "data": {
            "text/plain": [
              "True"
            ]
          },
          "metadata": {},
          "execution_count": 94
        }
      ]
    },
    {
      "cell_type": "code",
      "metadata": {
        "id": "ACuhsLcMIZzG",
        "colab": {
          "base_uri": "https://localhost:8080/"
        },
        "outputId": "fe0693e0-9786-4640-d830-ce9a435a85b3"
      },
      "source": [
        "2 != 2 # not equal/tidak mirip dengan"
      ],
      "execution_count": null,
      "outputs": [
        {
          "output_type": "execute_result",
          "data": {
            "text/plain": [
              "False"
            ]
          },
          "metadata": {},
          "execution_count": 95
        }
      ]
    },
    {
      "cell_type": "code",
      "metadata": {
        "id": "gxT80V7XIZzH",
        "colab": {
          "base_uri": "https://localhost:8080/"
        },
        "outputId": "1e7b4b52-6526-453e-a789-86dfbada19f3"
      },
      "source": [
        "2 is 2.0 # object identity"
      ],
      "execution_count": null,
      "outputs": [
        {
          "output_type": "execute_result",
          "data": {
            "text/plain": [
              "False"
            ]
          },
          "metadata": {},
          "execution_count": 96
        }
      ]
    },
    {
      "cell_type": "code",
      "metadata": {
        "id": "0YRiz_VdIZzH",
        "colab": {
          "base_uri": "https://localhost:8080/"
        },
        "outputId": "30146a37-a9c5-4279-9d48-d20e82c88dce"
      },
      "source": [
        "2 is 3 # negated object identity"
      ],
      "execution_count": null,
      "outputs": [
        {
          "output_type": "execute_result",
          "data": {
            "text/plain": [
              "False"
            ]
          },
          "metadata": {},
          "execution_count": 98
        }
      ]
    },
    {
      "cell_type": "code",
      "metadata": {
        "id": "_TKTXXM5IZzH",
        "colab": {
          "base_uri": "https://localhost:8080/"
        },
        "outputId": "aea5c8d0-7cc1-4790-9753-71a4a54edfdf"
      },
      "source": [
        "2 > 3 # greater than\n"
      ],
      "execution_count": null,
      "outputs": [
        {
          "output_type": "execute_result",
          "data": {
            "text/plain": [
              "False"
            ]
          },
          "metadata": {},
          "execution_count": 99
        }
      ]
    },
    {
      "cell_type": "code",
      "metadata": {
        "id": "0xlOnTbKIZzH",
        "colab": {
          "base_uri": "https://localhost:8080/"
        },
        "outputId": "9d192ab6-f7a4-41dc-cc91-a79c089162f5"
      },
      "source": [
        "2 < 3 # less than\n"
      ],
      "execution_count": null,
      "outputs": [
        {
          "output_type": "execute_result",
          "data": {
            "text/plain": [
              "True"
            ]
          },
          "metadata": {},
          "execution_count": 100
        }
      ]
    },
    {
      "cell_type": "code",
      "metadata": {
        "id": "UyJmj1QPIZzH",
        "colab": {
          "base_uri": "https://localhost:8080/"
        },
        "outputId": "9c72ce87-170f-4c74-8f31-df9158e7f693"
      },
      "source": [
        "2 >= 3 # greater or equal\n"
      ],
      "execution_count": null,
      "outputs": [
        {
          "output_type": "execute_result",
          "data": {
            "text/plain": [
              "False"
            ]
          },
          "metadata": {},
          "execution_count": 101
        }
      ]
    },
    {
      "cell_type": "code",
      "metadata": {
        "id": "UqQOjBCNIZzH",
        "colab": {
          "base_uri": "https://localhost:8080/"
        },
        "outputId": "0e643a9f-7093-475b-8f5a-632e6add0172"
      },
      "source": [
        "2 <= 3 # less or equal"
      ],
      "execution_count": null,
      "outputs": [
        {
          "output_type": "execute_result",
          "data": {
            "text/plain": [
              "True"
            ]
          },
          "metadata": {},
          "execution_count": 102
        }
      ]
    },
    {
      "cell_type": "code",
      "source": [
        "round(0.1+0.2,1) == 0.3"
      ],
      "metadata": {
        "colab": {
          "base_uri": "https://localhost:8080/"
        },
        "id": "Rm-_Y1-_b1kE",
        "outputId": "cc86cb74-dda8-43ef-c79b-c5cb0d3691f5"
      },
      "execution_count": null,
      "outputs": [
        {
          "output_type": "execute_result",
          "data": {
            "text/plain": [
              "True"
            ]
          },
          "metadata": {},
          "execution_count": 120
        }
      ]
    },
    {
      "cell_type": "code",
      "metadata": {
        "id": "guf2w3UnIZzI",
        "colab": {
          "base_uri": "https://localhost:8080/"
        },
        "outputId": "db0b0eaa-a480-4ccc-dfb7-2d4bc1bff087"
      },
      "source": [
        "1 + 2 == 3"
      ],
      "execution_count": null,
      "outputs": [
        {
          "output_type": "execute_result",
          "data": {
            "text/plain": [
              "True"
            ]
          },
          "metadata": {},
          "execution_count": 115
        }
      ]
    },
    {
      "cell_type": "markdown",
      "metadata": {
        "id": "NILRi_xEIZzI"
      },
      "source": [
        "## String Comparison\n",
        "Kita dapat membandingkan string."
      ]
    },
    {
      "cell_type": "code",
      "metadata": {
        "id": "ll5--NFEIZzI",
        "colab": {
          "base_uri": "https://localhost:8080/"
        },
        "outputId": "85c87079-3c2f-4f3a-a860-15c53fa23dc1"
      },
      "source": [
        "'a' > 'b'"
      ],
      "execution_count": null,
      "outputs": [
        {
          "output_type": "execute_result",
          "data": {
            "text/plain": [
              "False"
            ]
          },
          "metadata": {},
          "execution_count": 121
        }
      ]
    },
    {
      "cell_type": "code",
      "metadata": {
        "id": "vvtB_73yIZzI",
        "colab": {
          "base_uri": "https://localhost:8080/"
        },
        "outputId": "b1a7701a-1194-46d4-838c-875a3a437e13"
      },
      "source": [
        "'a' > 'A'"
      ],
      "execution_count": null,
      "outputs": [
        {
          "output_type": "execute_result",
          "data": {
            "text/plain": [
              "True"
            ]
          },
          "metadata": {},
          "execution_count": 122
        }
      ]
    },
    {
      "cell_type": "code",
      "metadata": {
        "id": "dShUv2-OIZzI",
        "colab": {
          "base_uri": "https://localhost:8080/"
        },
        "outputId": "fe41d31a-eb27-49fe-e20c-3d0f55d9e812"
      },
      "source": [
        "ord('a') # Change a character to ASCII value"
      ],
      "execution_count": null,
      "outputs": [
        {
          "output_type": "execute_result",
          "data": {
            "text/plain": [
              "97"
            ]
          },
          "metadata": {},
          "execution_count": 123
        }
      ]
    },
    {
      "cell_type": "code",
      "source": [
        "ord('b')"
      ],
      "metadata": {
        "colab": {
          "base_uri": "https://localhost:8080/"
        },
        "id": "WqaBkQlofjrC",
        "outputId": "866da84e-82a0-4ba5-c54b-697fc9f250b9"
      },
      "execution_count": null,
      "outputs": [
        {
          "output_type": "execute_result",
          "data": {
            "text/plain": [
              "98"
            ]
          },
          "metadata": {},
          "execution_count": 125
        }
      ]
    },
    {
      "cell_type": "code",
      "metadata": {
        "id": "ph202hViIZzI",
        "colab": {
          "base_uri": "https://localhost:8080/"
        },
        "outputId": "1c4a53db-06e0-4200-badf-b21baa528afe"
      },
      "source": [
        "ord('A')"
      ],
      "execution_count": null,
      "outputs": [
        {
          "output_type": "execute_result",
          "data": {
            "text/plain": [
              "65"
            ]
          },
          "metadata": {},
          "execution_count": 124
        }
      ]
    },
    {
      "cell_type": "code",
      "metadata": {
        "id": "1AYw-XqeIZzJ",
        "colab": {
          "base_uri": "https://localhost:8080/",
          "height": 35
        },
        "outputId": "a9f0a258-0faa-41a1-c9b9-3283deac60ff"
      },
      "source": [
        "chr(98) # Ubah nilai ASCII menjadi karakter"
      ],
      "execution_count": null,
      "outputs": [
        {
          "output_type": "execute_result",
          "data": {
            "text/plain": [
              "'b'"
            ],
            "application/vnd.google.colaboratory.intrinsic+json": {
              "type": "string"
            }
          },
          "metadata": {},
          "execution_count": 127
        }
      ]
    },
    {
      "cell_type": "markdown",
      "metadata": {
        "id": "ociLg5oiIZzJ"
      },
      "source": [
        "# Operasi pada String"
      ]
    },
    {
      "cell_type": "code",
      "metadata": {
        "id": "Z2fPF3pnIZzJ",
        "colab": {
          "base_uri": "https://localhost:8080/"
        },
        "outputId": "ab03d417-bd41-41c8-c9d9-ef06554db3ad"
      },
      "source": [
        "a = \"NaNa\"\n",
        "print(a)"
      ],
      "execution_count": null,
      "outputs": [
        {
          "output_type": "stream",
          "name": "stdout",
          "text": [
            "NaNa\n"
          ]
        }
      ]
    },
    {
      "cell_type": "code",
      "metadata": {
        "id": "6ZZjDg3fIZzJ",
        "colab": {
          "base_uri": "https://localhost:8080/",
          "height": 35
        },
        "outputId": "6c5cf704-d5aa-417e-c28a-a30582f007a8"
      },
      "source": [
        "a*3 # repetition (repetisi)"
      ],
      "execution_count": null,
      "outputs": [
        {
          "output_type": "execute_result",
          "data": {
            "text/plain": [
              "'NaNaNaNaNaNa'"
            ],
            "application/vnd.google.colaboratory.intrinsic+json": {
              "type": "string"
            }
          },
          "metadata": {},
          "execution_count": 129
        }
      ]
    },
    {
      "cell_type": "code",
      "metadata": {
        "id": "_Y7X6BtjIZzJ",
        "colab": {
          "base_uri": "https://localhost:8080/",
          "height": 35
        },
        "outputId": "475abc44-e648-494d-898b-7db329c7b053"
      },
      "source": [
        "a*10 + ' Batman' # concatenation (penggabungan)"
      ],
      "execution_count": null,
      "outputs": [
        {
          "output_type": "execute_result",
          "data": {
            "text/plain": [
              "'NaNaNaNaNaNaNaNaNaNaNaNaNaNaNaNaNaNaNaNa Batman'"
            ],
            "application/vnd.google.colaboratory.intrinsic+json": {
              "type": "string"
            }
          },
          "metadata": {},
          "execution_count": 130
        }
      ]
    },
    {
      "cell_type": "code",
      "metadata": {
        "scrolled": true,
        "id": "lqU6JaizIZzJ",
        "colab": {
          "base_uri": "https://localhost:8080/",
          "height": 35
        },
        "outputId": "7146817b-3698-45da-96fc-765eb9198e17"
      },
      "source": [
        "b = \"Batman\"\n",
        "b[-1] # Slicing (pemotongan)"
      ],
      "execution_count": null,
      "outputs": [
        {
          "output_type": "execute_result",
          "data": {
            "text/plain": [
              "'n'"
            ],
            "application/vnd.google.colaboratory.intrinsic+json": {
              "type": "string"
            }
          },
          "metadata": {},
          "execution_count": 146
        }
      ]
    },
    {
      "cell_type": "code",
      "metadata": {
        "id": "i2ijFgyJIZzK",
        "colab": {
          "base_uri": "https://localhost:8080/",
          "height": 35
        },
        "outputId": "953c9024-b442-4832-aaad-4ef0206a1d7b"
      },
      "source": [
        "b[0:-1] # Delete one character"
      ],
      "execution_count": null,
      "outputs": [
        {
          "output_type": "execute_result",
          "data": {
            "text/plain": [
              "'Batma'"
            ],
            "application/vnd.google.colaboratory.intrinsic+json": {
              "type": "string"
            }
          },
          "metadata": {},
          "execution_count": 147
        }
      ]
    },
    {
      "cell_type": "code",
      "metadata": {
        "id": "8ojgtMzsIZzK",
        "colab": {
          "base_uri": "https://localhost:8080/",
          "height": 35
        },
        "outputId": "2e645164-8a00-4767-ad16-67ea7dae1c5a"
      },
      "source": [
        "b[::-1] # Reversing"
      ],
      "execution_count": null,
      "outputs": [
        {
          "output_type": "execute_result",
          "data": {
            "text/plain": [
              "'namtaB'"
            ],
            "application/vnd.google.colaboratory.intrinsic+json": {
              "type": "string"
            }
          },
          "metadata": {},
          "execution_count": 152
        }
      ]
    },
    {
      "cell_type": "code",
      "metadata": {
        "id": "N5Tg4g3nIZzK",
        "colab": {
          "base_uri": "https://localhost:8080/",
          "height": 35
        },
        "outputId": "e987fc76-0fce-4fdf-85a7-5d3b02368a6e"
      },
      "source": [
        "b[-2] # Indexing"
      ],
      "execution_count": null,
      "outputs": [
        {
          "output_type": "execute_result",
          "data": {
            "text/plain": [
              "'a'"
            ],
            "application/vnd.google.colaboratory.intrinsic+json": {
              "type": "string"
            }
          },
          "metadata": {},
          "execution_count": 154
        }
      ]
    },
    {
      "cell_type": "code",
      "metadata": {
        "id": "_JF8LLONIZzK",
        "colab": {
          "base_uri": "https://localhost:8080/"
        },
        "outputId": "e500fd7c-38ca-46e7-be64-a7f973b3d3aa"
      },
      "source": [
        "4 in x # Searching (pencarian)"
      ],
      "execution_count": null,
      "outputs": [
        {
          "output_type": "execute_result",
          "data": {
            "text/plain": [
              "False"
            ]
          },
          "metadata": {},
          "execution_count": 161
        }
      ]
    },
    {
      "cell_type": "code",
      "source": [
        "x"
      ],
      "metadata": {
        "colab": {
          "base_uri": "https://localhost:8080/"
        },
        "id": "Elgzfg8Yhrpl",
        "outputId": "72a820b5-fcce-419c-f243-71739fa496a9"
      },
      "execution_count": null,
      "outputs": [
        {
          "output_type": "execute_result",
          "data": {
            "text/plain": [
              "[1, 2, 3]"
            ]
          },
          "metadata": {},
          "execution_count": 164
        }
      ]
    },
    {
      "cell_type": "code",
      "metadata": {
        "id": "cQRyeK0hIZzK",
        "colab": {
          "base_uri": "https://localhost:8080/"
        },
        "outputId": "b822f61d-652a-47e7-c279-e335e00ae134"
      },
      "source": [
        "len(x) # panjang karakter/string"
      ],
      "execution_count": null,
      "outputs": [
        {
          "output_type": "execute_result",
          "data": {
            "text/plain": [
              "3"
            ]
          },
          "metadata": {},
          "execution_count": 166
        }
      ]
    },
    {
      "cell_type": "markdown",
      "metadata": {
        "id": "kI6Yt-hKIZzK"
      },
      "source": [
        "# List\n",
        "- Susunan dari data\n",
        "- Data dapat disimpan dalam berbagai tipe\n",
        "- *List* bersifat *mutable*\n",
        "- Memiliki operasi yang sama sebagaimana *string*"
      ]
    },
    {
      "cell_type": "markdown",
      "metadata": {
        "id": "x02Li8tSIZzK"
      },
      "source": [
        "## Operasi pada List"
      ]
    },
    {
      "cell_type": "code",
      "metadata": {
        "id": "2dQKtmIaIZzL"
      },
      "source": [
        "a = [1,2,3]\n",
        "b = [4,5]"
      ],
      "execution_count": null,
      "outputs": []
    },
    {
      "cell_type": "code",
      "metadata": {
        "id": "mSzBV4rqIZzL",
        "colab": {
          "base_uri": "https://localhost:8080/"
        },
        "outputId": "de56462a-123d-433a-b24f-68c8a94058f6"
      },
      "source": [
        "b + a # concatenation (penggabungan)"
      ],
      "execution_count": null,
      "outputs": [
        {
          "output_type": "execute_result",
          "data": {
            "text/plain": [
              "[4, 5, 1, 2, 3]"
            ]
          },
          "metadata": {},
          "execution_count": 169
        }
      ]
    },
    {
      "cell_type": "code",
      "metadata": {
        "id": "y205QrUsIZzL",
        "colab": {
          "base_uri": "https://localhost:8080/"
        },
        "outputId": "342171b2-9be4-4d2b-c2dc-ca45418374d0"
      },
      "source": [
        "a * 3 # repetition (repetisi)"
      ],
      "execution_count": null,
      "outputs": [
        {
          "output_type": "execute_result",
          "data": {
            "text/plain": [
              "[1, 2, 3, 1, 2, 3, 1, 2, 3]"
            ]
          },
          "metadata": {},
          "execution_count": 170
        }
      ]
    },
    {
      "cell_type": "code",
      "metadata": {
        "id": "MSHIVpt2IZzL",
        "colab": {
          "base_uri": "https://localhost:8080/"
        },
        "outputId": "4a3d09dd-0df8-49bb-ca8f-b3df9e0fa81e"
      },
      "source": [
        "a[1:3] # slicing (pemotongan)"
      ],
      "execution_count": null,
      "outputs": [
        {
          "output_type": "execute_result",
          "data": {
            "text/plain": [
              "[2, 3]"
            ]
          },
          "metadata": {},
          "execution_count": 172
        }
      ]
    },
    {
      "cell_type": "code",
      "metadata": {
        "id": "TzG8iP3vIZzL",
        "colab": {
          "base_uri": "https://localhost:8080/"
        },
        "outputId": "73376eb9-3568-4eb9-ceb7-eb5465f9618a"
      },
      "source": [
        "len(a) # Ukuran list"
      ],
      "execution_count": null,
      "outputs": [
        {
          "output_type": "execute_result",
          "data": {
            "text/plain": [
              "3"
            ]
          },
          "metadata": {},
          "execution_count": 173
        }
      ]
    },
    {
      "cell_type": "code",
      "metadata": {
        "id": "g9q_Xgw0IZzL",
        "colab": {
          "base_uri": "https://localhost:8080/"
        },
        "outputId": "f8eb6bad-c595-47d8-ae18-de7f21491ea7"
      },
      "source": [
        "a[2] #Indexing"
      ],
      "execution_count": null,
      "outputs": [
        {
          "output_type": "execute_result",
          "data": {
            "text/plain": [
              "3"
            ]
          },
          "metadata": {},
          "execution_count": 174
        }
      ]
    },
    {
      "cell_type": "code",
      "metadata": {
        "id": "QWfi3mkJIZzM",
        "colab": {
          "base_uri": "https://localhost:8080/"
        },
        "outputId": "15dfa4e1-48d5-4657-bf14-27058d688be6"
      },
      "source": [
        "5 in a #Searching"
      ],
      "execution_count": null,
      "outputs": [
        {
          "output_type": "execute_result",
          "data": {
            "text/plain": [
              "True"
            ]
          },
          "metadata": {},
          "execution_count": 176
        }
      ]
    },
    {
      "cell_type": "code",
      "metadata": {
        "id": "X3AjmUeHIZzM",
        "colab": {
          "base_uri": "https://localhost:8080/"
        },
        "outputId": "d90303fc-ae9d-411c-df59-99e287bb5a5d"
      },
      "source": [
        "c = [1,\"lion\",True,1.0] # Multiple data type in 1 list\n",
        "print(c)"
      ],
      "execution_count": null,
      "outputs": [
        {
          "output_type": "stream",
          "name": "stdout",
          "text": [
            "[1, 'lion', True, 1.0]\n"
          ]
        }
      ]
    },
    {
      "cell_type": "code",
      "metadata": {
        "id": "wYNLInsCIZzM",
        "colab": {
          "base_uri": "https://localhost:8080/"
        },
        "outputId": "f6d97ca1-5bde-4d83-8c1d-becf62fcfc48"
      },
      "source": [
        "d = [3,2,1,0]\n",
        "d.sort() # Sorting\n",
        "d"
      ],
      "execution_count": null,
      "outputs": [
        {
          "output_type": "execute_result",
          "data": {
            "text/plain": [
              "[3, 2, 1, 0]"
            ]
          },
          "metadata": {},
          "execution_count": 197
        }
      ]
    },
    {
      "cell_type": "code",
      "source": [
        "d"
      ],
      "metadata": {
        "colab": {
          "base_uri": "https://localhost:8080/"
        },
        "id": "YJET3UCViknQ",
        "outputId": "c4320792-3ea8-4f62-a604-a29f2fd67f8e"
      },
      "execution_count": null,
      "outputs": [
        {
          "output_type": "execute_result",
          "data": {
            "text/plain": [
              "[0, 1, 2, 3]"
            ]
          },
          "metadata": {},
          "execution_count": 183
        }
      ]
    },
    {
      "cell_type": "code",
      "source": [
        "d[2]=3"
      ],
      "metadata": {
        "id": "4HJQFWldit1y"
      },
      "execution_count": null,
      "outputs": []
    },
    {
      "cell_type": "markdown",
      "metadata": {
        "id": "Y57WIWJhIZzM"
      },
      "source": [
        "## Modifikasi Isi dalam List\n",
        "- ```x[i] = a``` berarti memasukkan nilai ```a``` ke dalam elemen ke-```i```\n",
        "- Karena x dan y memiliki id yang sama, keduanya pun berubah nilai\n",
        "- Metode ```append``` juga mengubah isi dari list"
      ]
    },
    {
      "cell_type": "code",
      "metadata": {
        "id": "TKesric9IZzM"
      },
      "source": [
        "x = [3,10,1]\n",
        "y = x"
      ],
      "execution_count": null,
      "outputs": []
    },
    {
      "cell_type": "code",
      "metadata": {
        "id": "JQzKb5MnIZzM",
        "colab": {
          "base_uri": "https://localhost:8080/"
        },
        "outputId": "c43c6238-c50a-42c0-f69f-11e5dc2de48f"
      },
      "source": [
        "y"
      ],
      "execution_count": null,
      "outputs": [
        {
          "output_type": "execute_result",
          "data": {
            "text/plain": [
              "[3, 10, 1]"
            ]
          },
          "metadata": {},
          "execution_count": 190
        }
      ]
    },
    {
      "cell_type": "code",
      "metadata": {
        "id": "v3bFptrSIZzN",
        "colab": {
          "base_uri": "https://localhost:8080/"
        },
        "outputId": "bfcb2f1d-31e0-4c11-eb93-0ef9097d15cb"
      },
      "source": [
        "x[1] = 20\n",
        "x"
      ],
      "execution_count": null,
      "outputs": [
        {
          "output_type": "execute_result",
          "data": {
            "text/plain": [
              "[3, 20, 1]"
            ]
          },
          "metadata": {},
          "execution_count": 191
        }
      ]
    },
    {
      "cell_type": "code",
      "metadata": {
        "id": "QZJ6aCpGIZzN",
        "colab": {
          "base_uri": "https://localhost:8080/"
        },
        "outputId": "ddb9c262-453d-465b-a75a-48b00dc4677d"
      },
      "source": [
        "y"
      ],
      "execution_count": null,
      "outputs": [
        {
          "output_type": "execute_result",
          "data": {
            "text/plain": [
              "[3, 20, 1]"
            ]
          },
          "metadata": {},
          "execution_count": 192
        }
      ]
    },
    {
      "cell_type": "code",
      "metadata": {
        "id": "RY_jx6miIZzN",
        "colab": {
          "base_uri": "https://localhost:8080/"
        },
        "outputId": "dce5477c-84a9-48bb-82d4-2bec43d7036d"
      },
      "source": [
        "x.append(12) #Appending\n",
        "x"
      ],
      "execution_count": null,
      "outputs": [
        {
          "output_type": "execute_result",
          "data": {
            "text/plain": [
              "[3, 20, 1, 12]"
            ]
          },
          "metadata": {},
          "execution_count": 202
        }
      ]
    },
    {
      "cell_type": "code",
      "metadata": {
        "id": "a7loxtvOIZzN",
        "colab": {
          "base_uri": "https://localhost:8080/"
        },
        "outputId": "413f44fd-ffef-4dc4-a59e-8c2e6ab850d5"
      },
      "source": [
        "y.copy()"
      ],
      "execution_count": null,
      "outputs": [
        {
          "output_type": "execute_result",
          "data": {
            "text/plain": [
              "[3, 20, 1, 12]"
            ]
          },
          "metadata": {},
          "execution_count": 203
        }
      ]
    },
    {
      "cell_type": "code",
      "metadata": {
        "id": "hMVX9Nt7IZzN",
        "colab": {
          "base_uri": "https://localhost:8080/"
        },
        "outputId": "6c7abffd-8787-45a6-deea-33334e0f15bd"
      },
      "source": [
        "y.pop(2) #deleting\n",
        "y"
      ],
      "execution_count": null,
      "outputs": [
        {
          "output_type": "execute_result",
          "data": {
            "text/plain": [
              "[3, 20, 12]"
            ]
          },
          "metadata": {},
          "execution_count": 204
        }
      ]
    },
    {
      "cell_type": "code",
      "source": [
        "y.pop()\n",
        "y"
      ],
      "metadata": {
        "colab": {
          "base_uri": "https://localhost:8080/"
        },
        "id": "E_IOtDWtkkLX",
        "outputId": "d4d6c313-c7bc-40b5-b2ad-7b43f7180bf8"
      },
      "execution_count": null,
      "outputs": [
        {
          "output_type": "execute_result",
          "data": {
            "text/plain": [
              "[3, 20]"
            ]
          },
          "metadata": {},
          "execution_count": 205
        }
      ]
    },
    {
      "cell_type": "code",
      "metadata": {
        "scrolled": true,
        "id": "ae1nS3IYIZzN",
        "colab": {
          "base_uri": "https://localhost:8080/"
        },
        "outputId": "b81fb6aa-d6de-4991-ffbe-f3695f272c69"
      },
      "source": [
        "x"
      ],
      "execution_count": null,
      "outputs": [
        {
          "output_type": "execute_result",
          "data": {
            "text/plain": [
              "[3, 20]"
            ]
          },
          "metadata": {},
          "execution_count": 206
        }
      ]
    },
    {
      "cell_type": "code",
      "source": [
        "y = x.copy()"
      ],
      "metadata": {
        "id": "CAh1IWhjktIM"
      },
      "execution_count": null,
      "outputs": []
    },
    {
      "cell_type": "code",
      "source": [
        "x"
      ],
      "metadata": {
        "colab": {
          "base_uri": "https://localhost:8080/"
        },
        "id": "GtdIsXS9kvUZ",
        "outputId": "a10df95c-c7e1-4732-f379-f092db206195"
      },
      "execution_count": null,
      "outputs": [
        {
          "output_type": "execute_result",
          "data": {
            "text/plain": [
              "[3, 20, 2]"
            ]
          },
          "metadata": {},
          "execution_count": 210
        }
      ]
    },
    {
      "cell_type": "code",
      "source": [
        "y"
      ],
      "metadata": {
        "colab": {
          "base_uri": "https://localhost:8080/"
        },
        "id": "f-lwfjJRkz9R",
        "outputId": "2cebcc67-a871-4ad6-8d1f-4ff0f053c176"
      },
      "execution_count": null,
      "outputs": [
        {
          "output_type": "execute_result",
          "data": {
            "text/plain": [
              "[3, 20]"
            ]
          },
          "metadata": {},
          "execution_count": 211
        }
      ]
    },
    {
      "cell_type": "markdown",
      "metadata": {
        "id": "Qd1LWCqqIZzN"
      },
      "source": [
        "Kita dapat melihat 'posisi' objek di dalam memori menggunakan fungsi ```id()```."
      ]
    },
    {
      "cell_type": "code",
      "metadata": {
        "id": "tYiUZC4-IZzO",
        "colab": {
          "base_uri": "https://localhost:8080/"
        },
        "outputId": "cc8f3a55-70b2-457e-edcc-be4374962018"
      },
      "source": [
        "id(x) # id of x"
      ],
      "execution_count": null,
      "outputs": [
        {
          "output_type": "execute_result",
          "data": {
            "text/plain": [
              "139900752192608"
            ]
          },
          "metadata": {},
          "execution_count": 212
        }
      ]
    },
    {
      "cell_type": "code",
      "metadata": {
        "id": "_DmZbNNEIZzO"
      },
      "source": [
        "id(y) # id of y"
      ],
      "execution_count": null,
      "outputs": []
    },
    {
      "cell_type": "markdown",
      "metadata": {
        "id": "b4Et9W7dIZzO"
      },
      "source": [
        "## Try with String!"
      ]
    },
    {
      "cell_type": "code",
      "metadata": {
        "id": "s6JWMIvaIZzO"
      },
      "source": [
        "a = 'Batman'\n",
        "b = a"
      ],
      "execution_count": null,
      "outputs": []
    },
    {
      "cell_type": "code",
      "metadata": {
        "id": "l4ZAC7ruIZzO",
        "colab": {
          "base_uri": "https://localhost:8080/"
        },
        "outputId": "3cabae33-7042-4d52-f251-3ba3b4d816b4"
      },
      "source": [
        "print(\"id of a is: \", id(a))\n",
        "print(\"id of b is: \", id(b))"
      ],
      "execution_count": null,
      "outputs": [
        {
          "output_type": "stream",
          "name": "stdout",
          "text": [
            "id of a is:  139900752647728\n",
            "id of b is:  139900752647728\n"
          ]
        }
      ]
    },
    {
      "cell_type": "code",
      "metadata": {
        "id": "G4q6tNbuIZzO"
      },
      "source": [
        "a = \"I'm \" + a"
      ],
      "execution_count": null,
      "outputs": []
    },
    {
      "cell_type": "code",
      "metadata": {
        "id": "RVpUvY1BIZzP"
      },
      "source": [
        "a"
      ],
      "execution_count": null,
      "outputs": []
    },
    {
      "cell_type": "code",
      "metadata": {
        "scrolled": true,
        "id": "fZwL2111IZzP"
      },
      "source": [
        "b"
      ],
      "execution_count": null,
      "outputs": []
    },
    {
      "cell_type": "markdown",
      "metadata": {
        "id": "QNqKYLHuIZzP"
      },
      "source": [
        "Conclusion:"
      ]
    },
    {
      "cell_type": "markdown",
      "metadata": {
        "id": "aNji7mvJIZzP"
      },
      "source": [
        "## Beberapa Method dalam List"
      ]
    },
    {
      "cell_type": "markdown",
      "metadata": {
        "id": "mVppT0_JIZzP"
      },
      "source": [
        "```extend``` berfungsi untuk memasukkan list baru ke dalam *list* yang sudah ada"
      ]
    },
    {
      "cell_type": "code",
      "metadata": {
        "id": "ffe4_10UIZzP",
        "colab": {
          "base_uri": "https://localhost:8080/"
        },
        "outputId": "f7b10889-0617-43bd-e640-249a4ef36d99"
      },
      "source": [
        "x = [2,10.05,9,7,3,11]\n",
        "print(x)"
      ],
      "execution_count": null,
      "outputs": [
        {
          "output_type": "stream",
          "name": "stdout",
          "text": [
            "[2, 10.05, 9, 7, 3, 11]\n"
          ]
        }
      ]
    },
    {
      "cell_type": "code",
      "metadata": {
        "id": "BPwDPD3MIZzQ",
        "colab": {
          "base_uri": "https://localhost:8080/"
        },
        "outputId": "f91f41b6-4bc0-46fe-a898-4e3ddc2050b6"
      },
      "source": [
        "x.extend([4]) # Extending list\n",
        "x"
      ],
      "execution_count": null,
      "outputs": [
        {
          "output_type": "execute_result",
          "data": {
            "text/plain": [
              "[2, 10.05, 9, 7, 3, 11, 4, 4, 4]"
            ]
          },
          "metadata": {},
          "execution_count": 219
        }
      ]
    },
    {
      "cell_type": "markdown",
      "metadata": {
        "id": "aAEk5kFDIZzQ"
      },
      "source": [
        "```count``` berfungsi untuk menghitung objek tertentu di dalam *list*"
      ]
    },
    {
      "cell_type": "code",
      "metadata": {
        "id": "1BZOUA17IZzQ",
        "colab": {
          "base_uri": "https://localhost:8080/"
        },
        "outputId": "19ea01ad-2d9e-4c96-9b9e-0c9c11d2e3eb"
      },
      "source": [
        "x.count(4) # Counting (menghitung)"
      ],
      "execution_count": null,
      "outputs": [
        {
          "output_type": "execute_result",
          "data": {
            "text/plain": [
              "3"
            ]
          },
          "metadata": {},
          "execution_count": 220
        }
      ]
    },
    {
      "cell_type": "markdown",
      "metadata": {
        "id": "-CO8w146IZzQ"
      },
      "source": [
        "```append``` berfungsi untuk memasukkan nilai ke bagian akhir dari *list*"
      ]
    },
    {
      "cell_type": "code",
      "metadata": {
        "id": "k_gwzWk3IZzQ",
        "colab": {
          "base_uri": "https://localhost:8080/"
        },
        "outputId": "ad9cfc2b-5aa6-413c-e039-725ea66a0d13"
      },
      "source": [
        "x.append([5,10,11,100])\n",
        "print(x)"
      ],
      "execution_count": null,
      "outputs": [
        {
          "output_type": "stream",
          "name": "stdout",
          "text": [
            "[2, 10.05, 9, 7, 3, 11, 4, 4, 4, [5, 10, 11, 100]]\n"
          ]
        }
      ]
    },
    {
      "cell_type": "markdown",
      "metadata": {
        "id": "eUh4oL39IZzQ"
      },
      "source": [
        "```index``` berfungsi untuk mencari indeks dari suatu nilai di dalam *list*"
      ]
    },
    {
      "cell_type": "code",
      "metadata": {
        "id": "n6gtdk9HIZzQ",
        "colab": {
          "base_uri": "https://localhost:8080/"
        },
        "outputId": "d886f876-abb4-4276-fdeb-51c7f83bce84"
      },
      "source": [
        "x.index(3)"
      ],
      "execution_count": null,
      "outputs": [
        {
          "output_type": "execute_result",
          "data": {
            "text/plain": [
              "4"
            ]
          },
          "metadata": {},
          "execution_count": 222
        }
      ]
    },
    {
      "cell_type": "markdown",
      "metadata": {
        "id": "2zLx8KYoIZzR"
      },
      "source": [
        "```insert``` berfungsi untuk memasukkan nilai ke dalam *list* berdasarkan indeks yang ingin dimasukkan nilai"
      ]
    },
    {
      "cell_type": "code",
      "metadata": {
        "id": "VK8nrEM3IZzR",
        "colab": {
          "base_uri": "https://localhost:8080/"
        },
        "outputId": "98bde68a-8711-4133-f5d4-64b1aabccb53"
      },
      "source": [
        "x.insert(4,100)\n",
        "x"
      ],
      "execution_count": null,
      "outputs": [
        {
          "output_type": "execute_result",
          "data": {
            "text/plain": [
              "[2, 10.05, 9, 7, 100, 3, 11, 4, 4, 4, [5, 10, 11, 100]]"
            ]
          },
          "metadata": {},
          "execution_count": 223
        }
      ]
    },
    {
      "cell_type": "markdown",
      "metadata": {
        "id": "hqBRpRfJIZzR"
      },
      "source": [
        "```pop``` berfungsi untuk menghapus nilai yang ada di *list*"
      ]
    },
    {
      "cell_type": "code",
      "metadata": {
        "id": "2R7WkG_PIZzR",
        "colab": {
          "base_uri": "https://localhost:8080/"
        },
        "outputId": "ca7a38fe-aae0-421e-ccf0-149274952ea6"
      },
      "source": [
        "x.pop() # tanpa indeks\n",
        "print(x)"
      ],
      "execution_count": null,
      "outputs": [
        {
          "output_type": "stream",
          "name": "stdout",
          "text": [
            "[2, 10.05, 9, 7, 100, 3, 11, 4, 4, 4]\n"
          ]
        }
      ]
    },
    {
      "cell_type": "code",
      "metadata": {
        "id": "oWbTbLFrIZzR",
        "colab": {
          "base_uri": "https://localhost:8080/"
        },
        "outputId": "cb916e3c-9fb9-4302-8bc0-7b5d656e4e6b"
      },
      "source": [
        "x.pop(3) # dengan indeks\n",
        "print(x)"
      ],
      "execution_count": null,
      "outputs": [
        {
          "output_type": "stream",
          "name": "stdout",
          "text": [
            "[2, 10.05, 9, 100, 3, 11, 4, 4, 4]\n"
          ]
        }
      ]
    },
    {
      "cell_type": "markdown",
      "metadata": {
        "id": "q_YC4On1IZzR"
      },
      "source": [
        "```remove``` berfungsi untuk data berdasarkan nilai"
      ]
    },
    {
      "cell_type": "code",
      "metadata": {
        "id": "1VO9i8VFIZzS",
        "colab": {
          "base_uri": "https://localhost:8080/",
          "height": 183
        },
        "outputId": "e8108188-89bd-4496-bb85-8fa52121e3a3"
      },
      "source": [
        "x.remove(2)\n",
        "print(x)"
      ],
      "execution_count": null,
      "outputs": [
        {
          "output_type": "error",
          "ename": "ValueError",
          "evalue": "ignored",
          "traceback": [
            "\u001b[0;31m---------------------------------------------------------------------------\u001b[0m",
            "\u001b[0;31mValueError\u001b[0m                                Traceback (most recent call last)",
            "\u001b[0;32m<ipython-input-229-f9fdb71a13a0>\u001b[0m in \u001b[0;36m<module>\u001b[0;34m()\u001b[0m\n\u001b[0;32m----> 1\u001b[0;31m \u001b[0mx\u001b[0m\u001b[0;34m.\u001b[0m\u001b[0mremove\u001b[0m\u001b[0;34m(\u001b[0m\u001b[0;36m4\u001b[0m\u001b[0;34m)\u001b[0m\u001b[0;34m\u001b[0m\u001b[0;34m\u001b[0m\u001b[0m\n\u001b[0m\u001b[1;32m      2\u001b[0m \u001b[0mprint\u001b[0m\u001b[0;34m(\u001b[0m\u001b[0mx\u001b[0m\u001b[0;34m)\u001b[0m\u001b[0;34m\u001b[0m\u001b[0;34m\u001b[0m\u001b[0m\n",
            "\u001b[0;31mValueError\u001b[0m: list.remove(x): x not in list"
          ]
        }
      ]
    },
    {
      "cell_type": "markdown",
      "metadata": {
        "id": "YwteENiiIZzS"
      },
      "source": [
        "```sort``` berfungsi untuk mengurutkan data di dalam *list*"
      ]
    },
    {
      "cell_type": "code",
      "metadata": {
        "id": "Bu1mJCRpIZzS",
        "colab": {
          "base_uri": "https://localhost:8080/"
        },
        "outputId": "0c55cbb4-963e-458e-c98e-4573266c5bde"
      },
      "source": [
        "x.sort()\n",
        "print(x)"
      ],
      "execution_count": null,
      "outputs": [
        {
          "output_type": "stream",
          "name": "stdout",
          "text": [
            "[2, 3, 9, 10.05, 11, 100]\n"
          ]
        }
      ]
    },
    {
      "cell_type": "markdown",
      "metadata": {
        "id": "9fNDmu1EIZzS"
      },
      "source": [
        "```reverse``` berfungsi untuk membalikkan nilai di dalam *list*"
      ]
    },
    {
      "cell_type": "code",
      "metadata": {
        "id": "2hIUrcxlIZzS",
        "colab": {
          "base_uri": "https://localhost:8080/"
        },
        "outputId": "dbd1a228-728d-4f99-a508-34dfc6cb8515"
      },
      "source": [
        "x.reverse()\n",
        "print(x)"
      ],
      "execution_count": null,
      "outputs": [
        {
          "output_type": "stream",
          "name": "stdout",
          "text": [
            "[100, 11, 10.05, 9, 3, 2]\n"
          ]
        }
      ]
    },
    {
      "cell_type": "markdown",
      "metadata": {
        "id": "8-ZELioDIZzT"
      },
      "source": [
        "# Tuple\n",
        "- Bentuk *immutable* dari *list*\n",
        "- Lebih cepat dibanding *list*"
      ]
    },
    {
      "cell_type": "code",
      "metadata": {
        "id": "BCop_l7EIZzT",
        "colab": {
          "base_uri": "https://localhost:8080/"
        },
        "outputId": "f8ce8f7e-956d-47bf-d63d-0946e15e8e13"
      },
      "source": [
        "x = (1,2,3,4,3)\n",
        "x"
      ],
      "execution_count": null,
      "outputs": [
        {
          "output_type": "execute_result",
          "data": {
            "text/plain": [
              "(1, 2, 3, 4, 3)"
            ]
          },
          "metadata": {},
          "execution_count": 232
        }
      ]
    },
    {
      "cell_type": "code",
      "metadata": {
        "id": "0BtRXwIzIZzT",
        "colab": {
          "base_uri": "https://localhost:8080/"
        },
        "outputId": "79187523-3081-43d4-acf8-19fc212751e0"
      },
      "source": [
        "# cara lain membentuk tupple\n",
        "y = 1,2,3,4,5,6\n",
        "y"
      ],
      "execution_count": null,
      "outputs": [
        {
          "output_type": "execute_result",
          "data": {
            "text/plain": [
              "(1, 2, 3, 4, 5, 6)"
            ]
          },
          "metadata": {},
          "execution_count": 233
        }
      ]
    },
    {
      "cell_type": "code",
      "metadata": {
        "id": "LxFPTOGpIZzT",
        "colab": {
          "base_uri": "https://localhost:8080/",
          "height": 183
        },
        "outputId": "8bc9dd5b-2829-4bdd-c317-6a38036cfca6"
      },
      "source": [
        "# error\n",
        "x[2] = 10"
      ],
      "execution_count": null,
      "outputs": [
        {
          "output_type": "error",
          "ename": "TypeError",
          "evalue": "ignored",
          "traceback": [
            "\u001b[0;31m---------------------------------------------------------------------------\u001b[0m",
            "\u001b[0;31mTypeError\u001b[0m                                 Traceback (most recent call last)",
            "\u001b[0;32m<ipython-input-234-4c4dae198695>\u001b[0m in \u001b[0;36m<module>\u001b[0;34m()\u001b[0m\n\u001b[1;32m      1\u001b[0m \u001b[0;31m# error\u001b[0m\u001b[0;34m\u001b[0m\u001b[0;34m\u001b[0m\u001b[0;34m\u001b[0m\u001b[0m\n\u001b[0;32m----> 2\u001b[0;31m \u001b[0mx\u001b[0m\u001b[0;34m[\u001b[0m\u001b[0;36m2\u001b[0m\u001b[0;34m]\u001b[0m \u001b[0;34m=\u001b[0m \u001b[0;36m10\u001b[0m\u001b[0;34m\u001b[0m\u001b[0;34m\u001b[0m\u001b[0m\n\u001b[0m",
            "\u001b[0;31mTypeError\u001b[0m: 'tuple' object does not support item assignment"
          ]
        }
      ]
    },
    {
      "cell_type": "markdown",
      "metadata": {
        "id": "nJKQGAgYIZzT"
      },
      "source": [
        "## Beberapa Method dalam Tuple"
      ]
    },
    {
      "cell_type": "markdown",
      "metadata": {
        "id": "lpF1KaB0IZzU"
      },
      "source": [
        "```count``` berfungsi untuk menghitung objek di dalam *tuple*"
      ]
    },
    {
      "cell_type": "code",
      "metadata": {
        "scrolled": true,
        "id": "OrgTZnFeIZzU",
        "colab": {
          "base_uri": "https://localhost:8080/"
        },
        "outputId": "8afdb221-8298-45c9-c84b-0230545913bb"
      },
      "source": [
        "x.count(3) # Counting"
      ],
      "execution_count": null,
      "outputs": [
        {
          "output_type": "execute_result",
          "data": {
            "text/plain": [
              "2"
            ]
          },
          "metadata": {},
          "execution_count": 235
        }
      ]
    },
    {
      "cell_type": "code",
      "metadata": {
        "scrolled": true,
        "id": "E9dqDMztIZzU",
        "colab": {
          "base_uri": "https://localhost:8080/"
        },
        "outputId": "f3470505-2e19-4a73-eb2d-cd9335eb9396"
      },
      "source": [
        "x[2] # Indexing"
      ],
      "execution_count": null,
      "outputs": [
        {
          "output_type": "execute_result",
          "data": {
            "text/plain": [
              "3"
            ]
          },
          "metadata": {},
          "execution_count": 236
        }
      ]
    },
    {
      "cell_type": "code",
      "metadata": {
        "id": "1Ho8ryGMIZzU",
        "colab": {
          "base_uri": "https://localhost:8080/"
        },
        "outputId": "fb9ed4a5-7517-4ff5-dab9-c9386c3366f8"
      },
      "source": [
        "x"
      ],
      "execution_count": null,
      "outputs": [
        {
          "output_type": "execute_result",
          "data": {
            "text/plain": [
              "(1, 2, 3, 4, 3)"
            ]
          },
          "metadata": {},
          "execution_count": 237
        }
      ]
    },
    {
      "cell_type": "code",
      "metadata": {
        "id": "VeevkWGEIZzU",
        "colab": {
          "base_uri": "https://localhost:8080/"
        },
        "outputId": "733a66c7-de60-4d3f-b28c-de7abf2ad44d"
      },
      "source": [
        "a,b,c,d,e = x\n",
        "print(\"nilai dari a: \", a)\n",
        "print(\"nilai dari b: \", b)\n",
        "print(\"nilai dari c: \", c)\n",
        "print(\"nilai dari d: \", d)\n",
        "print(\"nilai dari e: \", e)"
      ],
      "execution_count": null,
      "outputs": [
        {
          "output_type": "stream",
          "name": "stdout",
          "text": [
            "nilai dari a:  1\n",
            "nilai dari b:  2\n",
            "nilai dari c:  3\n",
            "nilai dari d:  4\n",
            "nilai dari e:  3\n"
          ]
        }
      ]
    },
    {
      "cell_type": "code",
      "source": [
        "print(b)"
      ],
      "metadata": {
        "colab": {
          "base_uri": "https://localhost:8080/"
        },
        "id": "z2ZHWjzGmY-B",
        "outputId": "cff3447b-a7b6-4372-cfc2-bb2759004cb3"
      },
      "execution_count": null,
      "outputs": [
        {
          "output_type": "stream",
          "name": "stdout",
          "text": [
            "2\n"
          ]
        }
      ]
    },
    {
      "cell_type": "markdown",
      "metadata": {
        "id": "O6Z74vt9IZzU"
      },
      "source": [
        "# Dictionaries\n",
        "- Sehimpunan pasangan kunci-nilai (*key-value pairs*)\n",
        "- Bersifat *mutable*"
      ]
    },
    {
      "cell_type": "code",
      "metadata": {
        "id": "e3FLNijRIZzV",
        "colab": {
          "base_uri": "https://localhost:8080/"
        },
        "outputId": "3f86806f-5c68-4a2c-b614-520211034836"
      },
      "source": [
        "d = {1: \"tes\", \"dua\": 2, \"foo\": [1,2,3]}\n",
        "d"
      ],
      "execution_count": null,
      "outputs": [
        {
          "output_type": "execute_result",
          "data": {
            "text/plain": [
              "{1: 'tes', 'dua': 2, 'foo': [1, 2, 3]}"
            ]
          },
          "metadata": {},
          "execution_count": 241
        }
      ]
    },
    {
      "cell_type": "code",
      "metadata": {
        "id": "gzEYYhr-IZzV",
        "colab": {
          "base_uri": "https://localhost:8080/",
          "height": 35
        },
        "outputId": "5cb521ea-e788-4b99-a0f0-87eee3080457"
      },
      "source": [
        "d[1] # mengambil nilai pada kunci 1"
      ],
      "execution_count": null,
      "outputs": [
        {
          "output_type": "execute_result",
          "data": {
            "text/plain": [
              "'tes'"
            ],
            "application/vnd.google.colaboratory.intrinsic+json": {
              "type": "string"
            }
          },
          "metadata": {},
          "execution_count": 242
        }
      ]
    },
    {
      "cell_type": "code",
      "metadata": {
        "id": "iPFSZw0qIZzV",
        "colab": {
          "base_uri": "https://localhost:8080/"
        },
        "outputId": "ceb67750-c045-4ebc-f65c-06ffbf84f9a2"
      },
      "source": [
        "d['dua'] # mengambil nilai pada kunci 'dua'"
      ],
      "execution_count": null,
      "outputs": [
        {
          "output_type": "execute_result",
          "data": {
            "text/plain": [
              "2"
            ]
          },
          "metadata": {},
          "execution_count": 243
        }
      ]
    },
    {
      "cell_type": "code",
      "metadata": {
        "id": "ulMfN74UIZzV",
        "colab": {
          "base_uri": "https://localhost:8080/",
          "height": 166
        },
        "outputId": "3e894b17-4d03-405a-d828-151602c7e7c5"
      },
      "source": [
        "d[2] # Error"
      ],
      "execution_count": null,
      "outputs": [
        {
          "output_type": "error",
          "ename": "KeyError",
          "evalue": "ignored",
          "traceback": [
            "\u001b[0;31m---------------------------------------------------------------------------\u001b[0m",
            "\u001b[0;31mKeyError\u001b[0m                                  Traceback (most recent call last)",
            "\u001b[0;32m<ipython-input-244-61f46ac7a1d6>\u001b[0m in \u001b[0;36m<module>\u001b[0;34m()\u001b[0m\n\u001b[0;32m----> 1\u001b[0;31m \u001b[0md\u001b[0m\u001b[0;34m[\u001b[0m\u001b[0;36m2\u001b[0m\u001b[0;34m]\u001b[0m \u001b[0;31m# Error\u001b[0m\u001b[0;34m\u001b[0m\u001b[0;34m\u001b[0m\u001b[0m\n\u001b[0m",
            "\u001b[0;31mKeyError\u001b[0m: 2"
          ]
        }
      ]
    },
    {
      "cell_type": "code",
      "metadata": {
        "id": "eJkqGL9eIZzV",
        "colab": {
          "base_uri": "https://localhost:8080/"
        },
        "outputId": "9c79c73d-d08d-4c12-a0c9-48101db47798"
      },
      "source": [
        "d.get('foo') # Cara lain memperoleh nilai menggunakan kunci"
      ],
      "execution_count": null,
      "outputs": [
        {
          "output_type": "execute_result",
          "data": {
            "text/plain": [
              "[1, 2, 3]"
            ]
          },
          "metadata": {},
          "execution_count": 245
        }
      ]
    },
    {
      "cell_type": "code",
      "metadata": {
        "id": "njeJ5vTfIZzV"
      },
      "source": [
        "y = {1:2,1:'one'} # Kunci tidak boleh lebih dari 1 atau ada yang sama\n",
        "y"
      ],
      "execution_count": null,
      "outputs": []
    },
    {
      "cell_type": "code",
      "metadata": {
        "id": "paKuSCYUIZzV",
        "colab": {
          "base_uri": "https://localhost:8080/"
        },
        "outputId": "9ff01cbe-361b-484b-d62f-7d4afad6d3a4"
      },
      "source": [
        "d[1] = 99 # mengubah nilai berdasarkan key 1 dengan nilai 99\n",
        "d"
      ],
      "execution_count": null,
      "outputs": [
        {
          "output_type": "execute_result",
          "data": {
            "text/plain": [
              "{1: 99, 'dua': 2, 'foo': [1, 2, 3]}"
            ]
          },
          "metadata": {},
          "execution_count": 246
        }
      ]
    },
    {
      "cell_type": "code",
      "metadata": {
        "id": "6_nqZha5IZzW",
        "colab": {
          "base_uri": "https://localhost:8080/"
        },
        "outputId": "6d32faca-c80c-47c7-e859-77c20de3e82f"
      },
      "source": [
        "del(d[1]) # menghapus key 1\n",
        "d"
      ],
      "execution_count": null,
      "outputs": [
        {
          "output_type": "execute_result",
          "data": {
            "text/plain": [
              "{'dua': 2, 'foo': [1, 2, 3]}"
            ]
          },
          "metadata": {},
          "execution_count": 247
        }
      ]
    },
    {
      "cell_type": "code",
      "metadata": {
        "id": "OqxZQ77KIZzW",
        "colab": {
          "base_uri": "https://localhost:8080/"
        },
        "outputId": "0949e060-882d-4f11-e7e5-5d4bd608777b"
      },
      "source": [
        "d.pop('dua')"
      ],
      "execution_count": null,
      "outputs": [
        {
          "output_type": "execute_result",
          "data": {
            "text/plain": [
              "2"
            ]
          },
          "metadata": {},
          "execution_count": 248
        }
      ]
    },
    {
      "cell_type": "code",
      "metadata": {
        "id": "OlgfaQg1IZzW",
        "colab": {
          "base_uri": "https://localhost:8080/"
        },
        "outputId": "15bf9ad4-61f9-4def-f01a-871554cbabde"
      },
      "source": [
        "d"
      ],
      "execution_count": null,
      "outputs": [
        {
          "output_type": "execute_result",
          "data": {
            "text/plain": [
              "{'foo': [1, 2, 3]}"
            ]
          },
          "metadata": {},
          "execution_count": 249
        }
      ]
    },
    {
      "cell_type": "markdown",
      "metadata": {
        "id": "whs8kMKBIZzW"
      },
      "source": [
        "# Conditional Statement (If - Then)\n",
        "Sintaks\n",
        "```python\n",
        "if kondisi:\n",
        "\t\tstatement\n",
        "```"
      ]
    },
    {
      "cell_type": "code",
      "metadata": {
        "id": "eqO5zdMyIZzW"
      },
      "source": [
        "number = 9\n",
        "if number >=10:\n",
        "    print(\"true\")"
      ],
      "execution_count": null,
      "outputs": []
    },
    {
      "cell_type": "code",
      "metadata": {
        "id": "_RrmTdpMIZzW"
      },
      "source": [
        "# Hati-hati dengan whitespace!\n",
        "if number >=0:\n",
        "    print(\"false\")"
      ],
      "execution_count": null,
      "outputs": []
    },
    {
      "cell_type": "markdown",
      "metadata": {
        "id": "ktzQVqqIIZzX"
      },
      "source": [
        "# Conditional Statement (If - Else)\n",
        "Sintaks\n",
        "```python\n",
        "if kondisi:\n",
        "    statement1\n",
        "else: \n",
        "    statement2\n",
        "```"
      ]
    },
    {
      "cell_type": "code",
      "metadata": {
        "id": "z9YYYkANIZzX"
      },
      "source": [
        "number = -5\n",
        "if number >=0:\n",
        "    print(\"true\")\n",
        "else:\n",
        "    print(\"false\")"
      ],
      "execution_count": null,
      "outputs": []
    },
    {
      "cell_type": "markdown",
      "metadata": {
        "id": "iYeBIsXSIZzX"
      },
      "source": [
        "# Conditional Statement (If – Else If - else)\n",
        "Sintaks\n",
        "```python\n",
        "if kondisi_1:\n",
        "\t\tstatement1\n",
        "elif kondisi_2: \n",
        "\t\tstatement2\n",
        "else: \n",
        "\t\tstatement3\n",
        "```"
      ]
    },
    {
      "cell_type": "code",
      "metadata": {
        "id": "UlQeItfhIZza"
      },
      "source": [
        "number = 0\n",
        "if number >0:\n",
        "    print(\"Great than zero\")\n",
        "elif number<0:\n",
        "    print(\"Less than zero\")\n",
        "else:\n",
        "    print(\"Equal zero\")"
      ],
      "execution_count": null,
      "outputs": []
    },
    {
      "cell_type": "markdown",
      "metadata": {
        "id": "qtWPGydxIZza"
      },
      "source": [
        "# Looping\n",
        "Ada dua jenis *loop* di Python:\n",
        "- For-Loop\n",
        "- While-Loop"
      ]
    },
    {
      "cell_type": "markdown",
      "metadata": {
        "id": "AwrEeuKnIZza"
      },
      "source": [
        "## For-Loop\n",
        "Sintaks\n",
        "```python\n",
        "for i in iterable:\n",
        "\tstatement\n",
        "    \n",
        "```"
      ]
    },
    {
      "cell_type": "code",
      "metadata": {
        "id": "f8SySsHdIZza"
      },
      "source": [
        "for i in [0,1,2,3,4]: # Loop menggunakan list\n",
        "     print(i)"
      ],
      "execution_count": null,
      "outputs": []
    },
    {
      "cell_type": "code",
      "metadata": {
        "id": "dOfyDSwcIZza"
      },
      "source": [
        "for i in range(5): # Loop menggunakan range\n",
        "    print(i)"
      ],
      "execution_count": null,
      "outputs": []
    },
    {
      "cell_type": "markdown",
      "metadata": {
        "id": "oHWbGNWtIZzb"
      },
      "source": [
        "***\n",
        "## Trivia - Bagaimana range() bekerja?\n",
        "Salah satu cara membuat objek *list* adalah menggunakan ```range()```."
      ]
    },
    {
      "cell_type": "code",
      "metadata": {
        "id": "2bPG6XM4IZzb"
      },
      "source": [
        "list(range(5)) # Berhenti di 5-1"
      ],
      "execution_count": null,
      "outputs": []
    },
    {
      "cell_type": "code",
      "metadata": {
        "id": "sLzjD5awIZzb"
      },
      "source": [
        "list(range(2,5)) # Mulai dari 2 dan berhenti di 5-1"
      ],
      "execution_count": null,
      "outputs": []
    },
    {
      "cell_type": "code",
      "metadata": {
        "id": "TJwD9ietIZzb"
      },
      "source": [
        "list(range(2,10,2)) # Mulai dari 2 dan berhenti di 10-1 dengan selisih 2"
      ],
      "execution_count": null,
      "outputs": []
    },
    {
      "cell_type": "markdown",
      "metadata": {
        "id": "XAC5IcU8IZzb"
      },
      "source": [
        "---"
      ]
    },
    {
      "cell_type": "code",
      "metadata": {
        "id": "pi46kqHiIZzb"
      },
      "source": [
        "for i in ['A','B','C']: # Loop menggunakan list dari string\n",
        "    print(i)"
      ],
      "execution_count": null,
      "outputs": []
    },
    {
      "cell_type": "code",
      "metadata": {
        "id": "K5A49c6TIZzc"
      },
      "source": [
        "for i in 'Math': # Loop menggunakan string\n",
        "    print(i)"
      ],
      "execution_count": null,
      "outputs": []
    },
    {
      "cell_type": "markdown",
      "metadata": {
        "id": "8Eh4RFC4IZzc"
      },
      "source": [
        "## While-Loop\n",
        "Sintaks\n",
        "```python\n",
        "while condition:\n",
        "     \t statement\n",
        "```"
      ]
    },
    {
      "cell_type": "code",
      "metadata": {
        "id": "LQvvjvYaIZzc"
      },
      "source": [
        "a = 0\n",
        "# jalankan selama a nilainya kurang dari 6\n",
        "while a<6:\n",
        "    print(a)\n",
        "    a = a + 1"
      ],
      "execution_count": null,
      "outputs": []
    },
    {
      "cell_type": "markdown",
      "metadata": {
        "id": "rmZrssWOIZzc"
      },
      "source": [
        "# Loop Control Flow\n",
        "KIta dapat mengatur loop dengan menggunakan *statement* berikut:\n",
        "- Break: Menghentikan iterasi jika kondisi terpenuhi.\n",
        "- Pass: Menyisipkan statement jika kondisi terpenuhi.\n",
        "- Continue: Melompati iterasi jika kondisi terpenuhi."
      ]
    },
    {
      "cell_type": "code",
      "metadata": {
        "id": "1rHQRo2vIZzd"
      },
      "source": [
        "iter = [1,2,3,4] # menggunakan break\n",
        "for i in iter:\n",
        "    print(i)\n",
        "    if i == 3:\n",
        "        print('stop')\n",
        "        break"
      ],
      "execution_count": null,
      "outputs": []
    },
    {
      "cell_type": "code",
      "metadata": {
        "id": "U6et643mIZzd"
      },
      "source": [
        "for i in iter: # Menggunakan pass\n",
        "    print(i)\n",
        "    if i == 3:\n",
        "        print(\"passing\")\n",
        "        pass"
      ],
      "execution_count": null,
      "outputs": []
    },
    {
      "cell_type": "code",
      "metadata": {
        "id": "mxzhSEr5IZzd"
      },
      "source": [
        "for letter in \"Python\": # menggunakan continue\n",
        "    if letter == \"h\":\n",
        "        print(\"Continue\")\n",
        "        continue\n",
        "    print(letter)"
      ],
      "execution_count": null,
      "outputs": []
    },
    {
      "cell_type": "markdown",
      "metadata": {
        "id": "FByZlZ7mIZzd"
      },
      "source": [
        "# Function (Basic)\n",
        "\n",
        "- Sebarisan instruksi untuk menjalankan suatu tugas.\n",
        "- *Building block of code*."
      ]
    },
    {
      "cell_type": "code",
      "metadata": {
        "id": "IlCBx1XsIZzd"
      },
      "source": [
        "def penjumlahan(a,b): # mendefinisikan sebuah fungsi 'penjumlahan' dengan return\n",
        "    return a+b"
      ],
      "execution_count": null,
      "outputs": []
    },
    {
      "cell_type": "code",
      "metadata": {
        "id": "QvmXQTj1IZzd"
      },
      "source": [
        "penjumlahan(a = 1,b = 2)"
      ],
      "execution_count": null,
      "outputs": []
    },
    {
      "cell_type": "code",
      "metadata": {
        "id": "OcRo_LQNIZze"
      },
      "source": [
        "result = penjumlahan(4,5) # memasukkan nilai ke dalam variabel\n",
        "result"
      ],
      "execution_count": null,
      "outputs": []
    },
    {
      "cell_type": "code",
      "metadata": {
        "id": "JlWTTLG-IZze"
      },
      "source": [
        "def pengurangan(a,b=1): # Mendefinisikan fungsi dengan nilai awal b = 1\n",
        "    return a-b\n",
        "\n",
        "pengurangan(10,20)"
      ],
      "execution_count": null,
      "outputs": []
    },
    {
      "cell_type": "code",
      "metadata": {
        "id": "D3ZmIKoeIZze"
      },
      "source": [
        "def pangkat(a,b): # Mendefinisikan fungsi tanpa return\n",
        "    a**b\n",
        "    \n",
        "pangkat(2,3)"
      ],
      "execution_count": null,
      "outputs": []
    },
    {
      "cell_type": "code",
      "metadata": {
        "id": "YavJwwffIZze"
      },
      "source": [
        "a = pangkat(2,3)\n",
        "print(a)"
      ],
      "execution_count": null,
      "outputs": []
    },
    {
      "cell_type": "markdown",
      "metadata": {
        "id": "v1r5vXFIIZze"
      },
      "source": [
        "# Built-In Function\n",
        "Python memiliki fungsi bawaan:\n",
        "\n",
        "![Python Built-In Function](images/python-built-in-function.png)\n",
        "\n",
        "Klik [link](https://docs.python.org/3/library/functions.html) berikut untuk mempelajari lebih jauh contoh atau informasi lainnya."
      ]
    },
    {
      "cell_type": "code",
      "metadata": {
        "id": "LNsLoObhIZze"
      },
      "source": [
        "abs(-1) # Nilai absolut"
      ],
      "execution_count": null,
      "outputs": []
    },
    {
      "cell_type": "code",
      "metadata": {
        "id": "dX20oy2SIZzf"
      },
      "source": [
        "max([1,2,10,9,100]) # cari nilai maksimum"
      ],
      "execution_count": null,
      "outputs": []
    },
    {
      "cell_type": "code",
      "metadata": {
        "id": "HLOgXSmNIZzf"
      },
      "source": [
        "min([1,-10,2,-20]) # Cari nilai value"
      ],
      "execution_count": null,
      "outputs": []
    },
    {
      "cell_type": "code",
      "metadata": {
        "id": "KtmX_UNBIZzf"
      },
      "source": [
        "eval('1 + 2')  # Evaluasi kode dalam kode <- codeception :v"
      ],
      "execution_count": null,
      "outputs": []
    },
    {
      "cell_type": "code",
      "metadata": {
        "id": "PC4RjbjgIZzf"
      },
      "source": [
        "bool(1) # type casting"
      ],
      "execution_count": null,
      "outputs": []
    },
    {
      "cell_type": "code",
      "metadata": {
        "id": "Yhh2ONtOIZzf"
      },
      "source": [
        "list(zip([1,2,3],[4,5,6])) "
      ],
      "execution_count": null,
      "outputs": []
    }
  ]
}