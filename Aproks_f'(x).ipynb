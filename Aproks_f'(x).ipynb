{
  "nbformat": 4,
  "nbformat_minor": 0,
  "metadata": {
    "colab": {
      "provenance": []
    },
    "kernelspec": {
      "name": "python3",
      "display_name": "Python 3"
    },
    "language_info": {
      "name": "python"
    }
  },
  "cells": [
    {
      "cell_type": "code",
      "metadata": {
        "id": "EawlZBTDgIqh",
        "colab": {
          "base_uri": "https://localhost:8080/"
        },
        "outputId": "68eea2f7-2294-4c88-ae98-d16809698c87"
      },
      "source": [
        "import numpy\n",
        "from numpy import sin\n",
        "\n",
        "formula = input('Masukkan fungsi yang mau lo turunin :')\n",
        "\n",
        "def f(x):\n",
        "  return eval(formula)\n",
        "\n",
        "x0 = eval(input('Masukkan yang mau lo aproksimasi turunannya : '))\n",
        "h = eval(input('Masukkan stepsize : '))\n",
        "\n",
        "def TPEF(x,h):\n",
        "  return (1/(2*h))*(-3*f(x)+4*f(x+h)-f(x+2*h))\n",
        "\n",
        "def TPMF(x,h):\n",
        "  return (1/(2*h))*(f(x+h)-f(x-h))\n",
        "\n",
        "def FPEF(x,h):\n",
        "  return (1/(12*h))*(-25*f(x)+48*(f(x+h))-36*(f(x+2*h))+16*(f(x+3*h))-3*(f(x+4*h)))\n",
        "\n",
        "def FPMF(x,h):\n",
        "  return (1/(12*h))*(f(x-2*h)-8*(f(x-h))+8*(f(x+h))-f(x+2*h))\n",
        "\n",
        "print(TPEF(x0,h))\n",
        "print(TPMF(x0,h))\n",
        "print(FPEF(x0,h))\n",
        "print(FPMF(x0,h))\n"
      ],
      "execution_count": null,
      "outputs": [
        {
          "output_type": "stream",
          "text": [
            "Masukkan fungsi yang mau lo turunin :exp(x)\n",
            "Masukkan yang mau lo aproksimasi turunannya : 2\n",
            "Masukkan stepsize : 10\n",
            "-179213092.45665422\n",
            "8137.739554177065\n",
            "-4.347134621873026e+16\n",
            "-29863423.398357697\n"
          ],
          "name": "stdout"
        }
      ]
    },
    {
      "cell_type": "code",
      "metadata": {
        "id": "B1C3Vm4Vmoqp"
      },
      "source": [],
      "execution_count": null,
      "outputs": []
    }
  ]
}