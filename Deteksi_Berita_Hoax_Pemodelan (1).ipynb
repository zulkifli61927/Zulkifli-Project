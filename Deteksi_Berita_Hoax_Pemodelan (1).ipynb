{
  "cells": [
    {
      "cell_type": "markdown",
      "metadata": {
        "id": "7UkQEFEjaLWg"
      },
      "source": [
        "# Deteksi Berita Hoax"
      ]
    },
    {
      "cell_type": "markdown",
      "metadata": {
        "id": "giSlyLOEaLXE"
      },
      "source": [
        "### Import Library yang dibutuhkan"
      ]
    },
    {
      "cell_type": "code",
      "execution_count": null,
      "metadata": {
        "id": "8SKTD_0SaLXI"
      },
      "outputs": [],
      "source": [
        "#Import module yang diperlukan\n",
        "import pandas as pd\n",
        "import matplotlib.pyplot as plt\n",
        "from sklearn.model_selection import train_test_split\n",
        "from sklearn.metrics import accuracy_score\n",
        "from sklearn.metrics import classification_report\n",
        "import numpy as np\n",
        "import re\n",
        "import string\n",
        "from sklearn import preprocessing\n",
        "from google.colab import drive\n",
        "from matplotlib import style\n",
        "from sklearn.feature_extraction.text import TfidfVectorizer\n",
        "from imblearn.combine import SMOTETomek\n",
        "from sklearn.ensemble import RandomForestClassifier"
      ]
    },
    {
      "cell_type": "markdown",
      "metadata": {
        "id": "j77EOILiaLXP"
      },
      "source": [
        "### Masukan Data Hoax dan Fakta"
      ]
    },
    {
      "cell_type": "code",
      "execution_count": null,
      "metadata": {
        "id": "_nQsn5CEaLXS"
      },
      "outputs": [],
      "source": [
        "#baca drive kita\n",
        "drive.mount('/content/drive')"
      ]
    },
    {
      "cell_type": "code",
      "execution_count": null,
      "metadata": {
        "id": "-2aQaAWbahd_"
      },
      "outputs": [],
      "source": [
        "#Upload file dari google drive\n",
        "df = pd.read_excel(\"/content/drive/MyDrive/Data Berita Hoax/berita.xlsx\")"
      ]
    },
    {
      "cell_type": "code",
      "execution_count": null,
      "metadata": {
        "id": "y3Qh8Dj2aLXV"
      },
      "outputs": [],
      "source": [
        "#Cek head data hoax\n",
        "df.head(10)"
      ]
    },
    {
      "cell_type": "code",
      "source": [
        "#Case Folding\n",
        "def wordopt(text):\n",
        "    text = text.lower()\n",
        "    text = re.sub('\\[.*?\\]', '', text)\n",
        "    text = re.sub(r\"\\d+\", \"\", text)\n",
        "    text = re.sub(\"\\\\W\",\" \",text) \n",
        "    text = re.sub('https?://\\S+|www\\.\\S+', '', text)\n",
        "    text = re.sub('<.*?>+', '', text)\n",
        "    text = re.sub('[%s]' % re.escape(string.punctuation), '', text)\n",
        "    text = re.sub('\\n', '', text)\n",
        "    text = re.sub('\\w*\\d\\w*', '', text)\n",
        "    return text\n",
        "\n",
        "df[\"berita\"] = df[\"berita\"].apply(wordopt)\n",
        "df.head(10)"
      ],
      "metadata": {
        "id": "gGF-ecqBjqzw"
      },
      "execution_count": null,
      "outputs": []
    },
    {
      "cell_type": "code",
      "execution_count": null,
      "metadata": {
        "id": "jIEa66OKLd4Z"
      },
      "outputs": [],
      "source": [
        "pip install Sastrawi"
      ]
    },
    {
      "cell_type": "code",
      "execution_count": null,
      "metadata": {
        "id": "HU9RSDyvR5dX"
      },
      "outputs": [],
      "source": [
        "#Cari stopword bahasa indonesia menggunakan modul sastrawi\n",
        "from Sastrawi.StopWordRemover.StopWordRemoverFactory import StopWordRemoverFactory\n",
        "factory = StopWordRemoverFactory()\n",
        "stopwords = factory.get_stop_words()\n",
        "print(stopwords)"
      ]
    },
    {
      "cell_type": "code",
      "source": [
        "#Tokenizing\n",
        "def tokenizing(text):\n",
        "  text = text.split()\n",
        "  return text\n",
        "\n",
        "df[\"berita\"] = df[\"berita\"].apply(tokenizing)\n",
        "df.head(10)"
      ],
      "metadata": {
        "id": "YXrsWb1Zy9IM"
      },
      "execution_count": null,
      "outputs": []
    },
    {
      "cell_type": "code",
      "execution_count": null,
      "metadata": {
        "id": "RcZb5ZadSSg8"
      },
      "outputs": [],
      "source": [
        "#Filtering\n",
        "from Sastrawi.StopWordRemover.StopWordRemoverFactory import StopWordRemoverFactory\n",
        "\n",
        "factory = StopWordRemoverFactory()\n",
        "stopword = factory.create_stop_word_remover()\n",
        "\n",
        "def wordopt(text):\n",
        "    text = re.sub('tersebut*', '', text)\n",
        "    text = re.sub('tidak', '', text)\n",
        "    return text\n",
        "\n",
        "df[\"berita\"] = df[\"berita\"].apply(wordopt)\n",
        "df[\"berita\"] = df[\"berita\"].apply(stopword.remove)\n",
        "df.head(10)"
      ]
    },
    {
      "cell_type": "code",
      "execution_count": null,
      "metadata": {
        "id": "1GUAPwrZPxAa"
      },
      "outputs": [],
      "source": [
        "#hapus duplikat berita jika ada\n",
        "bool_series = df.duplicated(subset='berita')\n",
        "\n",
        "print('Boolean series:')\n",
        "print(bool_series)\n",
        "print('\\n')\n",
        "print('DataFrame after removing duplicates found in the Name column:')\n",
        "df[~bool_series]"
      ]
    },
    {
      "cell_type": "code",
      "execution_count": null,
      "metadata": {
        "id": "SC6uIyynMtLZ"
      },
      "outputs": [],
      "source": [
        "#ubah label menjadi numerik, Fakta = 0 dan hoaks = 1\n",
        "df['tagging'].replace(['Valid', 'Hoax'],[0, 1], inplace=True)\n",
        "df.head(10)"
      ]
    },
    {
      "cell_type": "code",
      "execution_count": null,
      "metadata": {
        "id": "ThuYRjWn1jZ9"
      },
      "outputs": [],
      "source": [
        "#Cek jumlah berita hoaks\n",
        "df_hoax = df[df[\"tagging\"] == 1]\n",
        "df_hoax"
      ]
    },
    {
      "cell_type": "code",
      "execution_count": null,
      "metadata": {
        "id": "QNfwXByWDk7d"
      },
      "outputs": [],
      "source": [
        "#Word cloud kata berita\n",
        "from wordcloud import WordCloud\n",
        "all_word = ' '.join(df[\"berita\"])\n",
        "wordcloud = WordCloud(width = 800, height = 500, max_font_size = 110, collocations = False).generate(all_word)\n",
        "plt.figure(figsize=(10,7))\n",
        "plt.imshow(wordcloud, interpolation = 'bilinear')\n",
        "plt.axis(\"off\")\n",
        "plt.title(\"Berita\")\n",
        "plt.show()"
      ]
    },
    {
      "cell_type": "code",
      "execution_count": null,
      "metadata": {
        "id": "gbHNrkgKaLYW"
      },
      "outputs": [],
      "source": [
        "#Definisikan x dan y\n",
        "x = df[\"berita\"]\n",
        "y = df[\"tagging\"]"
      ]
    },
    {
      "cell_type": "code",
      "execution_count": null,
      "metadata": {
        "id": "BEtKJygDksMr"
      },
      "outputs": [],
      "source": [
        "#TF-IDF\n",
        "vectorization = TfidfVectorizer()\n",
        "xt = vectorization.fit_transform(x)"
      ]
    },
    {
      "cell_type": "code",
      "execution_count": null,
      "metadata": {
        "id": "EHopsISyP178"
      },
      "outputs": [],
      "source": [
        "#normalisasi data\n",
        "xt1 = preprocessing.normalize(xt.toarray())\n",
        "xt1[5:15,100:110]"
      ]
    },
    {
      "cell_type": "code",
      "execution_count": null,
      "metadata": {
        "id": "rxKfC3U7ETUu"
      },
      "outputs": [],
      "source": [
        "#Cek penempatan kolom kata kunci\n",
        "vocabulary = vectorization.vocabulary_\n",
        "print(vocabulary)"
      ]
    },
    {
      "cell_type": "code",
      "execution_count": null,
      "metadata": {
        "id": "ixTIrifbFxk8"
      },
      "outputs": [],
      "source": [
        "#Lakukan SMOTE\n",
        "smote = SMOTETomek(1)\n",
        "\n",
        "# implementasi oversampling\n",
        "x_sm, y_sm = smote.fit_resample(xt1, y)\n",
        "\n",
        "y_sm.value_counts()"
      ]
    },
    {
      "cell_type": "code",
      "source": [
        "#Buat grafik SMOTE\n",
        "style.use('ggplot')\n",
        "\n",
        "x = [0, 1]\n",
        "y = [348, 348]\n",
        "\n",
        "fig, ax = plt.subplots()\n",
        "\n",
        "ax.bar(x, y, align='center', color = 'red')\n",
        "\n",
        "ax.set_title('Data Berita')\n",
        "ax.set_ylabel('Banyak Berita')\n",
        "ax.set_xlabel('Label')\n",
        "\n",
        "ax.set_xticks(x)\n",
        "ax.set_xticklabels((\"Fakta\", \"Hoaks\"))\n",
        "\n",
        "plt.show()"
      ],
      "metadata": {
        "id": "ZYMNSVWQ1Arn"
      },
      "execution_count": null,
      "outputs": []
    },
    {
      "cell_type": "code",
      "execution_count": null,
      "metadata": {
        "id": "IWm8XjOsaLYY"
      },
      "outputs": [],
      "source": [
        "#Pemisahan dataset\n",
        "x_train, x_test, y_train, y_test = train_test_split(x_sm, y_sm, test_size=0.2)"
      ]
    },
    {
      "cell_type": "markdown",
      "metadata": {
        "id": "QD0vW7TRaLYx"
      },
      "source": [
        "##Random Forest Classifier"
      ]
    },
    {
      "cell_type": "code",
      "execution_count": null,
      "metadata": {
        "id": "Vl_sNruzaLYz"
      },
      "outputs": [],
      "source": [
        "#Modelling RFC\n",
        "RFC = RandomForestClassifier(criterion = 'gini')\n",
        "RFC.fit(x_train, y_train)"
      ]
    },
    {
      "cell_type": "code",
      "execution_count": null,
      "metadata": {
        "id": "BJuULZUeaLY0"
      },
      "outputs": [],
      "source": [
        "#Hasil prediksi\n",
        "pred_rfc = RFC.predict(x_test)\n",
        "pred_rfc"
      ]
    },
    {
      "cell_type": "code",
      "execution_count": null,
      "metadata": {
        "id": "qOCS5cIVaLY1"
      },
      "outputs": [],
      "source": [
        "#Cek akurasi\n",
        "RFC.score(x_test, y_test)"
      ]
    },
    {
      "cell_type": "code",
      "execution_count": null,
      "metadata": {
        "id": "jlRBAWRYaLY2"
      },
      "outputs": [],
      "source": [
        "#cek precision, recall, dan f1-score\n",
        "print(classification_report(y_test, pred_rfc))"
      ]
    },
    {
      "cell_type": "code",
      "execution_count": null,
      "metadata": {
        "id": "I3Q3qHZZWE0I"
      },
      "outputs": [],
      "source": [
        "#Membuat confussion matrix\n",
        "from sklearn.metrics import classification_report, confusion_matrix\n",
        "import itertools\n",
        "def plot_confusion_matrix(cm, classes,\n",
        "                          normalize=False,\n",
        "                          title='Confusion matrix',\n",
        "                          cmap=plt.cm.Blues):\n",
        "    \"\"\"\n",
        "    This function prints and plots the confusion matrix.\n",
        "    Normalization can be applied by setting `normalize=True`.\n",
        "    \"\"\"\n",
        "    if normalize:\n",
        "      cm = cm.astype('float') / cm.sum(axis=1)[:, np.newaxis]\n",
        "      print(\"Normalized confusion matrix\")\n",
        "    else:\n",
        "      print('Confusion matrix, without normalization')\n",
        "    print(cm)\n",
        "\n",
        "    plt.imshow(cm, interpolation='nearest', cmap=cmap)\n",
        "    plt.title(title)\n",
        "    plt.colorbar()\n",
        "    tick_marks = np.arange(len(classes))\n",
        "    plt.xticks(tick_marks, classes, rotation=45)\n",
        "    plt.yticks(tick_marks, classes)\n",
        "\n",
        "    fmt = '.2f' if normalize else 'd'\n",
        "    thresh = cm.max() / 2.\n",
        "    for i, j in itertools.product(range(cm.shape[0]), range(cm.shape[1])):\n",
        "      plt.text(j, i, format(cm[i, j], fmt),\n",
        "               horizontalalignment=\"center\",\n",
        "               color=\"white\" if cm[i, j] > thresh else \"black\")\n",
        "      \n",
        "    plt.tight_layout()\n",
        "    plt.ylabel('True label')\n",
        "    plt.xlabel('Predicted label')\n",
        "print(confusion_matrix(y_test, pred_rfc, labels=[1,0]))"
      ]
    },
    {
      "cell_type": "code",
      "execution_count": null,
      "metadata": {
        "id": "-Ek_nzJgWJqf"
      },
      "outputs": [],
      "source": [
        "#Buat gambar confussion matrix\n",
        "cnf_matrix = confusion_matrix(y_test, pred_rfc, labels=[1,0])\n",
        "plt.figure()\n",
        "plot_confusion_matrix(cnf_matrix,classes=['Hoax = 1', 'Fakta = 0'],normalize = False, title='Confusion matrix')"
      ]
    },
    {
      "cell_type": "code",
      "execution_count": null,
      "metadata": {
        "id": "Q8H1m4lmaLY4"
      },
      "outputs": [],
      "source": [
        "#Fungsi untuk manual testing\n",
        "def output_lable(n):\n",
        "    if n == 0:\n",
        "        return \"Fakta\"\n",
        "    elif n == 1:\n",
        "        return \"Hoaks\"\n",
        "    \n",
        "def manual_testing(news):\n",
        "    testing_news = {\"berita\":[news]}\n",
        "    new_def_test = pd.DataFrame(testing_news)\n",
        "    new_x_test = new_def_test[\"berita\"]\n",
        "    new_xv_test = vectorization.transform(new_x_test)\n",
        "    pred_RFC = RFC.predict(new_xv_test)\n",
        "\n",
        "    return print(\"\\nRFC Prediction: {} \".format(output_lable(pred_RFC[0])))"
      ]
    },
    {
      "cell_type": "code",
      "execution_count": null,
      "metadata": {
        "colab": {
          "background_save": true,
          "base_uri": "https://localhost:8080/"
        },
        "id": "33Wo6A2VaLY6",
        "outputId": "bc0f2c83-306d-467e-b487-e4a2569fb4c5"
      },
      "outputs": [
        {
          "name": "stdout",
          "output_type": "stream",
          "text": [
            "dokter hewan dari lab balai uji standar karantina ikan  bkipm kementerian kelautan dan perikanan  drh m aji purbayu mengatakan bahwa bintik putih pada ikan lele tersebut bukan mengindikasikan ada cacing di dalamnya  melainkan parasit jenis protozoa  aji mengungkapkan  cysta parasit protozoa pada ikan lele tersebut berjenis ichtyophthirius multifilis atau dikenal sebagai parasit penyebab penyakit white spot pada ikan  parasit tersebut tidak bersifat zoonosis  tidak menular ke manusia  dan akan mati pada pemanasan atau pemasakan ikan hingga matang  jika menemukan ikan dengan kondisi seperti di atas  aji mengatakan  masih bisa dikonsumsi  dengan catatan  diolah atau dimasak dengan benar benar matang \n",
            "\n",
            "RFC Prediction: Fakta \n"
          ]
        }
      ],
      "source": [
        "#Implementasi manual testing\n",
        "news = str(input())\n",
        "news = news.lower()\n",
        "#news = stemmer.stem(news)\n",
        "news = re.sub('\\[.*?\\]', '', news)\n",
        "news = re.sub(r\"\\d+\", \"\", news)\n",
        "news = re.sub(\"\\\\W\",\" \",news) \n",
        "news = re.sub('https?://\\S+|www\\.\\S+', '', news)\n",
        "news = re.sub('<.*?>+', '', news)\n",
        "news = re.sub('[%s]' % re.escape(string.punctuation), '', news)\n",
        "news = re.sub('\\n', '', news)\n",
        "news = re.sub('\\w*\\d\\w*', '', news)\n",
        "\n",
        "print(news)\n",
        "manual_testing(news)"
      ]
    }
  ],
  "metadata": {
    "colab": {
      "provenance": []
    },
    "kernelspec": {
      "display_name": "Python 3",
      "language": "python",
      "name": "python3"
    },
    "language_info": {
      "codemirror_mode": {
        "name": "ipython",
        "version": 3
      },
      "file_extension": ".py",
      "mimetype": "text/x-python",
      "name": "python",
      "nbconvert_exporter": "python",
      "pygments_lexer": "ipython3",
      "version": "3.8.5"
    }
  },
  "nbformat": 4,
  "nbformat_minor": 0
}