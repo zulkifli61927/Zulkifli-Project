{
  "nbformat": 4,
  "nbformat_minor": 0,
  "metadata": {
    "colab": {
      "provenance": []
    },
    "kernelspec": {
      "name": "python3",
      "display_name": "Python 3"
    },
    "language_info": {
      "name": "python"
    }
  },
  "cells": [
    {
      "cell_type": "markdown",
      "metadata": {
        "id": "0TTKqaNzSSYt"
      },
      "source": [
        "Budi mendapatkan kupon undian setelah membeli banyak barang di supermarket, kupon undian tersebut terdiri dari 4 angka yang mana disimbolkan dengan m, n, o, p yang memiliki rentang angka 1-20 (setiap hurufnya). Budi tidak tahu angka berapa saja yang mengisi m, n, o, p. Budi berhak menebak angka yang disimbolkan oleh m, n, o, p, jika berhasil budi akan mendapatkan mobil. Mari bantu Budi menebak angka tersebut!"
      ]
    },
    {
      "cell_type": "code",
      "metadata": {
        "colab": {
          "base_uri": "https://localhost:8080/"
        },
        "id": "8uStmrO6QTSm",
        "outputId": "69995c75-1e33-491f-c9d5-e6200149db9d"
      },
      "source": [
        "from random import randint\n",
        "\n",
        "class Node:\n",
        "   def __init__(self, data):\n",
        "      self.left = None\n",
        "      self.right = None\n",
        "      self.data = data\n",
        "\n",
        "   def insert(self, data):\n",
        "      if self.data:\n",
        "        if data < self.data:\n",
        "          if self.left is None:\n",
        "            self.left = Node(data)\n",
        "          else:\n",
        "            self.left.insert(data)\n",
        "        elif data > self.data:\n",
        "          if self.right is None:\n",
        "            self.right = Node(data)\n",
        "          else:\n",
        "            self.right.insert(data)\n",
        "      else:\n",
        "        self.data = data\n",
        "\n",
        "   def findval(self, lkpval):\n",
        "      if lkpval < self.data:\n",
        "        if self.left is None:\n",
        "          return str(lkpval)+\" Not Found\"\n",
        "        return self.left.findval(lkpval)\n",
        "      elif lkpval > self.data:\n",
        "        if self.right is None:\n",
        "          return str(lkpval)+\" Not Found\"\n",
        "        return self.right.findval(lkpval)\n",
        "      else:\n",
        "        print(str(self.data) + ' is found')\n",
        "\n",
        "m = randint(1,20)\n",
        "n = randint(1,20)\n",
        "o = randint(1,20)\n",
        "p = randint(1,20)\n",
        "\n",
        "root = Node(m)\n",
        "root.insert(n)\n",
        "root.insert(o)\n",
        "root.insert(p)\n",
        "print(root.findval(10))\n",
        "print(root.findval(9))\n",
        "print(root.findval(13))\n",
        "print(root.findval(14))"
      ],
      "execution_count": 1,
      "outputs": [
        {
          "output_type": "stream",
          "name": "stdout",
          "text": [
            "10 is found\n",
            "None\n",
            "9 is found\n",
            "None\n",
            "13 is found\n",
            "None\n",
            "14 Not Found\n"
          ]
        }
      ]
    },
    {
      "cell_type": "code",
      "metadata": {
        "id": "_Dni9xrmUi9n"
      },
      "source": [],
      "execution_count": null,
      "outputs": []
    }
  ]
}