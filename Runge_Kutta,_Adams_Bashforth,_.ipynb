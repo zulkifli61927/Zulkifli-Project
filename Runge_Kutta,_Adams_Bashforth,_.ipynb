{
  "cells": [
    {
      "cell_type": "code",
      "execution_count": null,
      "metadata": {
        "colab": {
          "base_uri": "https://localhost:8080/"
        },
        "id": "05tQfFOJNf8F",
        "outputId": "6cf518e0-26ee-4f1a-fe9d-0ab9f655e424"
      },
      "outputs": [
        {
          "output_type": "stream",
          "name": "stdout",
          "text": [
            "-1.3930684559301993\n",
            "-1.3478226697889235\n",
            "-1.3063905735093035\n",
            "-1.2682993704516727\n",
            "-1.233151699424153\n",
            "-1.2006111437046632\n",
            "-1.170390958786263\n",
            "-1.142245214334092\n",
            "-1.1159617677541964\n",
            "-1.0913566421162968\n",
            "-1.0682694914177382\n",
            "-1.0465599154167504\n",
            "-1.0261044438945939\n",
            "-1.0067940525836554\n",
            "-0.9885321044801196\n",
            "-0.9712326338719584\n",
            "-0.9548189082823952\n",
            "-0.9392222171668236\n",
            "-0.9243808466923301\n",
            "-0.910239208060081\n"
          ]
        }
      ],
      "source": [
        "#RUNGE-KUTTA\n",
        "\n",
        "def f(t,y):\n",
        "  return y**2/(1+t)\n",
        "\n",
        "h = 0.05\n",
        "w0 = -1.442695\n",
        "i = 0\n",
        "\n",
        "while i <= 19:\n",
        "  t0 = 1 + i*h\n",
        "  k1 = h*f(t0,w0)\n",
        "  k2 = h*f(t0 + h/2, w0 + (1/2)*k1)\n",
        "  k3 = h*f(t0 + h/2, w0 + (1/2)*k2)\n",
        "  k4 = h*f(t0 + h, w0 + k3)\n",
        "  w1 = w0 + (1/6)*(k1 + 2*k2 + 2*k3 + k4)\n",
        "  \n",
        "  print(w1)\n",
        "  i = i + 1\n",
        "  w0 = w1"
      ]
    },
    {
      "cell_type": "code",
      "execution_count": null,
      "metadata": {
        "colab": {
          "base_uri": "https://localhost:8080/"
        },
        "id": "3n-t4XT9XF1O",
        "outputId": "0de6e089-32f3-4088-b3df-81ccc3767b74"
      },
      "outputs": [
        {
          "output_type": "stream",
          "name": "stdout",
          "text": [
            "-1.270097870291195\n",
            "-1.2033634625645853\n",
            "-1.1455856944641711\n",
            "-1.095042861765751\n",
            "-1.05043670010619\n",
            "-1.0107603893576966\n",
            "-0.9752223651404152\n",
            "-0.9431919896327242\n",
            "-0.9141608112588422\n"
          ]
        }
      ],
      "source": [
        "#2-STEPS ADAM BASHFORTH\n",
        "\n",
        "def f(t,y):\n",
        "  return y**2/(1+t)\n",
        "\n",
        "h = 0.1\n",
        "w0 = -1.442695\n",
        "w1 = -1.3478226391962873\n",
        "i = 1\n",
        "\n",
        "while i <= 9:\n",
        "  t0 = 1 + h*i\n",
        "  t1 = 1 + h*(i-1)\n",
        "  w = w1 + (h/2)*(3*f(t0,w1)-f(t1,w0))\n",
        "  print(w)\n",
        "  i = i + 1\n",
        "  w0 = w1\n",
        "  w1 = w"
      ]
    },
    {
      "cell_type": "code",
      "source": [
        "#3-STEP ADAM BASHFORTH\n",
        "\n",
        "def f(t,y):\n",
        "  return y**2/(1+t)\n",
        "\n",
        "h = 0.1\n",
        "w0 = -1.442695\n",
        "w1 = -1.3478226391962873\n",
        "w2 = -1.2682993235365434\n",
        "i = 2\n",
        "\n",
        "while i <= 9:\n",
        "  t0 = 1 + h*i\n",
        "  t1 = 1 + h*(i-1)\n",
        "  t2 = 1 + h*(i-2)\n",
        "  w = w2 + (h/12)*(23*f(t0,w2)-16*f(t1,w1)+5*f(t2,w0))\n",
        "  print(w)\n",
        "  i = i + 1\n",
        "  w0 = w1\n",
        "  w1 = w2\n",
        "  w2 = w"
      ],
      "metadata": {
        "colab": {
          "base_uri": "https://localhost:8080/"
        },
        "id": "FVV1aUYTqksB",
        "outputId": "ce2ebe8e-a2af-4c9c-b0a9-e28f5c02b935"
      },
      "execution_count": null,
      "outputs": [
        {
          "output_type": "stream",
          "name": "stdout",
          "text": [
            "-1.2001370811713516\n",
            "-1.1415553886871015\n",
            "-1.0905162288312524\n",
            "-1.0456464960773513\n",
            "-1.0058462746177574\n",
            "-0.9702763345522716\n",
            "-0.9382725404394694\n",
            "-0.9093053612504987\n"
          ]
        }
      ]
    },
    {
      "cell_type": "code",
      "source": [
        "#4-STEP ADAM BASHFORTH\n",
        "\n",
        "def f(t,y):\n",
        "  return y**2/(1+t)\n",
        "\n",
        "h = 0.1\n",
        "w0 = -1.442695\n",
        "w1 = -1.3478226391962873\n",
        "w2 = -1.2682993235365434\n",
        "w3 = -1.200611088483845\n",
        "i = 3\n",
        "\n",
        "while i <= 9:\n",
        "  t0 = 1 + h*i\n",
        "  t1 = 1 + h*(i-1)\n",
        "  t2 = 1 + h*(i-2)\n",
        "  t3 = 1 + h*(i-3)\n",
        "  w = w3 + (h/24)*(55*f(t0,w3)-59*f(t1,w2)+37*f(t2,w1)-9*f(t3,w0))\n",
        "  print(w)\n",
        "  i = i + 1\n",
        "  w0 = w1\n",
        "  w1 = w2\n",
        "  w2 = w3\n",
        "  w3 = w"
      ],
      "metadata": {
        "colab": {
          "base_uri": "https://localhost:8080/"
        },
        "id": "rCAz-Uufsriq",
        "outputId": "aa745b20-c437-4057-edc8-e8e4ec1905e8"
      },
      "execution_count": null,
      "outputs": [
        {
          "output_type": "stream",
          "name": "stdout",
          "text": [
            "-1.1423959033182296\n",
            "-1.0915669010212328\n",
            "-1.0468222331607637\n",
            "-1.0070696812249715\n",
            "-0.9715163008054748\n",
            "-0.9395037564958622\n",
            "-0.9105163759880239\n"
          ]
        }
      ]
    },
    {
      "cell_type": "code",
      "source": [
        "#5-STEP ADAM BASHFORTH\n",
        "\n",
        "def f(t,y):\n",
        "  return y**2/(1+t)\n",
        "\n",
        "h = 0.1\n",
        "w0 = -1.442695\n",
        "w1 = -1.3478226391962873\n",
        "w2 = -1.2682993235365434\n",
        "w3 = -1.200611088483845\n",
        "w4 = -1.1422451553838695\n",
        "i = 4\n",
        "\n",
        "while i <= 9:\n",
        "  t0 = 1 + h*i\n",
        "  t1 = 1 + h*(i-1)\n",
        "  t2 = 1 + h*(i-2)\n",
        "  t3 = 1 + h*(i-3)\n",
        "  t4 = 1 + h*(i-4)\n",
        "  w = w4 + (h/720)*(1901*f(t0,w4)-2774*f(t1,w3)+2616*f(t2,w2)-1274*f(t3,w1)+251*f(t4,w0))\n",
        "  print(w)\n",
        "  i = i + 1\n",
        "  w0 = w1\n",
        "  w1 = w2\n",
        "  w2 = w3\n",
        "  w3 = w4\n",
        "  w4 = w"
      ],
      "metadata": {
        "colab": {
          "base_uri": "https://localhost:8080/"
        },
        "id": "lkls18l_uXVj",
        "outputId": "59dab91a-c3a4-4b54-9578-9616b962a396"
      },
      "execution_count": null,
      "outputs": [
        {
          "output_type": "stream",
          "name": "stdout",
          "text": [
            "-1.0913017299396273\n",
            "-1.0464860282538253\n",
            "-1.0066984191987107\n",
            "-0.971138510540904\n",
            "-0.9391234087847118\n",
            "-0.9101442069520597\n"
          ]
        }
      ]
    },
    {
      "cell_type": "code",
      "source": [
        "def f(t,y):\n",
        "  return 1 + y/t + (y/t)**2\n",
        "\n",
        "h = 0.2\n",
        "i = 2\n",
        "t0 = 1 + i*h\n",
        "w0 = 0.48968416644336515\n",
        "k1 = h*f(t0,w0)\n",
        "k2 = h*f(t0 + h/2, w0 + (1/2)*k1)\n",
        "k3 = h*f(t0 + h/2, w0 + (1/2)*k2)\n",
        "k4 = h*f(t0 + h, w0 + k3)\n",
        "\n",
        "w1 = w0 + (1/6)*(k1 + 2*k2 + 2*k3 + k4)\n",
        "\n",
        "print(k1)\n",
        "print(k2)\n",
        "print(k3)\n",
        "print(k4)\n",
        "print(w1)"
      ],
      "metadata": {
        "colab": {
          "base_uri": "https://localhost:8080/"
        },
        "id": "I1F_GeJOx31h",
        "outputId": "dd3821ea-0491-4e3e-c176-1e067f2a488c"
      },
      "execution_count": null,
      "outputs": [
        {
          "output_type": "stream",
          "name": "stdout",
          "text": [
            "0.2944233077434739\n",
            "0.3209760014584444\n",
            "0.3242650753533138\n",
            "0.3535025121168809\n",
            "0.8127521620240103\n"
          ]
        }
      ]
    },
    {
      "cell_type": "code",
      "execution_count": null,
      "metadata": {
        "colab": {
          "base_uri": "https://localhost:8080/"
        },
        "id": "cDaKTSjt8kM0",
        "outputId": "7629bb72-ff41-4c29-921a-f6cb44cbbf04"
      },
      "outputs": [
        {
          "output_type": "stream",
          "name": "stdout",
          "text": [
            "-1.2899250667594067\n",
            "-1.218509222455497\n",
            "-1.1568920895817096\n",
            "-1.10334983110541\n",
            "-1.0563591651002093\n",
            "-1.0147675849962436\n",
            "-0.9776766372739655\n",
            "-0.9443767173598147\n",
            "-0.914300134602144\n"
          ]
        }
      ],
      "source": [
        "def f(t,y):\n",
        "  return y**2/(1+t)\n",
        "\n",
        "h = 0.1\n",
        "w0 = -1.442695\n",
        "w1 = -1.3774561\n",
        "\n",
        "i = 1\n",
        "\n",
        "for i in range(9):\n",
        "  t_i = 1 + h*i\n",
        "  t_j = 1 + h*(i-1)\n",
        "  w = w1 + (h/2)*(3*f(t_i,w1)-f(t_j,w0))\n",
        "  print(w)\n",
        "  i = i + 1\n",
        "  w0 = w1\n",
        "  w1 = w\n"
      ]
    },
    {
      "cell_type": "code",
      "execution_count": null,
      "metadata": {
        "id": "eBMU8eCxa6uV"
      },
      "outputs": [],
      "source": [
        "w0 = -1.442695\n",
        "w1 = -1.3774561\n",
        "w2 = -1.3205682\n",
        "w3 = -1.2704687\n",
        "w4 = -1.2259662\n"
      ]
    }
  ],
  "metadata": {
    "colab": {
      "provenance": []
    },
    "kernelspec": {
      "display_name": "Python 3",
      "name": "python3"
    },
    "language_info": {
      "name": "python"
    }
  },
  "nbformat": 4,
  "nbformat_minor": 0
}