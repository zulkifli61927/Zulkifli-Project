{
  "nbformat": 4,
  "nbformat_minor": 0,
  "metadata": {
    "colab": {
      "provenance": []
    },
    "kernelspec": {
      "display_name": "Python 3",
      "name": "python3"
    },
    "language_info": {
      "name": "python"
    }
  },
  "cells": [
    {
      "cell_type": "markdown",
      "metadata": {
        "id": "xjtQ90u3AIwB"
      },
      "source": [
        "Di bawah ini adalah Program untuk menyelesaikan sistem linier untuk 3 soal yang diberikan."
      ]
    },
    {
      "cell_type": "code",
      "metadata": {
        "colab": {
          "background_save": true,
          "base_uri": "https://localhost:8080/"
        },
        "id": "_DYj02P3ydRV",
        "outputId": "04c066cf-5ec6-4d08-aaca-1f01898109d5"
      },
      "source": [
        "import numpy as np          #Import module\n",
        "\n",
        "aug_matrix = np.array(eval(input('Masukkan matriks augmentednya : ')))   #input matriks augmented yang ingin diselesaikan\n",
        "initial_solution = np.array((eval(input('Masukkan solusi awalnya : '))))  #input solusi awalnya. misal : [0,0,0,0]\n",
        "tolerance = eval(input('Masukkan Toleransinya : '))    #Input batas toleransi yang diberikan\n",
        "\n",
        "def Jacobi(matrix,initial,tol): #definisikan Jacobi method\n",
        "  n = np.shape(matrix)[0]\n",
        "  x0 = initial\n",
        "  x = x0.copy()\n",
        "  for i in range(n):\n",
        "    b = matrix[i,n]\n",
        "    for j in range(n):\n",
        "      if j!=i:\n",
        "        b-=matrix[i,j]*x0[j]\n",
        "    x[i]=b/matrix[i,i]\n",
        "\n",
        "  while np.linalg.norm(x-x0,np.inf)>=tol:    #selama norm tak hingga dari (x - x0) >= tol. maka lakukan dibawah ini,\n",
        "    x0 = x\n",
        "    x = x0.copy()\n",
        "    for i in range(n):\n",
        "      b = matrix[i,n]\n",
        "      for j in range(n):\n",
        "        if j!=i :\n",
        "          b-=matrix[i,j]*x0[j]\n",
        "          x[i]=b/matrix[i,i]\n",
        "  return x       #output definisi Jacobi\n",
        "\n",
        "\n",
        "\n",
        "print('Aproksimasi solusi SPL adalah :')\n",
        "print(Jacobi(aug_matrix,initial_solution,tolerance))"
      ],
      "execution_count": null,
      "outputs": [
        {
          "output_type": "stream",
          "text": [
            "Aproksimasi solusi SPL adalah :\n"
          ],
          "name": "stdout"
        }
      ]
    },
    {
      "cell_type": "markdown",
      "metadata": {
        "id": "4udZXemSAFx_"
      },
      "source": [
        "Algoritma :\n",
        "1. Import module yang dibutuhkan\n",
        "2. input matriks augmented, solusi awal, dan toleransinya\n",
        "3. definisikan jacobi yang didalamnya terdapat 2 kasus. Yaitu ketika toleransi kurang dan lebih dari toleransi\n",
        "4. Output solusi dari x"
      ]
    },
    {
      "cell_type": "markdown",
      "metadata": {
        "id": "oYunGgFqChAp"
      },
      "source": [
        "Jawaban Soal :\n",
        "1. Konvergen, 15 Iterasi.\n",
        "2. Tidak, Karena solusi iterasi ke $n$ dan $n-1$ tidak signifikan.\n",
        "3. Tidak, Karena solusi iterasi ke $n$ dan $n-1$ tidak signifikan."
      ]
    }
  ]
}