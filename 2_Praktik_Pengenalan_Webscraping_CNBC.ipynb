{
  "nbformat": 4,
  "nbformat_minor": 0,
  "metadata": {
    "colab": {
      "provenance": []
    },
    "kernelspec": {
      "name": "python3",
      "display_name": "Python 3"
    },
    "language_info": {
      "name": "python"
    }
  },
  "cells": [
    {
      "cell_type": "markdown",
      "source": [
        "# **SINTAKS WEBSCRAPING DATA BERITA [CNBC](https://www.cnbcindonesia.com/)** \n"
      ],
      "metadata": {
        "id": "2I5wZQkZdE7x"
      }
    },
    {
      "cell_type": "markdown",
      "source": [
        "# WEBCRAWLING WEBSITE BERITA CNBC\n",
        "Pada tahap ini kita akan melakukan crawling website CNBC secara manual. Kita akan membuat list berisi beberapa URL atau alamat berita pada website berita CNBC. Tahapan yang kita lakukan:\n",
        "1.   Mengakses website CNBC\n",
        "2.   Melakukan pencarian berita berdasarkan kata kunci \"Minyak Goreng\"\n",
        "3.   Menyimpan beberapa URL berita terkait kata kunci \"Minyak Goreng\"\n",
        "4.   Membuat list pada Python berisi URL berita CNBC\n",
        "\n"
      ],
      "metadata": {
        "id": "6REoAHeDd31b"
      }
    },
    {
      "cell_type": "code",
      "source": [
        "# Membuat List berisi URL berita \"Minyak Goreng\" CNBC\n",
        "\n",
        "list_url = ['https://www.cnbcindonesia.com/news/20220705160145-4-353138/saat-jokowi-dikeluhkan-pedagang-soal-harga-cabai-menggila',\n",
        "            'https://www.cnbcindonesia.com/news/20220705141830-4-353106/zulhas-bilang-harga-pangan-menggila-petani-untung-beneran',\n",
        "            'https://www.cnbcindonesia.com/news/20220705132446-4-353088/heboh-petani-ri-jual-sawit-ke-malaysia-ini-biang-keroknya',\n",
        "            'https://www.cnbcindonesia.com/news/20220705112318-4-353041/jadi-syarat-ekspor-minyak-sawit-besok-zulhas-rilis-minyakita',\n",
        "            'https://www.cnbcindonesia.com/news/20220705093458-4-353009/begini-klaim-zulhas-soal-harga-minyak-goreng-turun']\n",
        "\n",
        "list_url"
      ],
      "metadata": {
        "colab": {
          "base_uri": "https://localhost:8080/"
        },
        "id": "Mp9gRNXniR2H",
        "outputId": "e5c561c9-6f92-4bf7-975b-d05957b9f729"
      },
      "execution_count": null,
      "outputs": [
        {
          "output_type": "execute_result",
          "data": {
            "text/plain": [
              "['https://www.cnbcindonesia.com/news/20220705160145-4-353138/saat-jokowi-dikeluhkan-pedagang-soal-harga-cabai-menggila',\n",
              " 'https://www.cnbcindonesia.com/news/20220705141830-4-353106/zulhas-bilang-harga-pangan-menggila-petani-untung-beneran',\n",
              " 'https://www.cnbcindonesia.com/news/20220705132446-4-353088/heboh-petani-ri-jual-sawit-ke-malaysia-ini-biang-keroknya',\n",
              " 'https://www.cnbcindonesia.com/news/20220705112318-4-353041/jadi-syarat-ekspor-minyak-sawit-besok-zulhas-rilis-minyakita',\n",
              " 'https://www.cnbcindonesia.com/news/20220705093458-4-353009/begini-klaim-zulhas-soal-harga-minyak-goreng-turun']"
            ]
          },
          "metadata": {},
          "execution_count": 33
        }
      ]
    },
    {
      "cell_type": "markdown",
      "source": [
        "## REQUEST KE SALAH SATU HALAMAN BERITA DI WEBSITE CNBC ##\n",
        "Pada tahap ini kita akan melakukan request ke salah satu halaman berita di website CNBC yang telah kita crawling sebelumnya menggunakan Library Request.\n",
        "\n"
      ],
      "metadata": {
        "id": "vJmPO744djbG"
      }
    },
    {
      "cell_type": "code",
      "execution_count": null,
      "metadata": {
        "colab": {
          "base_uri": "https://localhost:8080/"
        },
        "id": "AYgWpiNYckrZ",
        "outputId": "b3fe01de-225e-4079-d8f1-e2188c5a8c94"
      },
      "outputs": [
        {
          "output_type": "stream",
          "name": "stdout",
          "text": [
            "Status request: <Response [200]>\n"
          ]
        },
        {
          "output_type": "execute_result",
          "data": {
            "text/plain": [
              "str"
            ]
          },
          "metadata": {},
          "execution_count": 16
        }
      ],
      "source": [
        "# Memanggil Library Request\n",
        "import requests\n",
        "\n",
        "url_berita = 'https://www.cnbcindonesia.com/news/20230318102258-4-422781/awas-pd-3-tetangga-ri-borong-kapal-selam-nuklir-rudal-as'\n",
        "\n",
        "# Melakukan request ke URL berita pertama pada list URL berita yang telah dibuat\n",
        "r = requests.get(url_berita)\n",
        "print(f'Status request: {r}')\n",
        "\n",
        "# Mengambil HTML dari halaman website yang telah direquest\n",
        "html_halaman = r.text\n",
        "type(html_halaman)\n",
        "# print(type(html_halaman))"
      ]
    },
    {
      "cell_type": "markdown",
      "source": [
        "## MENGAMBIL INFORMASI PADA HALAMAN YANG TELAH DIREQUEST ##\n",
        "Pada tahap ini kita akan mengambil informasi-informasi yang terdapat pada halaman yang telah direquest melalui tag HTML-nya menggunakan Library Beautiful Soup. Untuk melihat fungsi-fungsi pada Library Beautiful Soup silakan akses [halaman berikut](https://www.crummy.com/software/BeautifulSoup/bs4/doc/). \n",
        "\n"
      ],
      "metadata": {
        "id": "u83OgXMIj_ra"
      }
    },
    {
      "cell_type": "code",
      "source": [
        "# Memanggil Library BeautifulSoup\n",
        "from bs4 import BeautifulSoup\n",
        "\n",
        "# Memanggil variabel berisi struktur HTML dari halaman CNBC yang telah direquest sebelumnya.\n",
        "html_bs4 = BeautifulSoup(html_halaman)\n",
        "type(html_bs4)"
      ],
      "metadata": {
        "colab": {
          "base_uri": "https://localhost:8080/"
        },
        "id": "l9gRqHFZdEhZ",
        "outputId": "c9304414-5559-407a-de9a-18e4929e35f3"
      },
      "execution_count": null,
      "outputs": [
        {
          "output_type": "execute_result",
          "data": {
            "text/plain": [
              "bs4.BeautifulSoup"
            ]
          },
          "metadata": {},
          "execution_count": 15
        }
      ]
    },
    {
      "cell_type": "markdown",
      "source": [
        "Mengambil informasi judul berita dari halaman yang telah direquest."
      ],
      "metadata": {
        "id": "mY9YuukxldbC"
      }
    },
    {
      "cell_type": "code",
      "source": [
        "# Mengambil informasi judul berita dari HTML pada tag H1 -> cari di struktur HTML\n",
        "judul = html_bs4.find('h1').text\n",
        "\n",
        "print(judul)"
      ],
      "metadata": {
        "colab": {
          "base_uri": "https://localhost:8080/"
        },
        "id": "oj3pcVUUllj2",
        "outputId": "2caf0a70-6750-4fff-ca16-b86cb131168f"
      },
      "execution_count": null,
      "outputs": [
        {
          "output_type": "stream",
          "name": "stdout",
          "text": [
            "Awas PD 3! Tetangga RI Borong Kapal Selam Nuklir & Rudal AS\n"
          ]
        }
      ]
    },
    {
      "cell_type": "markdown",
      "source": [
        "Mengambil informasi tanggal berita dari halaman yang telah direquest."
      ],
      "metadata": {
        "id": "KCKKIgzzmlh4"
      }
    },
    {
      "cell_type": "code",
      "source": [
        "# Mengambil informasi tanggal berita dari HTML pada tag div dengan class=date -> cari di struktur HTML\n",
        "tanggal = html_bs4.find('div', class_='date').text\n",
        "\n",
        "print(tanggal)"
      ],
      "metadata": {
        "colab": {
          "base_uri": "https://localhost:8080/"
        },
        "id": "ldNOl-Wymkuy",
        "outputId": "b61e3185-079c-4878-9391-50aa59057d18"
      },
      "execution_count": null,
      "outputs": [
        {
          "output_type": "stream",
          "name": "stdout",
          "text": [
            "18 March 2023 11:00\n"
          ]
        }
      ]
    },
    {
      "cell_type": "markdown",
      "source": [
        "Mengambil informasi penulis berita dari halaman yang telah direquest."
      ],
      "metadata": {
        "id": "01Oh9zWAno6x"
      }
    },
    {
      "cell_type": "code",
      "source": [
        "# Mengambil informasi tanggal berita dari HTML pada tag div dengan class=author -> cari di struktur HTML\n",
        "penulis = html_bs4.find('div', class_='author').text\n",
        "\n",
        "print(penulis)"
      ],
      "metadata": {
        "colab": {
          "base_uri": "https://localhost:8080/"
        },
        "id": "49q6A1ZznpD3",
        "outputId": "14f412b4-72a2-4822-fb3a-af733decb77c"
      },
      "execution_count": null,
      "outputs": [
        {
          "output_type": "stream",
          "name": "stdout",
          "text": [
            "News - Chandra Gian Asmara, CNBC Indonesia\n"
          ]
        }
      ]
    },
    {
      "cell_type": "markdown",
      "source": [
        "Mengambil informasi isi berita dari halaman yang telah direquest."
      ],
      "metadata": {
        "id": "pQOrrno4n9bD"
      }
    },
    {
      "cell_type": "code",
      "source": [
        "# Mengambil informasi tanggal berita dari HTML pada tag div dengan class=detail_text -> cari di struktur HTML\n",
        "isi = html_bs4.find('div', class_='detail_text').text\n",
        "\n",
        "# print(isi)"
      ],
      "metadata": {
        "id": "5_fpshYVn98F"
      },
      "execution_count": null,
      "outputs": []
    },
    {
      "cell_type": "code",
      "source": [
        "# Mengambil informasi tanggal berita dari HTML pada tag div dengan class=detail_text -> cari di struktur HTML\n",
        "isi = html_bs4.find('div', class_='detail_text')\n",
        "\n",
        "# Jika kita hanya mengambil tag 'detail_text' terdapat kalimat-kalimat non berita yang kita dapatkan, maka kita harus memecah isi berita menjadi per paragraf\n",
        "list_paragraf = isi.find_all('p')\n",
        "\n",
        "# Print per paragraf\n",
        "for paragraf in list_paragraf:\n",
        "  print(paragraf.text)"
      ],
      "metadata": {
        "colab": {
          "base_uri": "https://localhost:8080/"
        },
        "id": "avH3c17ysFBg",
        "outputId": "e47940f2-2f84-479c-8ec0-4346d0140b7b"
      },
      "execution_count": null,
      "outputs": [
        {
          "output_type": "stream",
          "name": "stdout",
          "text": [
            "Jakarta, CNBC Indonesia - Australia terus memperkuat militernya dengan memborong sejumlah senjata canggih dan mematikan.\n",
            "Terbaru, tetangga RI tersebut mengumumkan rencana membeli 220 rudal jelajah Tomahawk dari Amerika Serikat (AS) setelah sebelumnya memesan lima kapal selam nuklir.\n",
            "Tomahawk adalah rudal jarak jauh dalam segala kondisi cuaca, yang memiliki kecepatan subsonik. Pertama kali diperkenalkan pada tahun 1970 oleh General Dynamics, rudal ini didesain untuk jarak menengah dan jauh, dan dapat diluncurkan dari darat dan bawah air.\n",
            "\r\n",
            "ADVERTISEMENT\r\n",
            "\n",
            "\r\n",
            "SCROLL TO RESUME CONTENT\r\n",
            "\n",
            "\n",
            "Dikutip dari CNBC International, Sabtu (18/3/2023), Kementerian Luar Negeri AS telah memberi persetujuan. Rudal Tomahawk tersebut akan dibeli seharga 1,3 miliar dolar Australia (Rp 13,3 triliun), dengan kontraktor utamanya adalah Raytheon Missiles and Defense yang berbasis di Arizona.\n",
            "\"Penjualan yang diusulkan ini akan mendukung kebijakan luar negeri dan tujuan keamanan nasional AS,\" kata Kemlu AS dalam sebuah pernyataan.\n",
            "\"Australia adalah salah satu sekutu terpenting kami di Pasifik Barat,\" ujarnya lagi.\n",
            "Australia sendiri mengatakan pembelian itu sangat penting, terutama untuk menjaga keamanan Australia. Negeri Kanguru diketahui telah menyuarakan kekhawatiran akan China di Asia Pasifik.\n",
            "\n",
            "\"Memastikan kami memiliki rudal serang jarak jauh adalah kemampuan yang sangat penting bagi negara ini,\" kata Menteri Pertahanan Australia Richard Marles.\n",
            "\"Ini memungkinkan kami untuk dapat menjangkau lebih jauh di luar pantai kami, dan pada akhirnya itulah cara kami dapat menjaga keamanan Australia,\" tambahnya.\n",
            "\"Kami tentu menginginkan kemampuan terbaik untuk Angkatan Pertahanan Australia, termasuk kemampuan untuk menyerang lawan sejauh mungkin dari daratan Australia,\" kata Menteri Industri Pertahanan Australia Pat Conroy kepada Australian Broadcasting Corp.\n",
            "\n",
            "\"Rudal jelajah adalah bagian penting dari itu, seperti halnya kapal selam yang meluncurkannya,\" ujarnya.\n",
            "Sebelumnya, kesepakatan pembelian kapal selam nuklir telah dilakukan Australia dengan AS pekan lalu. Ini merupakan tindak lanjut bergabungnya Australia dengan AUKUS, aliansi militer antara Canberra, Washington dan Inggris.\n",
            "Setidaknya akan ada lima kapal selam jenis Virginia dari AS ke Australia di 2030. Rudal Tomahawk sendiri bisa diluncurkan dari kapal selam itu.\n",
            "Kekhawatiran pun muncul terutama dari badan atom internasional, yang mengawasi nuklir. Hal itu dapat membuka jalan bagi \"aktor jahat\" untuk menghindari pengawasan nuklir di masa depan.\n",
            "\n",
            "Kritik Kerns disuarakan Direktur Jenderal Badan Energi Atom Internasional, Rafael Grossi, minggu ini. Ia berjanji akan \"sangat menuntut\" dalam mengawasi rencana transfer dari AS ke Australia.\n",
            "Pejabat Australia memperkirakan biaya kapal selam antara 268 miliar dan 368 miliar dolar Australia (US$ 178-US$ 245 miliar) selama tiga dekade.\n",
            "Sejumlah ramalan muncul soal Perang Dunia 3. Beberapa mengaitkan dengan perang Rusia di Ukraina yang menyeret AS dan Barat.\n",
            "Namun ada pula yang mengaitkannya dengan situasi China dan AS di Asia termasuk soal Taiwan. Australia sendiri adalah sekutu dekat AS.\n",
            "\n"
          ]
        }
      ]
    },
    {
      "cell_type": "code",
      "source": [
        "# Mengambil text dari setiap paragraf\n",
        "list_paragraf_clean = [paragraf.text for paragraf in list_paragraf]\n",
        "\n",
        "# Menggabungkan list menjadi satu\n",
        "isi_clean = ' '.join(list_paragraf_clean)\n",
        "\n",
        "# Membersihkan isi berita dari elemen tidak penting\n",
        "isi_clean = isi_clean.replace('\\r\\n', '')\n",
        "isi_clean = isi_clean.replace('ADVERTISEMENT SCROLL TO RESUME CONTENT', '')\n",
        "\n",
        "print(isi_clean)"
      ],
      "metadata": {
        "colab": {
          "base_uri": "https://localhost:8080/"
        },
        "id": "x5YuHkrdsRnl",
        "outputId": "03b9efe0-36ee-47d1-ab8b-41c8183eaa88"
      },
      "execution_count": null,
      "outputs": [
        {
          "output_type": "stream",
          "name": "stdout",
          "text": [
            "Jakarta, CNBC Indonesia - Australia terus memperkuat militernya dengan memborong sejumlah senjata canggih dan mematikan. Terbaru, tetangga RI tersebut mengumumkan rencana membeli 220 rudal jelajah Tomahawk dari Amerika Serikat (AS) setelah sebelumnya memesan lima kapal selam nuklir. Tomahawk adalah rudal jarak jauh dalam segala kondisi cuaca, yang memiliki kecepatan subsonik. Pertama kali diperkenalkan pada tahun 1970 oleh General Dynamics, rudal ini didesain untuk jarak menengah dan jauh, dan dapat diluncurkan dari darat dan bawah air.   Dikutip dari CNBC International, Sabtu (18/3/2023), Kementerian Luar Negeri AS telah memberi persetujuan. Rudal Tomahawk tersebut akan dibeli seharga 1,3 miliar dolar Australia (Rp 13,3 triliun), dengan kontraktor utamanya adalah Raytheon Missiles and Defense yang berbasis di Arizona. \"Penjualan yang diusulkan ini akan mendukung kebijakan luar negeri dan tujuan keamanan nasional AS,\" kata Kemlu AS dalam sebuah pernyataan. \"Australia adalah salah satu sekutu terpenting kami di Pasifik Barat,\" ujarnya lagi. Australia sendiri mengatakan pembelian itu sangat penting, terutama untuk menjaga keamanan Australia. Negeri Kanguru diketahui telah menyuarakan kekhawatiran akan China di Asia Pasifik.  \"Memastikan kami memiliki rudal serang jarak jauh adalah kemampuan yang sangat penting bagi negara ini,\" kata Menteri Pertahanan Australia Richard Marles. \"Ini memungkinkan kami untuk dapat menjangkau lebih jauh di luar pantai kami, dan pada akhirnya itulah cara kami dapat menjaga keamanan Australia,\" tambahnya. \"Kami tentu menginginkan kemampuan terbaik untuk Angkatan Pertahanan Australia, termasuk kemampuan untuk menyerang lawan sejauh mungkin dari daratan Australia,\" kata Menteri Industri Pertahanan Australia Pat Conroy kepada Australian Broadcasting Corp.  \"Rudal jelajah adalah bagian penting dari itu, seperti halnya kapal selam yang meluncurkannya,\" ujarnya. Sebelumnya, kesepakatan pembelian kapal selam nuklir telah dilakukan Australia dengan AS pekan lalu. Ini merupakan tindak lanjut bergabungnya Australia dengan AUKUS, aliansi militer antara Canberra, Washington dan Inggris. Setidaknya akan ada lima kapal selam jenis Virginia dari AS ke Australia di 2030. Rudal Tomahawk sendiri bisa diluncurkan dari kapal selam itu. Kekhawatiran pun muncul terutama dari badan atom internasional, yang mengawasi nuklir. Hal itu dapat membuka jalan bagi \"aktor jahat\" untuk menghindari pengawasan nuklir di masa depan.  Kritik Kerns disuarakan Direktur Jenderal Badan Energi Atom Internasional, Rafael Grossi, minggu ini. Ia berjanji akan \"sangat menuntut\" dalam mengawasi rencana transfer dari AS ke Australia. Pejabat Australia memperkirakan biaya kapal selam antara 268 miliar dan 368 miliar dolar Australia (US$ 178-US$ 245 miliar) selama tiga dekade. Sejumlah ramalan muncul soal Perang Dunia 3. Beberapa mengaitkan dengan perang Rusia di Ukraina yang menyeret AS dan Barat. Namun ada pula yang mengaitkannya dengan situasi China dan AS di Asia termasuk soal Taiwan. Australia sendiri adalah sekutu dekat AS. \n"
          ]
        }
      ]
    },
    {
      "cell_type": "markdown",
      "source": [
        "## MEMBUAT DATAFRAME DARI INFORMASI-INFORMASI YANG TELAH DIKUMPULKAN ##\n",
        "Pada tahap ini kita akan membuat dataframe atau tabel berisi data dari informasi-informasi yang telah kita kumpulkan dengan menggunakan Library Pandas. \n",
        "\n"
      ],
      "metadata": {
        "id": "H5E9ZxddsvE0"
      }
    },
    {
      "cell_type": "code",
      "source": [
        "# Memanggil Library BeautifulSoup\n",
        "import pandas as pd\n",
        "\n",
        "# Menentukan nama kolom\n",
        "nama_kolom = ['url', 'judul', 'tanggal', 'penulis', 'isi']\n",
        "\n",
        "# Membuat list berisi data yang akan ditabulasikan\n",
        "isi_tabel = [[list_url[0], judul, tanggal, penulis, isi_clean]]\n",
        "\n",
        "# membuat dataframe\n",
        "df_berita = pd.DataFrame(isi_tabel, columns = nama_kolom)\n",
        "\n",
        "df_berita"
      ],
      "metadata": {
        "colab": {
          "base_uri": "https://localhost:8080/",
          "height": 142
        },
        "id": "rTI3bmHUtzB7",
        "outputId": "ddac4378-3343-4049-8331-f6544faa7ff4"
      },
      "execution_count": null,
      "outputs": [
        {
          "output_type": "execute_result",
          "data": {
            "text/plain": [
              "                                                 url  \\\n",
              "0  https://www.cnbcindonesia.com/news/20220705160...   \n",
              "\n",
              "                                               judul             tanggal  \\\n",
              "0  Saat Jokowi Dikeluhkan Pedagang Soal Harga Cab...  05 July 2022 16:45   \n",
              "\n",
              "                                      penulis  \\\n",
              "0  News - Chandra Gian Asmara, CNBC Indonesia   \n",
              "\n",
              "                                                 isi  \n",
              "0  Jakarta, CNBC Indonesia - Presiden Joko Widodo...  "
            ],
            "text/html": [
              "\n",
              "  <div id=\"df-41bdb715-eadd-441e-bd6d-f5b5265e7cb3\">\n",
              "    <div class=\"colab-df-container\">\n",
              "      <div>\n",
              "<style scoped>\n",
              "    .dataframe tbody tr th:only-of-type {\n",
              "        vertical-align: middle;\n",
              "    }\n",
              "\n",
              "    .dataframe tbody tr th {\n",
              "        vertical-align: top;\n",
              "    }\n",
              "\n",
              "    .dataframe thead th {\n",
              "        text-align: right;\n",
              "    }\n",
              "</style>\n",
              "<table border=\"1\" class=\"dataframe\">\n",
              "  <thead>\n",
              "    <tr style=\"text-align: right;\">\n",
              "      <th></th>\n",
              "      <th>url</th>\n",
              "      <th>judul</th>\n",
              "      <th>tanggal</th>\n",
              "      <th>penulis</th>\n",
              "      <th>isi</th>\n",
              "    </tr>\n",
              "  </thead>\n",
              "  <tbody>\n",
              "    <tr>\n",
              "      <th>0</th>\n",
              "      <td>https://www.cnbcindonesia.com/news/20220705160...</td>\n",
              "      <td>Saat Jokowi Dikeluhkan Pedagang Soal Harga Cab...</td>\n",
              "      <td>05 July 2022 16:45</td>\n",
              "      <td>News - Chandra Gian Asmara, CNBC Indonesia</td>\n",
              "      <td>Jakarta, CNBC Indonesia - Presiden Joko Widodo...</td>\n",
              "    </tr>\n",
              "  </tbody>\n",
              "</table>\n",
              "</div>\n",
              "      <button class=\"colab-df-convert\" onclick=\"convertToInteractive('df-41bdb715-eadd-441e-bd6d-f5b5265e7cb3')\"\n",
              "              title=\"Convert this dataframe to an interactive table.\"\n",
              "              style=\"display:none;\">\n",
              "        \n",
              "  <svg xmlns=\"http://www.w3.org/2000/svg\" height=\"24px\"viewBox=\"0 0 24 24\"\n",
              "       width=\"24px\">\n",
              "    <path d=\"M0 0h24v24H0V0z\" fill=\"none\"/>\n",
              "    <path d=\"M18.56 5.44l.94 2.06.94-2.06 2.06-.94-2.06-.94-.94-2.06-.94 2.06-2.06.94zm-11 1L8.5 8.5l.94-2.06 2.06-.94-2.06-.94L8.5 2.5l-.94 2.06-2.06.94zm10 10l.94 2.06.94-2.06 2.06-.94-2.06-.94-.94-2.06-.94 2.06-2.06.94z\"/><path d=\"M17.41 7.96l-1.37-1.37c-.4-.4-.92-.59-1.43-.59-.52 0-1.04.2-1.43.59L10.3 9.45l-7.72 7.72c-.78.78-.78 2.05 0 2.83L4 21.41c.39.39.9.59 1.41.59.51 0 1.02-.2 1.41-.59l7.78-7.78 2.81-2.81c.8-.78.8-2.07 0-2.86zM5.41 20L4 18.59l7.72-7.72 1.47 1.35L5.41 20z\"/>\n",
              "  </svg>\n",
              "      </button>\n",
              "      \n",
              "  <style>\n",
              "    .colab-df-container {\n",
              "      display:flex;\n",
              "      flex-wrap:wrap;\n",
              "      gap: 12px;\n",
              "    }\n",
              "\n",
              "    .colab-df-convert {\n",
              "      background-color: #E8F0FE;\n",
              "      border: none;\n",
              "      border-radius: 50%;\n",
              "      cursor: pointer;\n",
              "      display: none;\n",
              "      fill: #1967D2;\n",
              "      height: 32px;\n",
              "      padding: 0 0 0 0;\n",
              "      width: 32px;\n",
              "    }\n",
              "\n",
              "    .colab-df-convert:hover {\n",
              "      background-color: #E2EBFA;\n",
              "      box-shadow: 0px 1px 2px rgba(60, 64, 67, 0.3), 0px 1px 3px 1px rgba(60, 64, 67, 0.15);\n",
              "      fill: #174EA6;\n",
              "    }\n",
              "\n",
              "    [theme=dark] .colab-df-convert {\n",
              "      background-color: #3B4455;\n",
              "      fill: #D2E3FC;\n",
              "    }\n",
              "\n",
              "    [theme=dark] .colab-df-convert:hover {\n",
              "      background-color: #434B5C;\n",
              "      box-shadow: 0px 1px 3px 1px rgba(0, 0, 0, 0.15);\n",
              "      filter: drop-shadow(0px 1px 2px rgba(0, 0, 0, 0.3));\n",
              "      fill: #FFFFFF;\n",
              "    }\n",
              "  </style>\n",
              "\n",
              "      <script>\n",
              "        const buttonEl =\n",
              "          document.querySelector('#df-41bdb715-eadd-441e-bd6d-f5b5265e7cb3 button.colab-df-convert');\n",
              "        buttonEl.style.display =\n",
              "          google.colab.kernel.accessAllowed ? 'block' : 'none';\n",
              "\n",
              "        async function convertToInteractive(key) {\n",
              "          const element = document.querySelector('#df-41bdb715-eadd-441e-bd6d-f5b5265e7cb3');\n",
              "          const dataTable =\n",
              "            await google.colab.kernel.invokeFunction('convertToInteractive',\n",
              "                                                     [key], {});\n",
              "          if (!dataTable) return;\n",
              "\n",
              "          const docLinkHtml = 'Like what you see? Visit the ' +\n",
              "            '<a target=\"_blank\" href=https://colab.research.google.com/notebooks/data_table.ipynb>data table notebook</a>'\n",
              "            + ' to learn more about interactive tables.';\n",
              "          element.innerHTML = '';\n",
              "          dataTable['output_type'] = 'display_data';\n",
              "          await google.colab.output.renderOutput(dataTable, element);\n",
              "          const docLink = document.createElement('div');\n",
              "          docLink.innerHTML = docLinkHtml;\n",
              "          element.appendChild(docLink);\n",
              "        }\n",
              "      </script>\n",
              "    </div>\n",
              "  </div>\n",
              "  "
            ]
          },
          "metadata": {},
          "execution_count": 57
        }
      ]
    },
    {
      "cell_type": "markdown",
      "source": [
        "## MELAKUKAN ITERASI UNTUK SEMUA URL BERITA ##\n",
        "Pada tahap ini kita akan membuat iterasi untuk melakukan pengumpulan data berita dari semua URL berita yang telah kita crawling sebelumnya. \n"
      ],
      "metadata": {
        "id": "ame1d3W4upMe"
      }
    },
    {
      "cell_type": "code",
      "source": [
        "# Memanggil semua library yang digunakan\n",
        "import requests\n",
        "from bs4 import BeautifulSoup\n",
        "import pandas as pd\n",
        "\n",
        "# Inisiasi isi tabel\n",
        "isi_tabel = []\n",
        "\n",
        "# Membuat iterasi dari setiap URL berita\n",
        "for url in list_url:\n",
        "  print(f'Pengerjaan URL Berita {url}:')\n",
        "\n",
        "  # Melakukan request ke URL berita\n",
        "  r = requests.get(url)\n",
        "\n",
        "  # Mengambil HTML dari halaman website yang telah direquest\n",
        "  html_halaman = r.text\n",
        "\n",
        "  # Memanggil variabel berisi struktur HTML dari halaman CNBC yang telah direquest sebelumnya.\n",
        "  html_bs4 = BeautifulSoup(html_halaman)\n",
        "\n",
        "  # Mengambil informasi judul berita dari HTML\n",
        "  judul = html_bs4.find('h1').text\n",
        "\n",
        "  # Mengambil informasi tanggal berita dari HTML\n",
        "  tanggal = html_bs4.find('div', class_='date').text\n",
        "\n",
        "  # Mengambil informasi penulis berita dari HTML\n",
        "  penulis = html_bs4.find('div', class_='author').text\n",
        "\n",
        "  # Mengambil informasi isi berita dari HTML\n",
        "  isi = html_bs4.find('div', class_='detail_text')\n",
        "\n",
        "  ## Memecah isi berita menjadi per paragraf\n",
        "  list_paragraf = isi.find_all('p')\n",
        "  \n",
        "  ## Mengambil text dari setiap paragraf\n",
        "  list_paragraf_clean = [paragraf.text for paragraf in list_paragraf]\n",
        "\n",
        "  ## Menggabungkan list menjadi satu\n",
        "  isi_clean = ' '.join(list_paragraf_clean)\n",
        "\n",
        "  ## Membersihkan isi berita dari elemen tidak penting\n",
        "  isi_clean = isi_clean.replace('\\r\\n', '')\n",
        "  isi_clean = isi_clean.replace('ADVERTISEMENT SCROLL TO RESUME CONTENT', '')\n",
        "\n",
        "  isi_baris = [url, judul, tanggal, penulis, isi_clean]\n",
        "  isi_tabel.append(isi_baris)\n",
        "\n",
        "print('')\n",
        "\n",
        "# Membuat DataFrame\n",
        "## Menentukan nama kolom\n",
        "nama_kolom = ['url', 'judul', 'tanggal', 'penulis', 'isi']\n",
        "\n",
        "## Inisiasi dataframe\n",
        "df_berita = pd.DataFrame(isi_tabel, columns = nama_kolom)\n",
        "\n",
        "df_berita"
      ],
      "metadata": {
        "colab": {
          "base_uri": "https://localhost:8080/",
          "height": 316
        },
        "id": "H4YzJ4lIt4au",
        "outputId": "1a3b6dae-6020-45be-f822-6f5318353cd1"
      },
      "execution_count": null,
      "outputs": [
        {
          "output_type": "stream",
          "name": "stdout",
          "text": [
            "Pengerjaan URL Berita https://www.cnbcindonesia.com/news/20220705160145-4-353138/saat-jokowi-dikeluhkan-pedagang-soal-harga-cabai-menggila:\n",
            "Pengerjaan URL Berita https://www.cnbcindonesia.com/news/20220705141830-4-353106/zulhas-bilang-harga-pangan-menggila-petani-untung-beneran:\n",
            "Pengerjaan URL Berita https://www.cnbcindonesia.com/news/20220705132446-4-353088/heboh-petani-ri-jual-sawit-ke-malaysia-ini-biang-keroknya:\n",
            "Pengerjaan URL Berita https://www.cnbcindonesia.com/news/20220705112318-4-353041/jadi-syarat-ekspor-minyak-sawit-besok-zulhas-rilis-minyakita:\n",
            "Pengerjaan URL Berita https://www.cnbcindonesia.com/news/20220705093458-4-353009/begini-klaim-zulhas-soal-harga-minyak-goreng-turun:\n",
            "\n"
          ]
        },
        {
          "output_type": "execute_result",
          "data": {
            "text/plain": [
              "                                                 url  \\\n",
              "0  https://www.cnbcindonesia.com/news/20220705160...   \n",
              "1  https://www.cnbcindonesia.com/news/20220705141...   \n",
              "2  https://www.cnbcindonesia.com/news/20220705132...   \n",
              "3  https://www.cnbcindonesia.com/news/20220705112...   \n",
              "4  https://www.cnbcindonesia.com/news/20220705093...   \n",
              "\n",
              "                                               judul             tanggal  \\\n",
              "0  Saat Jokowi Dikeluhkan Pedagang Soal Harga Cab...  05 July 2022 16:45   \n",
              "1  Zulhas Bilang Harga Pangan Menggila Petani Unt...  05 July 2022 14:40   \n",
              "2  Heboh Petani RI Jual Sawit ke Malaysia, Ini Bi...  05 July 2022 13:55   \n",
              "3  Jadi Syarat Ekspor Minyak Sawit, Besok Zulhas ...  05 July 2022 12:05   \n",
              "4  Begini Klaim Zulhas Soal Harga Minyak Goreng T...  05 July 2022 10:45   \n",
              "\n",
              "                                      penulis  \\\n",
              "0  News - Chandra Gian Asmara, CNBC Indonesia   \n",
              "1   News - Damiana Cut Emeria, CNBC Indonesia   \n",
              "2          News - Ferry Sandi, CNBC Indonesia   \n",
              "3          News - Ferry Sandi, CNBC Indonesia   \n",
              "4          News - Ferry Sandi, CNBC Indonesia   \n",
              "\n",
              "                                                 isi  \n",
              "0  Jakarta, CNBC Indonesia - Presiden Joko Widodo...  \n",
              "1  Jakarta, CNBC Indonesia - Menteri Perdagangan ...  \n",
              "2  Jakarta, CNBC Indonesia - Sebagian kalangan pe...  \n",
              "3  Jakarta, CNBC Indonesia - Menteri Perdagangan ...  \n",
              "4  Jakarta, CNBC Indonesia - Menteri Perdagangan ...  "
            ],
            "text/html": [
              "\n",
              "  <div id=\"df-73b93112-c876-4880-91dd-b5092d53e0db\">\n",
              "    <div class=\"colab-df-container\">\n",
              "      <div>\n",
              "<style scoped>\n",
              "    .dataframe tbody tr th:only-of-type {\n",
              "        vertical-align: middle;\n",
              "    }\n",
              "\n",
              "    .dataframe tbody tr th {\n",
              "        vertical-align: top;\n",
              "    }\n",
              "\n",
              "    .dataframe thead th {\n",
              "        text-align: right;\n",
              "    }\n",
              "</style>\n",
              "<table border=\"1\" class=\"dataframe\">\n",
              "  <thead>\n",
              "    <tr style=\"text-align: right;\">\n",
              "      <th></th>\n",
              "      <th>url</th>\n",
              "      <th>judul</th>\n",
              "      <th>tanggal</th>\n",
              "      <th>penulis</th>\n",
              "      <th>isi</th>\n",
              "    </tr>\n",
              "  </thead>\n",
              "  <tbody>\n",
              "    <tr>\n",
              "      <th>0</th>\n",
              "      <td>https://www.cnbcindonesia.com/news/20220705160...</td>\n",
              "      <td>Saat Jokowi Dikeluhkan Pedagang Soal Harga Cab...</td>\n",
              "      <td>05 July 2022 16:45</td>\n",
              "      <td>News - Chandra Gian Asmara, CNBC Indonesia</td>\n",
              "      <td>Jakarta, CNBC Indonesia - Presiden Joko Widodo...</td>\n",
              "    </tr>\n",
              "    <tr>\n",
              "      <th>1</th>\n",
              "      <td>https://www.cnbcindonesia.com/news/20220705141...</td>\n",
              "      <td>Zulhas Bilang Harga Pangan Menggila Petani Unt...</td>\n",
              "      <td>05 July 2022 14:40</td>\n",
              "      <td>News - Damiana Cut Emeria, CNBC Indonesia</td>\n",
              "      <td>Jakarta, CNBC Indonesia - Menteri Perdagangan ...</td>\n",
              "    </tr>\n",
              "    <tr>\n",
              "      <th>2</th>\n",
              "      <td>https://www.cnbcindonesia.com/news/20220705132...</td>\n",
              "      <td>Heboh Petani RI Jual Sawit ke Malaysia, Ini Bi...</td>\n",
              "      <td>05 July 2022 13:55</td>\n",
              "      <td>News - Ferry Sandi, CNBC Indonesia</td>\n",
              "      <td>Jakarta, CNBC Indonesia - Sebagian kalangan pe...</td>\n",
              "    </tr>\n",
              "    <tr>\n",
              "      <th>3</th>\n",
              "      <td>https://www.cnbcindonesia.com/news/20220705112...</td>\n",
              "      <td>Jadi Syarat Ekspor Minyak Sawit, Besok Zulhas ...</td>\n",
              "      <td>05 July 2022 12:05</td>\n",
              "      <td>News - Ferry Sandi, CNBC Indonesia</td>\n",
              "      <td>Jakarta, CNBC Indonesia - Menteri Perdagangan ...</td>\n",
              "    </tr>\n",
              "    <tr>\n",
              "      <th>4</th>\n",
              "      <td>https://www.cnbcindonesia.com/news/20220705093...</td>\n",
              "      <td>Begini Klaim Zulhas Soal Harga Minyak Goreng T...</td>\n",
              "      <td>05 July 2022 10:45</td>\n",
              "      <td>News - Ferry Sandi, CNBC Indonesia</td>\n",
              "      <td>Jakarta, CNBC Indonesia - Menteri Perdagangan ...</td>\n",
              "    </tr>\n",
              "  </tbody>\n",
              "</table>\n",
              "</div>\n",
              "      <button class=\"colab-df-convert\" onclick=\"convertToInteractive('df-73b93112-c876-4880-91dd-b5092d53e0db')\"\n",
              "              title=\"Convert this dataframe to an interactive table.\"\n",
              "              style=\"display:none;\">\n",
              "        \n",
              "  <svg xmlns=\"http://www.w3.org/2000/svg\" height=\"24px\"viewBox=\"0 0 24 24\"\n",
              "       width=\"24px\">\n",
              "    <path d=\"M0 0h24v24H0V0z\" fill=\"none\"/>\n",
              "    <path d=\"M18.56 5.44l.94 2.06.94-2.06 2.06-.94-2.06-.94-.94-2.06-.94 2.06-2.06.94zm-11 1L8.5 8.5l.94-2.06 2.06-.94-2.06-.94L8.5 2.5l-.94 2.06-2.06.94zm10 10l.94 2.06.94-2.06 2.06-.94-2.06-.94-.94-2.06-.94 2.06-2.06.94z\"/><path d=\"M17.41 7.96l-1.37-1.37c-.4-.4-.92-.59-1.43-.59-.52 0-1.04.2-1.43.59L10.3 9.45l-7.72 7.72c-.78.78-.78 2.05 0 2.83L4 21.41c.39.39.9.59 1.41.59.51 0 1.02-.2 1.41-.59l7.78-7.78 2.81-2.81c.8-.78.8-2.07 0-2.86zM5.41 20L4 18.59l7.72-7.72 1.47 1.35L5.41 20z\"/>\n",
              "  </svg>\n",
              "      </button>\n",
              "      \n",
              "  <style>\n",
              "    .colab-df-container {\n",
              "      display:flex;\n",
              "      flex-wrap:wrap;\n",
              "      gap: 12px;\n",
              "    }\n",
              "\n",
              "    .colab-df-convert {\n",
              "      background-color: #E8F0FE;\n",
              "      border: none;\n",
              "      border-radius: 50%;\n",
              "      cursor: pointer;\n",
              "      display: none;\n",
              "      fill: #1967D2;\n",
              "      height: 32px;\n",
              "      padding: 0 0 0 0;\n",
              "      width: 32px;\n",
              "    }\n",
              "\n",
              "    .colab-df-convert:hover {\n",
              "      background-color: #E2EBFA;\n",
              "      box-shadow: 0px 1px 2px rgba(60, 64, 67, 0.3), 0px 1px 3px 1px rgba(60, 64, 67, 0.15);\n",
              "      fill: #174EA6;\n",
              "    }\n",
              "\n",
              "    [theme=dark] .colab-df-convert {\n",
              "      background-color: #3B4455;\n",
              "      fill: #D2E3FC;\n",
              "    }\n",
              "\n",
              "    [theme=dark] .colab-df-convert:hover {\n",
              "      background-color: #434B5C;\n",
              "      box-shadow: 0px 1px 3px 1px rgba(0, 0, 0, 0.15);\n",
              "      filter: drop-shadow(0px 1px 2px rgba(0, 0, 0, 0.3));\n",
              "      fill: #FFFFFF;\n",
              "    }\n",
              "  </style>\n",
              "\n",
              "      <script>\n",
              "        const buttonEl =\n",
              "          document.querySelector('#df-73b93112-c876-4880-91dd-b5092d53e0db button.colab-df-convert');\n",
              "        buttonEl.style.display =\n",
              "          google.colab.kernel.accessAllowed ? 'block' : 'none';\n",
              "\n",
              "        async function convertToInteractive(key) {\n",
              "          const element = document.querySelector('#df-73b93112-c876-4880-91dd-b5092d53e0db');\n",
              "          const dataTable =\n",
              "            await google.colab.kernel.invokeFunction('convertToInteractive',\n",
              "                                                     [key], {});\n",
              "          if (!dataTable) return;\n",
              "\n",
              "          const docLinkHtml = 'Like what you see? Visit the ' +\n",
              "            '<a target=\"_blank\" href=https://colab.research.google.com/notebooks/data_table.ipynb>data table notebook</a>'\n",
              "            + ' to learn more about interactive tables.';\n",
              "          element.innerHTML = '';\n",
              "          dataTable['output_type'] = 'display_data';\n",
              "          await google.colab.output.renderOutput(dataTable, element);\n",
              "          const docLink = document.createElement('div');\n",
              "          docLink.innerHTML = docLinkHtml;\n",
              "          element.appendChild(docLink);\n",
              "        }\n",
              "      </script>\n",
              "    </div>\n",
              "  </div>\n",
              "  "
            ]
          },
          "metadata": {},
          "execution_count": 35
        }
      ]
    }
  ]
}